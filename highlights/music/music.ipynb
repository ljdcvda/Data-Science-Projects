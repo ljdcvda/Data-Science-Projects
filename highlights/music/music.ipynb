{
 "cells": [
  {
   "cell_type": "markdown",
   "metadata": {},
   "source": [
    "# Answering business questions using SQL queries\n",
    "Data about the fictional \"Chinook Music Store\" is located in a file called chinook.db, a locally stored SQL database. The goal of this project is to answer questions pertaining to this data, by using the power of sqlite to perform complex SQL queries easily. The schema of the database is shown here:\n",
    "\n",
    "![Chinook music store database schema](chinook-schema.svg)\n",
    "\n",
    "## Setting up helper functions\n",
    "We'll use sqlite to interact with the SQL database, and pandas to store the results of the queries. First, let's set up some helper functions to make running queries and commands easier, and to explore the tables in the database."
   ]
  },
  {
   "cell_type": "code",
   "execution_count": 3,
   "metadata": {},
   "outputs": [
    {
     "data": {
      "text/html": [
       "<div>\n",
       "<style scoped>\n",
       "    .dataframe tbody tr th:only-of-type {\n",
       "        vertical-align: middle;\n",
       "    }\n",
       "\n",
       "    .dataframe tbody tr th {\n",
       "        vertical-align: top;\n",
       "    }\n",
       "\n",
       "    .dataframe thead th {\n",
       "        text-align: right;\n",
       "    }\n",
       "</style>\n",
       "<table border=\"1\" class=\"dataframe\">\n",
       "  <thead>\n",
       "    <tr style=\"text-align: right;\">\n",
       "      <th></th>\n",
       "      <th>name</th>\n",
       "      <th>type</th>\n",
       "    </tr>\n",
       "  </thead>\n",
       "  <tbody>\n",
       "    <tr>\n",
       "      <th>0</th>\n",
       "      <td>album</td>\n",
       "      <td>table</td>\n",
       "    </tr>\n",
       "    <tr>\n",
       "      <th>1</th>\n",
       "      <td>artist</td>\n",
       "      <td>table</td>\n",
       "    </tr>\n",
       "    <tr>\n",
       "      <th>2</th>\n",
       "      <td>customer</td>\n",
       "      <td>table</td>\n",
       "    </tr>\n",
       "    <tr>\n",
       "      <th>3</th>\n",
       "      <td>employee</td>\n",
       "      <td>table</td>\n",
       "    </tr>\n",
       "    <tr>\n",
       "      <th>4</th>\n",
       "      <td>genre</td>\n",
       "      <td>table</td>\n",
       "    </tr>\n",
       "    <tr>\n",
       "      <th>5</th>\n",
       "      <td>invoice</td>\n",
       "      <td>table</td>\n",
       "    </tr>\n",
       "    <tr>\n",
       "      <th>6</th>\n",
       "      <td>invoice_line</td>\n",
       "      <td>table</td>\n",
       "    </tr>\n",
       "    <tr>\n",
       "      <th>7</th>\n",
       "      <td>media_type</td>\n",
       "      <td>table</td>\n",
       "    </tr>\n",
       "    <tr>\n",
       "      <th>8</th>\n",
       "      <td>playlist</td>\n",
       "      <td>table</td>\n",
       "    </tr>\n",
       "    <tr>\n",
       "      <th>9</th>\n",
       "      <td>playlist_track</td>\n",
       "      <td>table</td>\n",
       "    </tr>\n",
       "    <tr>\n",
       "      <th>10</th>\n",
       "      <td>track</td>\n",
       "      <td>table</td>\n",
       "    </tr>\n",
       "  </tbody>\n",
       "</table>\n",
       "</div>"
      ],
      "text/plain": [
       "              name   type\n",
       "0            album  table\n",
       "1           artist  table\n",
       "2         customer  table\n",
       "3         employee  table\n",
       "4            genre  table\n",
       "5          invoice  table\n",
       "6     invoice_line  table\n",
       "7       media_type  table\n",
       "8         playlist  table\n",
       "9   playlist_track  table\n",
       "10           track  table"
      ]
     },
     "execution_count": 3,
     "metadata": {},
     "output_type": "execute_result"
    }
   ],
   "source": [
    "import sqlite3\n",
    "import pandas as pd\n",
    "\n",
    "def run_query(q):\n",
    "    with sqlite3.connect('chinook.db') as conn:\n",
    "        return pd.read_sql(q, conn)\n",
    "\n",
    "    \n",
    "def run_command(c):\n",
    "    with sqlite3.connect('chinook.db') as conn:\n",
    "        conn.isolation_level = None\n",
    "        conn.execute(c)\n",
    "\n",
    "def show_tables():\n",
    "    q = \"SELECT name, type FROM sqlite_master WHERE type IN ('table','view');\"\n",
    "    return run_query(q)\n",
    "\n",
    "show_tables()"
   ]
  },
  {
   "cell_type": "markdown",
   "metadata": {},
   "source": [
    "## Question 1\n",
    "Four new artists are available to be sold on the store. Which should be contracted with? We are interested in selling in the USA, and therefore want to identify the genres that sell best there. The four artists and their genres are:\n",
    "* Regal, Hip-Hop\n",
    "* Red Tone, Punk\n",
    "* Meteor and the Girls, Pop\n",
    "* Slim Jim Bites, Blues\n",
    "\n",
    "To find out which genres sell best in the USA, we have to join the tables corresponding to invoices (individual sales), customers (to identify the USA ones and filter accordingly), invoice lines (to account for all the tracks sold in a single purchase), tracks (to locate the genre id), and genres (to identify the genre name), and group up the results on the genre, and sum up the total for each. Then, we can calculate the proportion of that genre relative to all the sales."
   ]
  },
  {
   "cell_type": "code",
   "execution_count": 8,
   "metadata": {},
   "outputs": [
    {
     "data": {
      "text/html": [
       "<div>\n",
       "<style scoped>\n",
       "    .dataframe tbody tr th:only-of-type {\n",
       "        vertical-align: middle;\n",
       "    }\n",
       "\n",
       "    .dataframe tbody tr th {\n",
       "        vertical-align: top;\n",
       "    }\n",
       "\n",
       "    .dataframe thead th {\n",
       "        text-align: right;\n",
       "    }\n",
       "</style>\n",
       "<table border=\"1\" class=\"dataframe\">\n",
       "  <thead>\n",
       "    <tr style=\"text-align: right;\">\n",
       "      <th></th>\n",
       "      <th>total_sold</th>\n",
       "      <th>percentage_sold</th>\n",
       "    </tr>\n",
       "    <tr>\n",
       "      <th>name</th>\n",
       "      <th></th>\n",
       "      <th></th>\n",
       "    </tr>\n",
       "  </thead>\n",
       "  <tbody>\n",
       "    <tr>\n",
       "      <th>Alternative</th>\n",
       "      <td>35</td>\n",
       "      <td>3.330</td>\n",
       "    </tr>\n",
       "    <tr>\n",
       "      <th>Alternative &amp; Punk</th>\n",
       "      <td>130</td>\n",
       "      <td>12.369</td>\n",
       "    </tr>\n",
       "    <tr>\n",
       "      <th>Blues</th>\n",
       "      <td>36</td>\n",
       "      <td>3.425</td>\n",
       "    </tr>\n",
       "    <tr>\n",
       "      <th>Classical</th>\n",
       "      <td>4</td>\n",
       "      <td>0.381</td>\n",
       "    </tr>\n",
       "    <tr>\n",
       "      <th>Easy Listening</th>\n",
       "      <td>13</td>\n",
       "      <td>1.237</td>\n",
       "    </tr>\n",
       "    <tr>\n",
       "      <th>Electronica/Dance</th>\n",
       "      <td>5</td>\n",
       "      <td>0.476</td>\n",
       "    </tr>\n",
       "    <tr>\n",
       "      <th>Heavy Metal</th>\n",
       "      <td>3</td>\n",
       "      <td>0.285</td>\n",
       "    </tr>\n",
       "    <tr>\n",
       "      <th>Hip Hop/Rap</th>\n",
       "      <td>20</td>\n",
       "      <td>1.903</td>\n",
       "    </tr>\n",
       "    <tr>\n",
       "      <th>Jazz</th>\n",
       "      <td>14</td>\n",
       "      <td>1.332</td>\n",
       "    </tr>\n",
       "    <tr>\n",
       "      <th>Latin</th>\n",
       "      <td>22</td>\n",
       "      <td>2.093</td>\n",
       "    </tr>\n",
       "    <tr>\n",
       "      <th>Metal</th>\n",
       "      <td>124</td>\n",
       "      <td>11.798</td>\n",
       "    </tr>\n",
       "    <tr>\n",
       "      <th>Pop</th>\n",
       "      <td>22</td>\n",
       "      <td>2.093</td>\n",
       "    </tr>\n",
       "    <tr>\n",
       "      <th>R&amp;B/Soul</th>\n",
       "      <td>53</td>\n",
       "      <td>5.043</td>\n",
       "    </tr>\n",
       "    <tr>\n",
       "      <th>Reggae</th>\n",
       "      <td>6</td>\n",
       "      <td>0.571</td>\n",
       "    </tr>\n",
       "    <tr>\n",
       "      <th>Rock</th>\n",
       "      <td>561</td>\n",
       "      <td>53.378</td>\n",
       "    </tr>\n",
       "    <tr>\n",
       "      <th>Soundtrack</th>\n",
       "      <td>2</td>\n",
       "      <td>0.190</td>\n",
       "    </tr>\n",
       "    <tr>\n",
       "      <th>TV Shows</th>\n",
       "      <td>1</td>\n",
       "      <td>0.095</td>\n",
       "    </tr>\n",
       "  </tbody>\n",
       "</table>\n",
       "</div>"
      ],
      "text/plain": [
       "                    total_sold  percentage_sold\n",
       "name                                           \n",
       "Alternative                 35            3.330\n",
       "Alternative & Punk         130           12.369\n",
       "Blues                       36            3.425\n",
       "Classical                    4            0.381\n",
       "Easy Listening              13            1.237\n",
       "Electronica/Dance            5            0.476\n",
       "Heavy Metal                  3            0.285\n",
       "Hip Hop/Rap                 20            1.903\n",
       "Jazz                        14            1.332\n",
       "Latin                       22            2.093\n",
       "Metal                      124           11.798\n",
       "Pop                         22            2.093\n",
       "R&B/Soul                    53            5.043\n",
       "Reggae                       6            0.571\n",
       "Rock                       561           53.378\n",
       "Soundtrack                   2            0.190\n",
       "TV Shows                     1            0.095"
      ]
     },
     "execution_count": 8,
     "metadata": {},
     "output_type": "execute_result"
    }
   ],
   "source": [
    "query_genres = \"\"\"\n",
    "WITH subquery AS \n",
    "    (SELECT g.name, COUNT(*) total_sold\n",
    "    FROM invoice i\n",
    "    LEFT JOIN customer c ON c.customer_id = i.customer_id\n",
    "    LEFT JOIN invoice_line il ON il.invoice_id = i.invoice_id\n",
    "    LEFT JOIN track t ON t.track_id = il.track_id\n",
    "    LEFT JOIN genre g ON g.genre_id = t.genre_id\n",
    "    WHERE c.country = \"USA\"\n",
    "    GROUP BY g.name)\n",
    "SELECT *, ROUND(100*total_sold / (SELECT TOTAL(total_sold) from subquery),3) percentage_sold\n",
    "FROM subquery\"\"\"\n",
    "question_1 = run_query(query_genres).set_index('name')\n",
    "question_1"
   ]
  },
  {
   "cell_type": "markdown",
   "metadata": {},
   "source": [
    "Let's visualize these results in a bar plot."
   ]
  },
  {
   "cell_type": "code",
   "execution_count": 10,
   "metadata": {},
   "outputs": [
    {
     "data": {
      "text/plain": [
       "<matplotlib.axes._subplots.AxesSubplot at 0x1ba4ff35390>"
      ]
     },
     "execution_count": 10,
     "metadata": {},
     "output_type": "execute_result"
    },
    {
     "data": {
      "image/png": "[encoded data removed]",
      "text/plain": [
       "<Figure size 432x288 with 1 Axes>"
      ]
     },
     "metadata": {
      "needs_background": "light"
     },
     "output_type": "display_data"
    }
   ],
   "source": [
    "import matplotlib.pyplot as plt\n",
    "%matplotlib inline\n",
    "question_1.sort_values('total_sold').plot.barh(y='total_sold')"
   ]
  },
  {
   "cell_type": "markdown",
   "metadata": {},
   "source": [
    "Rock, alternative, and metal are the vast majority of sales. Therefore, the priority should be to add Red Tone, a punk band, to the store."
   ]
  },
  {
   "cell_type": "markdown",
   "metadata": {},
   "source": [
    "## Question 2\n",
    "Each customer is linked with a employee when they first make a purchase. Is any employee performing better or worse?\n",
    "\n",
    "To do this, we sum the total dollar amount of sales corresponding to each agent, by joining the invoices to the customer and employee tables, which give us some additional info such as country, age, and time in the company."
   ]
  },
  {
   "cell_type": "code",
   "execution_count": 15,
   "metadata": {
    "scrolled": false
   },
   "outputs": [
    {
     "data": {
      "text/html": [
       "<div>\n",
       "<style scoped>\n",
       "    .dataframe tbody tr th:only-of-type {\n",
       "        vertical-align: middle;\n",
       "    }\n",
       "\n",
       "    .dataframe tbody tr th {\n",
       "        vertical-align: top;\n",
       "    }\n",
       "\n",
       "    .dataframe thead th {\n",
       "        text-align: right;\n",
       "    }\n",
       "</style>\n",
       "<table border=\"1\" class=\"dataframe\">\n",
       "  <thead>\n",
       "    <tr style=\"text-align: right;\">\n",
       "      <th></th>\n",
       "      <th>country</th>\n",
       "      <th>birthdate</th>\n",
       "      <th>hire_date</th>\n",
       "      <th>total_sales</th>\n",
       "    </tr>\n",
       "    <tr>\n",
       "      <th>employee_name</th>\n",
       "      <th></th>\n",
       "      <th></th>\n",
       "      <th></th>\n",
       "      <th></th>\n",
       "    </tr>\n",
       "  </thead>\n",
       "  <tbody>\n",
       "    <tr>\n",
       "      <th>Jane Peacock</th>\n",
       "      <td>Canada</td>\n",
       "      <td>1973-08-29 00:00:00</td>\n",
       "      <td>2017-04-01 00:00:00</td>\n",
       "      <td>1731.51</td>\n",
       "    </tr>\n",
       "    <tr>\n",
       "      <th>Margaret Park</th>\n",
       "      <td>Canada</td>\n",
       "      <td>1947-09-19 00:00:00</td>\n",
       "      <td>2017-05-03 00:00:00</td>\n",
       "      <td>1584.00</td>\n",
       "    </tr>\n",
       "    <tr>\n",
       "      <th>Steve Johnson</th>\n",
       "      <td>Canada</td>\n",
       "      <td>1965-03-03 00:00:00</td>\n",
       "      <td>2017-10-17 00:00:00</td>\n",
       "      <td>1393.92</td>\n",
       "    </tr>\n",
       "  </tbody>\n",
       "</table>\n",
       "</div>"
      ],
      "text/plain": [
       "              country            birthdate            hire_date  total_sales\n",
       "employee_name                                                               \n",
       "Jane Peacock   Canada  1973-08-29 00:00:00  2017-04-01 00:00:00      1731.51\n",
       "Margaret Park  Canada  1947-09-19 00:00:00  2017-05-03 00:00:00      1584.00\n",
       "Steve Johnson  Canada  1965-03-03 00:00:00  2017-10-17 00:00:00      1393.92"
      ]
     },
     "execution_count": 15,
     "metadata": {},
     "output_type": "execute_result"
    }
   ],
   "source": [
    "query_agent = \"\"\"\n",
    "SELECT\n",
    "    e.first_name || \" \" || e.last_name employee_name,\n",
    "    e.country,\n",
    "    e.birthdate,\n",
    "    e.hire_date,\n",
    "    TOTAL(i.total) total_sales\n",
    "FROM invoice i\n",
    "INNER JOIN customer c ON c.customer_id = i.customer_id\n",
    "INNER JOIN employee e ON e.employee_id = c.support_rep_id\n",
    "GROUP BY 1\n",
    "\"\"\"\n",
    "question_2 = run_query(query_agent).set_index('employee_name')\n",
    "question_2"
   ]
  },
  {
   "cell_type": "code",
   "execution_count": 17,
   "metadata": {
    "scrolled": true
   },
   "outputs": [
    {
     "data": {
      "text/plain": [
       "<matplotlib.axes._subplots.AxesSubplot at 0x1ba5016a6d8>"
      ]
     },
     "execution_count": 17,
     "metadata": {},
     "output_type": "execute_result"
    },
    {
     "data": {
      "image/png": "[encoded data removed]",
      "text/plain": [
       "<Figure size 432x288 with 1 Axes>"
      ]
     },
     "metadata": {
      "needs_background": "light"
     },
     "output_type": "display_data"
    }
   ],
   "source": [
    "question_2.plot.bar()"
   ]
  },
  {
   "cell_type": "code",
   "execution_count": 18,
   "metadata": {},
   "outputs": [
    {
     "data": {
      "text/plain": [
       "<matplotlib.axes._subplots.AxesSubplot at 0x1ba500fe4e0>"
      ]
     },
     "execution_count": 18,
     "metadata": {},
     "output_type": "execute_result"
    },
    {
     "data": {
      "image/png": "[encoded data removed]",
      "text/plain": [
       "<Figure size 432x288 with 1 Axes>"
      ]
     },
     "metadata": {
      "needs_background": "light"
     },
     "output_type": "display_data"
    }
   ],
   "source": [
    "question_2.plot(x='hire_date',y='total_sales')"
   ]
  },
  {
   "cell_type": "markdown",
   "metadata": {},
   "source": [
    "The three employees dont have too different sales results, but the one hired earliest as the most sales, as expected. No employee is performing much better or worse than any other."
   ]
  },
  {
   "cell_type": "markdown",
   "metadata": {},
   "source": [
    "## Question 3\n",
    "To identify the best markets for potential future growth, we want to visualize, for each country:\n",
    "* total number of customers\n",
    "* total value of sales\n",
    "* average money spent per customer\n",
    "* average order value\n",
    "\n",
    "Countries with just one customer will be regrouped as \"Other\". To do this, the SQL query is quite complex:\n",
    "* First, join invoice and customer, to add up sale and distinct customer totals while grouping by country\n",
    "* add a column in which countries with 1 total customer are labelled as Other\n",
    "* group the data by this new column and add up the totals once again\n",
    "* include a sorting column that only takes the value 1 for the Other countries, forcing it to take last place when sorting\n",
    "* calculate the averages"
   ]
  },
  {
   "cell_type": "code",
   "execution_count": 48,
   "metadata": {
    "scrolled": true
   },
   "outputs": [
    {
     "data": {
      "text/html": [
       "<div>\n",
       "<style scoped>\n",
       "    .dataframe tbody tr th:only-of-type {\n",
       "        vertical-align: middle;\n",
       "    }\n",
       "\n",
       "    .dataframe tbody tr th {\n",
       "        vertical-align: top;\n",
       "    }\n",
       "\n",
       "    .dataframe thead th {\n",
       "        text-align: right;\n",
       "    }\n",
       "</style>\n",
       "<table border=\"1\" class=\"dataframe\">\n",
       "  <thead>\n",
       "    <tr style=\"text-align: right;\">\n",
       "      <th></th>\n",
       "      <th>total_customers</th>\n",
       "      <th>total_sales</th>\n",
       "      <th>total_invoices</th>\n",
       "      <th>avg_money_spent</th>\n",
       "      <th>avg_order_value</th>\n",
       "    </tr>\n",
       "    <tr>\n",
       "      <th>country</th>\n",
       "      <th></th>\n",
       "      <th></th>\n",
       "      <th></th>\n",
       "      <th></th>\n",
       "      <th></th>\n",
       "    </tr>\n",
       "  </thead>\n",
       "  <tbody>\n",
       "    <tr>\n",
       "      <th>USA</th>\n",
       "      <td>13</td>\n",
       "      <td>1040.49</td>\n",
       "      <td>131</td>\n",
       "      <td>80.037692</td>\n",
       "      <td>7.942672</td>\n",
       "    </tr>\n",
       "    <tr>\n",
       "      <th>Canada</th>\n",
       "      <td>8</td>\n",
       "      <td>535.59</td>\n",
       "      <td>76</td>\n",
       "      <td>66.948750</td>\n",
       "      <td>7.047237</td>\n",
       "    </tr>\n",
       "    <tr>\n",
       "      <th>Brazil</th>\n",
       "      <td>5</td>\n",
       "      <td>427.68</td>\n",
       "      <td>61</td>\n",
       "      <td>85.536000</td>\n",
       "      <td>7.011148</td>\n",
       "    </tr>\n",
       "    <tr>\n",
       "      <th>France</th>\n",
       "      <td>5</td>\n",
       "      <td>389.07</td>\n",
       "      <td>50</td>\n",
       "      <td>77.814000</td>\n",
       "      <td>7.781400</td>\n",
       "    </tr>\n",
       "    <tr>\n",
       "      <th>Germany</th>\n",
       "      <td>4</td>\n",
       "      <td>334.62</td>\n",
       "      <td>41</td>\n",
       "      <td>83.655000</td>\n",
       "      <td>8.161463</td>\n",
       "    </tr>\n",
       "    <tr>\n",
       "      <th>Czech Republic</th>\n",
       "      <td>2</td>\n",
       "      <td>273.24</td>\n",
       "      <td>30</td>\n",
       "      <td>136.620000</td>\n",
       "      <td>9.108000</td>\n",
       "    </tr>\n",
       "    <tr>\n",
       "      <th>United Kingdom</th>\n",
       "      <td>3</td>\n",
       "      <td>245.52</td>\n",
       "      <td>28</td>\n",
       "      <td>81.840000</td>\n",
       "      <td>8.768571</td>\n",
       "    </tr>\n",
       "    <tr>\n",
       "      <th>Portugal</th>\n",
       "      <td>2</td>\n",
       "      <td>185.13</td>\n",
       "      <td>29</td>\n",
       "      <td>92.565000</td>\n",
       "      <td>6.383793</td>\n",
       "    </tr>\n",
       "    <tr>\n",
       "      <th>India</th>\n",
       "      <td>2</td>\n",
       "      <td>183.15</td>\n",
       "      <td>21</td>\n",
       "      <td>91.575000</td>\n",
       "      <td>8.721429</td>\n",
       "    </tr>\n",
       "    <tr>\n",
       "      <th>Other</th>\n",
       "      <td>15</td>\n",
       "      <td>1094.94</td>\n",
       "      <td>147</td>\n",
       "      <td>72.996000</td>\n",
       "      <td>7.448571</td>\n",
       "    </tr>\n",
       "  </tbody>\n",
       "</table>\n",
       "</div>"
      ],
      "text/plain": [
       "                total_customers  total_sales  total_invoices  avg_money_spent  \\\n",
       "country                                                                         \n",
       "USA                          13      1040.49             131        80.037692   \n",
       "Canada                        8       535.59              76        66.948750   \n",
       "Brazil                        5       427.68              61        85.536000   \n",
       "France                        5       389.07              50        77.814000   \n",
       "Germany                       4       334.62              41        83.655000   \n",
       "Czech Republic                2       273.24              30       136.620000   \n",
       "United Kingdom                3       245.52              28        81.840000   \n",
       "Portugal                      2       185.13              29        92.565000   \n",
       "India                         2       183.15              21        91.575000   \n",
       "Other                        15      1094.94             147        72.996000   \n",
       "\n",
       "                avg_order_value  \n",
       "country                          \n",
       "USA                    7.942672  \n",
       "Canada                 7.047237  \n",
       "Brazil                 7.011148  \n",
       "France                 7.781400  \n",
       "Germany                8.161463  \n",
       "Czech Republic         9.108000  \n",
       "United Kingdom         8.768571  \n",
       "Portugal               6.383793  \n",
       "India                  8.721429  \n",
       "Other                  7.448571  "
      ]
     },
     "execution_count": 48,
     "metadata": {},
     "output_type": "execute_result"
    }
   ],
   "source": [
    "query_country = \"\"\"\n",
    "WITH all_countries AS\n",
    "    (SELECT\n",
    "        c.country,\n",
    "        COUNT(DISTINCT(c.customer_id)) total_customers,\n",
    "        TOTAL(i.total) total_sales,\n",
    "        COUNT(DISTINCT(i.invoice_id)) total_invoices\n",
    "    FROM customer c\n",
    "    INNER JOIN invoice i ON i.customer_id = c.customer_id\n",
    "    GROUP BY 1),\n",
    "    \n",
    "    regroup AS\n",
    "    (SELECT\n",
    "        CASE\n",
    "            WHEN total_customers = 1 THEN \"Other\"\n",
    "            ELSE country\n",
    "        END \n",
    "        AS country_regrouped,\n",
    "        a.country,\n",
    "        a.total_customers,\n",
    "        a.total_sales,\n",
    "        a.total_invoices\n",
    "    FROM all_countries a),\n",
    "    \n",
    "    add_up AS\n",
    "    (SELECT \n",
    "        country_regrouped,\n",
    "        SUM(total_customers) total_customers,\n",
    "        SUM(total_sales) total_sales,\n",
    "        CASE\n",
    "            WHEN country_regrouped = 'Other' THEN 1\n",
    "            ELSE 0\n",
    "        END as sorting_col,\n",
    "        SUM(total_invoices) total_invoices\n",
    "    FROM regroup\n",
    "    GROUP BY 1\n",
    "    ORDER BY 3 DESC\n",
    "    )    \n",
    "\n",
    "SELECT \n",
    "    country_regrouped country,\n",
    "    total_customers,\n",
    "    total_sales,\n",
    "    total_invoices,\n",
    "    total_sales / total_customers avg_money_spent,\n",
    "    total_sales / total_invoices avg_order_value\n",
    "FROM add_up\n",
    "ORDER BY sorting_col\n",
    "\n",
    "\"\"\"\n",
    "question_3 = run_query(query_country).set_index('country')\n",
    "question_3"
   ]
  },
  {
   "cell_type": "code",
   "execution_count": 34,
   "metadata": {},
   "outputs": [
    {
     "data": {
      "text/plain": [
       "Text(0.5, 1.0, 'Customers per Country')"
      ]
     },
     "execution_count": 34,
     "metadata": {},
     "output_type": "execute_result"
    },
    {
     "data": {
      "image/png": "[encoded data removed]",
      "text/plain": [
       "<Figure size 504x504 with 1 Axes>"
      ]
     },
     "metadata": {},
     "output_type": "display_data"
    }
   ],
   "source": [
    "question_3.plot.pie(y='total_customers', legend=None, figsize=(7, 7))\n",
    "plt.ylabel('')\n",
    "plt.title('Customers per Country')"
   ]
  },
  {
   "cell_type": "code",
   "execution_count": 45,
   "metadata": {
    "scrolled": true
   },
   "outputs": [
    {
     "data": {
      "text/plain": [
       "Text(0.5, 1.0, 'Total Sales per Country')"
      ]
     },
     "execution_count": 45,
     "metadata": {},
     "output_type": "execute_result"
    },
    {
     "data": {
      "image/png": "[encoded data removed]",
      "text/plain": [
       "<Figure size 432x288 with 1 Axes>"
      ]
     },
     "metadata": {
      "needs_background": "light"
     },
     "output_type": "display_data"
    }
   ],
   "source": [
    "question_3.plot.barh(y = 'total_sales', legend=None).set_xlabel('Total Sales')\n",
    "plt.title('Total Sales per Country')"
   ]
  },
  {
   "cell_type": "code",
   "execution_count": 44,
   "metadata": {},
   "outputs": [
    {
     "data": {
      "text/plain": [
       "Text(0.5, 1.0, 'Avg Money Spent per Customer per Country')"
      ]
     },
     "execution_count": 44,
     "metadata": {},
     "output_type": "execute_result"
    },
    {
     "data": {
      "image/png": "[encoded data removed]",
      "text/plain": [
       "<Figure size 432x288 with 1 Axes>"
      ]
     },
     "metadata": {
      "needs_background": "light"
     },
     "output_type": "display_data"
    }
   ],
   "source": [
    "question_3.plot.barh(y = 'avg_money_spent', legend=None).set_xlabel('Avg Money Spent')\n",
    "plt.title('Avg Money Spent per Customer per Country')"
   ]
  },
  {
   "cell_type": "code",
   "execution_count": 50,
   "metadata": {},
   "outputs": [
    {
     "data": {
      "text/plain": [
       "Text(0.5, 1.0, 'Avg Order Value per Country')"
      ]
     },
     "execution_count": 50,
     "metadata": {},
     "output_type": "execute_result"
    },
    {
     "data": {
      "image/png": "[encoded data removed]",
      "text/plain": [
       "<Figure size 432x288 with 1 Axes>"
      ]
     },
     "metadata": {
      "needs_background": "light"
     },
     "output_type": "display_data"
    }
   ],
   "source": [
    "question_3.plot.barh(y = 'avg_order_value', legend=None).set_xlabel('Avg Order Value')\n",
    "plt.title('Avg Order Value per Country')"
   ]
  },
  {
   "cell_type": "markdown",
   "metadata": {},
   "source": [
    "It seems that the Czech Republic offers strong potential for growth, as it has a small number of customers still, but high average expenditure and order value."
   ]
  },
  {
   "cell_type": "markdown",
   "metadata": {},
   "source": [
    "## Question 4\n",
    "For the last question, we want to find out if purchases are made as full albums or individual tracks. If they are not mostly full albums, it might make sense to buy and sell only top tracks on each album, rather than carry less well performing tracks.\n",
    "\n",
    "To do this, the SQL query:\n",
    "* joins the invoice, track, and album tables, and groups them by invoice id, selecting one single album from which a song exists in that invoice (the one with the minimum id, but maximum would work just as well)\n",
    "* compares all the tracks corresponding to that album id in the track table to all the tracks in the invoice line table where the invoice id is the same as the invoice id in the grouping done above, to determine if the invoice corresponds to a full album purchase. This comparison is done using the EXCEPT function, and therefore must be done both ways (if there are more tracks in the invoice, or if there are more tracks in the album, then it is not a full album purchase)\n",
    "* calculates the total and average of album and non album purchases"
   ]
  },
  {
   "cell_type": "code",
   "execution_count": 51,
   "metadata": {
    "scrolled": false
   },
   "outputs": [
    {
     "data": {
      "text/html": [
       "<div>\n",
       "<style scoped>\n",
       "    .dataframe tbody tr th:only-of-type {\n",
       "        vertical-align: middle;\n",
       "    }\n",
       "\n",
       "    .dataframe tbody tr th {\n",
       "        vertical-align: top;\n",
       "    }\n",
       "\n",
       "    .dataframe thead th {\n",
       "        text-align: right;\n",
       "    }\n",
       "</style>\n",
       "<table border=\"1\" class=\"dataframe\">\n",
       "  <thead>\n",
       "    <tr style=\"text-align: right;\">\n",
       "      <th></th>\n",
       "      <th>album_purchase</th>\n",
       "      <th>total</th>\n",
       "      <th>percentage</th>\n",
       "    </tr>\n",
       "  </thead>\n",
       "  <tbody>\n",
       "    <tr>\n",
       "      <th>0</th>\n",
       "      <td>not album</td>\n",
       "      <td>500</td>\n",
       "      <td>0.814332</td>\n",
       "    </tr>\n",
       "    <tr>\n",
       "      <th>1</th>\n",
       "      <td>yes, album</td>\n",
       "      <td>114</td>\n",
       "      <td>0.185668</td>\n",
       "    </tr>\n",
       "  </tbody>\n",
       "</table>\n",
       "</div>"
      ],
      "text/plain": [
       "  album_purchase  total  percentage\n",
       "0      not album    500    0.814332\n",
       "1     yes, album    114    0.185668"
      ]
     },
     "execution_count": 51,
     "metadata": {},
     "output_type": "execute_result"
    }
   ],
   "source": [
    "query_purchase = \"\"\"\n",
    "WITH invoice_first_album AS\n",
    "    (SELECT\n",
    "        il.invoice_id,\n",
    "        MIN(al.album_id) invoice_album\n",
    "    FROM invoice_line il\n",
    "    INNER JOIN track t ON t.track_id = il.track_id\n",
    "    INNER JOIN album al ON al.album_id = t.album_id\n",
    "    GROUP BY invoice_id\n",
    "    ),\n",
    "    \n",
    "    comparison AS\n",
    "    (SELECT\n",
    "        ifa.invoice_id,\n",
    "        CASE\n",
    "            WHEN (\n",
    "            ((\n",
    "                    SELECT track_id\n",
    "                    FROM track\n",
    "                    WHERE album_id = ifa.invoice_album\n",
    "                EXCEPT\n",
    "                    SELECT track_id\n",
    "                     FROM invoice_line\n",
    "                     WHERE invoice_id = ifa.invoice_id\n",
    "                ) \n",
    "                IS NULL)\n",
    "            AND\n",
    "            ((\n",
    "                SELECT track_id\n",
    "                 FROM invoice_line\n",
    "                 WHERE invoice_id = ifa.invoice_id\n",
    "                     EXCEPT\n",
    "                 SELECT track_id\n",
    "                    FROM track\n",
    "                    WHERE album_id = ifa.invoice_album\n",
    "                ) \n",
    "                IS NULL))\n",
    "                THEN \"yes, album\"\n",
    "                ELSE \"not album\"\n",
    "        END AS album_purchase\n",
    "    FROM invoice_first_album ifa)\n",
    "\n",
    "SELECT \n",
    "    album_purchase,\n",
    "    COUNT(album_purchase) total,\n",
    "    CAST(COUNT(album_purchase) AS FLOAT) / (SELECT COUNT(*) FROM comparison) percentage\n",
    "FROM comparison\n",
    "GROUP BY 1\"\"\"\n",
    "run_query(query_purchase)"
   ]
  },
  {
   "cell_type": "markdown",
   "metadata": {},
   "source": [
    "As the numbers show, most sales are not full albums, and therefore it might be a wise business decision to no longer buy full albums to sell them, but only focus on top performing tracks. However, this might generate negative customer responses, and must not be taken lightly."
   ]
  },
  {
   "cell_type": "markdown",
   "metadata": {},
   "source": [
    "## Conclusion\n",
    "Using sqlite, we were able to answer complex business questions by querying a SQL database through python, and feed the results directly into pandas visualizations."
   ]
  }
 ],
 "metadata": {
  "kernelspec": {
   "display_name": "Python 3",
   "language": "python",
   "name": "python3"
  },
  "language_info": {
   "codemirror_mode": {
    "name": "ipython",
    "version": 3
   },
   "file_extension": ".py",
   "mimetype": "text/x-python",
   "name": "python",
   "nbconvert_exporter": "python",
   "pygments_lexer": "ipython3",
   "version": "3.7.3"
  }
 },
 "nbformat": 4,
 "nbformat_minor": 2
}
