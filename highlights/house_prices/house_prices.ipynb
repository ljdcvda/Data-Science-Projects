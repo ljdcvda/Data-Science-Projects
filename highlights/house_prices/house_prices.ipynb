{
 "cells": [
  {
   "cell_type": "markdown",
   "metadata": {
    "collapsed": true
   },
   "source": [
    "# Predicting house prices using linear regression\n",
    "The goal of this project is to predict house sale prices from information regarding the property using a linear regression model. The data used can be found [here](http://www.amstat.org/publications/jse/v19n3/decock/AmesHousing.xls). It consists of 2930 entries about houses in Ames, Iowa.\n",
    "Steps:\n",
    "* Reading and cleaning data of missing values and useless columns\n",
    "* Engineering additional useable features from existing columns\n",
    "* Selecting the best numerical features using correlation and variance values\n",
    "* Selecting the best categorical features by counting unique values and encoding dummy columns\n",
    "* Training and testing the linear regression model using different validation methods\n",
    "\n",
    "## Reading and cleaning the data\n",
    "### Reading the data"
   ]
  },
  {
   "cell_type": "code",
   "execution_count": 77,
   "metadata": {},
   "outputs": [
    {
     "name": "stdout",
     "output_type": "stream",
     "text": [
      "<class 'pandas.core.frame.DataFrame'>\n",
      "RangeIndex: 2930 entries, 0 to 2929\n",
      "Data columns (total 82 columns):\n",
      "Order              2930 non-null int64\n",
      "PID                2930 non-null int64\n",
      "MS SubClass        2930 non-null int64\n",
      "MS Zoning          2930 non-null object\n",
      "Lot Frontage       2440 non-null float64\n",
      "Lot Area           2930 non-null int64\n",
      "Street             2930 non-null object\n",
      "Alley              198 non-null object\n",
      "Lot Shape          2930 non-null object\n",
      "Land Contour       2930 non-null object\n",
      "Utilities          2930 non-null object\n",
      "Lot Config         2930 non-null object\n",
      "Land Slope         2930 non-null object\n",
      "Neighborhood       2930 non-null object\n",
      "Condition 1        2930 non-null object\n",
      "Condition 2        2930 non-null object\n",
      "Bldg Type          2930 non-null object\n",
      "House Style        2930 non-null object\n",
      "Overall Qual       2930 non-null int64\n",
      "Overall Cond       2930 non-null int64\n",
      "Year Built         2930 non-null int64\n",
      "Year Remod/Add     2930 non-null int64\n",
      "Roof Style         2930 non-null object\n",
      "Roof Matl          2930 non-null object\n",
      "Exterior 1st       2930 non-null object\n",
      "Exterior 2nd       2930 non-null object\n",
      "Mas Vnr Type       2907 non-null object\n",
      "Mas Vnr Area       2907 non-null float64\n",
      "Exter Qual         2930 non-null object\n",
      "Exter Cond         2930 non-null object\n",
      "Foundation         2930 non-null object\n",
      "Bsmt Qual          2850 non-null object\n",
      "Bsmt Cond          2850 non-null object\n",
      "Bsmt Exposure      2847 non-null object\n",
      "BsmtFin Type 1     2850 non-null object\n",
      "BsmtFin SF 1       2929 non-null float64\n",
      "BsmtFin Type 2     2849 non-null object\n",
      "BsmtFin SF 2       2929 non-null float64\n",
      "Bsmt Unf SF        2929 non-null float64\n",
      "Total Bsmt SF      2929 non-null float64\n",
      "Heating            2930 non-null object\n",
      "Heating QC         2930 non-null object\n",
      "Central Air        2930 non-null object\n",
      "Electrical         2929 non-null object\n",
      "1st Flr SF         2930 non-null int64\n",
      "2nd Flr SF         2930 non-null int64\n",
      "Low Qual Fin SF    2930 non-null int64\n",
      "Gr Liv Area        2930 non-null int64\n",
      "Bsmt Full Bath     2928 non-null float64\n",
      "Bsmt Half Bath     2928 non-null float64\n",
      "Full Bath          2930 non-null int64\n",
      "Half Bath          2930 non-null int64\n",
      "Bedroom AbvGr      2930 non-null int64\n",
      "Kitchen AbvGr      2930 non-null int64\n",
      "Kitchen Qual       2930 non-null object\n",
      "TotRms AbvGrd      2930 non-null int64\n",
      "Functional         2930 non-null object\n",
      "Fireplaces         2930 non-null int64\n",
      "Fireplace Qu       1508 non-null object\n",
      "Garage Type        2773 non-null object\n",
      "Garage Yr Blt      2771 non-null float64\n",
      "Garage Finish      2771 non-null object\n",
      "Garage Cars        2929 non-null float64\n",
      "Garage Area        2929 non-null float64\n",
      "Garage Qual        2771 non-null object\n",
      "Garage Cond        2771 non-null object\n",
      "Paved Drive        2930 non-null object\n",
      "Wood Deck SF       2930 non-null int64\n",
      "Open Porch SF      2930 non-null int64\n",
      "Enclosed Porch     2930 non-null int64\n",
      "3Ssn Porch         2930 non-null int64\n",
      "Screen Porch       2930 non-null int64\n",
      "Pool Area          2930 non-null int64\n",
      "Pool QC            13 non-null object\n",
      "Fence              572 non-null object\n",
      "Misc Feature       106 non-null object\n",
      "Misc Val           2930 non-null int64\n",
      "Mo Sold            2930 non-null int64\n",
      "Yr Sold            2930 non-null int64\n",
      "Sale Type          2930 non-null object\n",
      "Sale Condition     2930 non-null object\n",
      "SalePrice          2930 non-null int64\n",
      "dtypes: float64(11), int64(28), object(43)\n",
      "memory usage: 1.8+ MB\n",
      "None \n",
      "\n"
     ]
    },
    {
     "data": {
      "text/html": [
       "<div>\n",
       "<style scoped>\n",
       "    .dataframe tbody tr th:only-of-type {\n",
       "        vertical-align: middle;\n",
       "    }\n",
       "\n",
       "    .dataframe tbody tr th {\n",
       "        vertical-align: top;\n",
       "    }\n",
       "\n",
       "    .dataframe thead th {\n",
       "        text-align: right;\n",
       "    }\n",
       "</style>\n",
       "<table border=\"1\" class=\"dataframe\">\n",
       "  <thead>\n",
       "    <tr style=\"text-align: right;\">\n",
       "      <th></th>\n",
       "      <th>Order</th>\n",
       "      <th>PID</th>\n",
       "      <th>MS SubClass</th>\n",
       "      <th>MS Zoning</th>\n",
       "      <th>Lot Frontage</th>\n",
       "      <th>Lot Area</th>\n",
       "      <th>Street</th>\n",
       "      <th>Alley</th>\n",
       "      <th>Lot Shape</th>\n",
       "      <th>Land Contour</th>\n",
       "      <th>...</th>\n",
       "      <th>Pool Area</th>\n",
       "      <th>Pool QC</th>\n",
       "      <th>Fence</th>\n",
       "      <th>Misc Feature</th>\n",
       "      <th>Misc Val</th>\n",
       "      <th>Mo Sold</th>\n",
       "      <th>Yr Sold</th>\n",
       "      <th>Sale Type</th>\n",
       "      <th>Sale Condition</th>\n",
       "      <th>SalePrice</th>\n",
       "    </tr>\n",
       "  </thead>\n",
       "  <tbody>\n",
       "    <tr>\n",
       "      <th>0</th>\n",
       "      <td>1</td>\n",
       "      <td>526301100</td>\n",
       "      <td>20</td>\n",
       "      <td>RL</td>\n",
       "      <td>141.0</td>\n",
       "      <td>31770</td>\n",
       "      <td>Pave</td>\n",
       "      <td>NaN</td>\n",
       "      <td>IR1</td>\n",
       "      <td>Lvl</td>\n",
       "      <td>...</td>\n",
       "      <td>0</td>\n",
       "      <td>NaN</td>\n",
       "      <td>NaN</td>\n",
       "      <td>NaN</td>\n",
       "      <td>0</td>\n",
       "      <td>5</td>\n",
       "      <td>2010</td>\n",
       "      <td>WD</td>\n",
       "      <td>Normal</td>\n",
       "      <td>215000</td>\n",
       "    </tr>\n",
       "    <tr>\n",
       "      <th>1</th>\n",
       "      <td>2</td>\n",
       "      <td>526350040</td>\n",
       "      <td>20</td>\n",
       "      <td>RH</td>\n",
       "      <td>80.0</td>\n",
       "      <td>11622</td>\n",
       "      <td>Pave</td>\n",
       "      <td>NaN</td>\n",
       "      <td>Reg</td>\n",
       "      <td>Lvl</td>\n",
       "      <td>...</td>\n",
       "      <td>0</td>\n",
       "      <td>NaN</td>\n",
       "      <td>MnPrv</td>\n",
       "      <td>NaN</td>\n",
       "      <td>0</td>\n",
       "      <td>6</td>\n",
       "      <td>2010</td>\n",
       "      <td>WD</td>\n",
       "      <td>Normal</td>\n",
       "      <td>105000</td>\n",
       "    </tr>\n",
       "    <tr>\n",
       "      <th>2</th>\n",
       "      <td>3</td>\n",
       "      <td>526351010</td>\n",
       "      <td>20</td>\n",
       "      <td>RL</td>\n",
       "      <td>81.0</td>\n",
       "      <td>14267</td>\n",
       "      <td>Pave</td>\n",
       "      <td>NaN</td>\n",
       "      <td>IR1</td>\n",
       "      <td>Lvl</td>\n",
       "      <td>...</td>\n",
       "      <td>0</td>\n",
       "      <td>NaN</td>\n",
       "      <td>NaN</td>\n",
       "      <td>Gar2</td>\n",
       "      <td>12500</td>\n",
       "      <td>6</td>\n",
       "      <td>2010</td>\n",
       "      <td>WD</td>\n",
       "      <td>Normal</td>\n",
       "      <td>172000</td>\n",
       "    </tr>\n",
       "    <tr>\n",
       "      <th>3</th>\n",
       "      <td>4</td>\n",
       "      <td>526353030</td>\n",
       "      <td>20</td>\n",
       "      <td>RL</td>\n",
       "      <td>93.0</td>\n",
       "      <td>11160</td>\n",
       "      <td>Pave</td>\n",
       "      <td>NaN</td>\n",
       "      <td>Reg</td>\n",
       "      <td>Lvl</td>\n",
       "      <td>...</td>\n",
       "      <td>0</td>\n",
       "      <td>NaN</td>\n",
       "      <td>NaN</td>\n",
       "      <td>NaN</td>\n",
       "      <td>0</td>\n",
       "      <td>4</td>\n",
       "      <td>2010</td>\n",
       "      <td>WD</td>\n",
       "      <td>Normal</td>\n",
       "      <td>244000</td>\n",
       "    </tr>\n",
       "    <tr>\n",
       "      <th>4</th>\n",
       "      <td>5</td>\n",
       "      <td>527105010</td>\n",
       "      <td>60</td>\n",
       "      <td>RL</td>\n",
       "      <td>74.0</td>\n",
       "      <td>13830</td>\n",
       "      <td>Pave</td>\n",
       "      <td>NaN</td>\n",
       "      <td>IR1</td>\n",
       "      <td>Lvl</td>\n",
       "      <td>...</td>\n",
       "      <td>0</td>\n",
       "      <td>NaN</td>\n",
       "      <td>MnPrv</td>\n",
       "      <td>NaN</td>\n",
       "      <td>0</td>\n",
       "      <td>3</td>\n",
       "      <td>2010</td>\n",
       "      <td>WD</td>\n",
       "      <td>Normal</td>\n",
       "      <td>189900</td>\n",
       "    </tr>\n",
       "  </tbody>\n",
       "</table>\n",
       "<p>5 rows × 82 columns</p>\n",
       "</div>"
      ],
      "text/plain": [
       "   Order        PID  MS SubClass MS Zoning  Lot Frontage  Lot Area Street  \\\n",
       "0      1  526301100           20        RL         141.0     31770   Pave   \n",
       "1      2  526350040           20        RH          80.0     11622   Pave   \n",
       "2      3  526351010           20        RL          81.0     14267   Pave   \n",
       "3      4  526353030           20        RL          93.0     11160   Pave   \n",
       "4      5  527105010           60        RL          74.0     13830   Pave   \n",
       "\n",
       "  Alley Lot Shape Land Contour  ... Pool Area Pool QC  Fence Misc Feature  \\\n",
       "0   NaN       IR1          Lvl  ...         0     NaN    NaN          NaN   \n",
       "1   NaN       Reg          Lvl  ...         0     NaN  MnPrv          NaN   \n",
       "2   NaN       IR1          Lvl  ...         0     NaN    NaN         Gar2   \n",
       "3   NaN       Reg          Lvl  ...         0     NaN    NaN          NaN   \n",
       "4   NaN       IR1          Lvl  ...         0     NaN  MnPrv          NaN   \n",
       "\n",
       "  Misc Val Mo Sold Yr Sold Sale Type  Sale Condition  SalePrice  \n",
       "0        0       5    2010       WD           Normal     215000  \n",
       "1        0       6    2010       WD           Normal     105000  \n",
       "2    12500       6    2010       WD           Normal     172000  \n",
       "3        0       4    2010       WD           Normal     244000  \n",
       "4        0       3    2010       WD           Normal     189900  \n",
       "\n",
       "[5 rows x 82 columns]"
      ]
     },
     "execution_count": 77,
     "metadata": {},
     "output_type": "execute_result"
    }
   ],
   "source": [
    "import pandas as pd\n",
    "import matplotlib.pyplot as plt\n",
    "import numpy as np\n",
    "from sklearn.linear_model import LinearRegression\n",
    "from sklearn.metrics import mean_squared_error\n",
    "from sklearn.model_selection import KFold, cross_val_score\n",
    "data = pd.read_csv('AmesHousing.tsv', delimiter = '\\t')\n",
    "print(data.info(), '\\n')\n",
    "data.head()"
   ]
  },
  {
   "cell_type": "markdown",
   "metadata": {},
   "source": [
    "### Removing columns with too many missing values\n",
    "Let's begin the data cleaning by removing columns with more than 5% missing values."
   ]
  },
  {
   "cell_type": "code",
   "execution_count": 78,
   "metadata": {},
   "outputs": [
    {
     "name": "stdout",
     "output_type": "stream",
     "text": [
      "<class 'pandas.core.frame.DataFrame'>\n",
      "RangeIndex: 2930 entries, 0 to 2929\n",
      "Data columns (total 71 columns):\n",
      "Order              2930 non-null int64\n",
      "PID                2930 non-null int64\n",
      "MS SubClass        2930 non-null int64\n",
      "MS Zoning          2930 non-null object\n",
      "Lot Area           2930 non-null int64\n",
      "Street             2930 non-null object\n",
      "Lot Shape          2930 non-null object\n",
      "Land Contour       2930 non-null object\n",
      "Utilities          2930 non-null object\n",
      "Lot Config         2930 non-null object\n",
      "Land Slope         2930 non-null object\n",
      "Neighborhood       2930 non-null object\n",
      "Condition 1        2930 non-null object\n",
      "Condition 2        2930 non-null object\n",
      "Bldg Type          2930 non-null object\n",
      "House Style        2930 non-null object\n",
      "Overall Qual       2930 non-null int64\n",
      "Overall Cond       2930 non-null int64\n",
      "Year Built         2930 non-null int64\n",
      "Year Remod/Add     2930 non-null int64\n",
      "Roof Style         2930 non-null object\n",
      "Roof Matl          2930 non-null object\n",
      "Exterior 1st       2930 non-null object\n",
      "Exterior 2nd       2930 non-null object\n",
      "Mas Vnr Type       2907 non-null object\n",
      "Mas Vnr Area       2907 non-null float64\n",
      "Exter Qual         2930 non-null object\n",
      "Exter Cond         2930 non-null object\n",
      "Foundation         2930 non-null object\n",
      "Bsmt Qual          2850 non-null object\n",
      "Bsmt Cond          2850 non-null object\n",
      "Bsmt Exposure      2847 non-null object\n",
      "BsmtFin Type 1     2850 non-null object\n",
      "BsmtFin SF 1       2929 non-null float64\n",
      "BsmtFin Type 2     2849 non-null object\n",
      "BsmtFin SF 2       2929 non-null float64\n",
      "Bsmt Unf SF        2929 non-null float64\n",
      "Total Bsmt SF      2929 non-null float64\n",
      "Heating            2930 non-null object\n",
      "Heating QC         2930 non-null object\n",
      "Central Air        2930 non-null object\n",
      "Electrical         2929 non-null object\n",
      "1st Flr SF         2930 non-null int64\n",
      "2nd Flr SF         2930 non-null int64\n",
      "Low Qual Fin SF    2930 non-null int64\n",
      "Gr Liv Area        2930 non-null int64\n",
      "Bsmt Full Bath     2928 non-null float64\n",
      "Bsmt Half Bath     2928 non-null float64\n",
      "Full Bath          2930 non-null int64\n",
      "Half Bath          2930 non-null int64\n",
      "Bedroom AbvGr      2930 non-null int64\n",
      "Kitchen AbvGr      2930 non-null int64\n",
      "Kitchen Qual       2930 non-null object\n",
      "TotRms AbvGrd      2930 non-null int64\n",
      "Functional         2930 non-null object\n",
      "Fireplaces         2930 non-null int64\n",
      "Garage Cars        2929 non-null float64\n",
      "Garage Area        2929 non-null float64\n",
      "Paved Drive        2930 non-null object\n",
      "Wood Deck SF       2930 non-null int64\n",
      "Open Porch SF      2930 non-null int64\n",
      "Enclosed Porch     2930 non-null int64\n",
      "3Ssn Porch         2930 non-null int64\n",
      "Screen Porch       2930 non-null int64\n",
      "Pool Area          2930 non-null int64\n",
      "Misc Val           2930 non-null int64\n",
      "Mo Sold            2930 non-null int64\n",
      "Yr Sold            2930 non-null int64\n",
      "Sale Type          2930 non-null object\n",
      "Sale Condition     2930 non-null object\n",
      "SalePrice          2930 non-null int64\n",
      "dtypes: float64(9), int64(28), object(34)\n",
      "memory usage: 1.6+ MB\n",
      "None\n"
     ]
    }
   ],
   "source": [
    "data_pruned = data.copy()\n",
    "\n",
    "missing_values_ratio = data_pruned.isnull().sum() / len(data_pruned)\n",
    "cols_to_drop = missing_values_ratio[missing_values_ratio > 0.05].index\n",
    "\n",
    "data_pruned = data_pruned.drop(cols_to_drop, axis=1)\n",
    "print(data_pruned.info())"
   ]
  },
  {
   "cell_type": "markdown",
   "metadata": {},
   "source": [
    "### Filling in columns with few missing values\n",
    "For columns with less than 5% missing data (and more than 0), we can fill in with the most frequent value of that column (the mode)."
   ]
  },
  {
   "cell_type": "code",
   "execution_count": 79,
   "metadata": {
    "scrolled": true
   },
   "outputs": [
    {
     "name": "stdout",
     "output_type": "stream",
     "text": [
      "<class 'pandas.core.frame.DataFrame'>\n",
      "RangeIndex: 2930 entries, 0 to 2929\n",
      "Data columns (total 71 columns):\n",
      "Order              2930 non-null int64\n",
      "PID                2930 non-null int64\n",
      "MS SubClass        2930 non-null int64\n",
      "MS Zoning          2930 non-null object\n",
      "Lot Area           2930 non-null int64\n",
      "Street             2930 non-null object\n",
      "Lot Shape          2930 non-null object\n",
      "Land Contour       2930 non-null object\n",
      "Utilities          2930 non-null object\n",
      "Lot Config         2930 non-null object\n",
      "Land Slope         2930 non-null object\n",
      "Neighborhood       2930 non-null object\n",
      "Condition 1        2930 non-null object\n",
      "Condition 2        2930 non-null object\n",
      "Bldg Type          2930 non-null object\n",
      "House Style        2930 non-null object\n",
      "Overall Qual       2930 non-null int64\n",
      "Overall Cond       2930 non-null int64\n",
      "Year Built         2930 non-null int64\n",
      "Year Remod/Add     2930 non-null int64\n",
      "Roof Style         2930 non-null object\n",
      "Roof Matl          2930 non-null object\n",
      "Exterior 1st       2930 non-null object\n",
      "Exterior 2nd       2930 non-null object\n",
      "Mas Vnr Type       2930 non-null object\n",
      "Mas Vnr Area       2930 non-null float64\n",
      "Exter Qual         2930 non-null object\n",
      "Exter Cond         2930 non-null object\n",
      "Foundation         2930 non-null object\n",
      "Bsmt Qual          2930 non-null object\n",
      "Bsmt Cond          2930 non-null object\n",
      "Bsmt Exposure      2930 non-null object\n",
      "BsmtFin Type 1     2930 non-null object\n",
      "BsmtFin SF 1       2930 non-null float64\n",
      "BsmtFin Type 2     2930 non-null object\n",
      "BsmtFin SF 2       2930 non-null float64\n",
      "Bsmt Unf SF        2930 non-null float64\n",
      "Total Bsmt SF      2930 non-null float64\n",
      "Heating            2930 non-null object\n",
      "Heating QC         2930 non-null object\n",
      "Central Air        2930 non-null object\n",
      "Electrical         2930 non-null object\n",
      "1st Flr SF         2930 non-null int64\n",
      "2nd Flr SF         2930 non-null int64\n",
      "Low Qual Fin SF    2930 non-null int64\n",
      "Gr Liv Area        2930 non-null int64\n",
      "Bsmt Full Bath     2930 non-null float64\n",
      "Bsmt Half Bath     2930 non-null float64\n",
      "Full Bath          2930 non-null int64\n",
      "Half Bath          2930 non-null int64\n",
      "Bedroom AbvGr      2930 non-null int64\n",
      "Kitchen AbvGr      2930 non-null int64\n",
      "Kitchen Qual       2930 non-null object\n",
      "TotRms AbvGrd      2930 non-null int64\n",
      "Functional         2930 non-null object\n",
      "Fireplaces         2930 non-null int64\n",
      "Garage Cars        2930 non-null float64\n",
      "Garage Area        2930 non-null float64\n",
      "Paved Drive        2930 non-null object\n",
      "Wood Deck SF       2930 non-null int64\n",
      "Open Porch SF      2930 non-null int64\n",
      "Enclosed Porch     2930 non-null int64\n",
      "3Ssn Porch         2930 non-null int64\n",
      "Screen Porch       2930 non-null int64\n",
      "Pool Area          2930 non-null int64\n",
      "Misc Val           2930 non-null int64\n",
      "Mo Sold            2930 non-null int64\n",
      "Yr Sold            2930 non-null int64\n",
      "Sale Type          2930 non-null object\n",
      "Sale Condition     2930 non-null object\n",
      "SalePrice          2930 non-null int64\n",
      "dtypes: float64(9), int64(28), object(34)\n",
      "memory usage: 1.6+ MB\n",
      "None\n"
     ]
    }
   ],
   "source": [
    "missing_values_ratio = data_pruned.isnull().sum() / len(data_pruned)\n",
    "cols_to_fill = missing_values_ratio[(missing_values_ratio < 0.05) & (missing_values_ratio >0)].index\n",
    "\n",
    "most_common_values = data_pruned[cols_to_fill].mode().to_dict(orient='records')[0]\n",
    "data_pruned[cols_to_fill] = data_pruned[cols_to_fill].fillna(most_common_values)\n",
    "print(data_pruned.info())"
   ]
  },
  {
   "cell_type": "markdown",
   "metadata": {},
   "source": [
    "### Removing useless columns\n",
    "Some columns dont help with the model, while others carry or contaminate the same information as the price column, which we are trying to predict."
   ]
  },
  {
   "cell_type": "code",
   "execution_count": 80,
   "metadata": {
    "scrolled": false
   },
   "outputs": [
    {
     "name": "stdout",
     "output_type": "stream",
     "text": [
      "<class 'pandas.core.frame.DataFrame'>\n",
      "RangeIndex: 2930 entries, 0 to 2929\n",
      "Data columns (total 66 columns):\n",
      "MS SubClass        2930 non-null int64\n",
      "MS Zoning          2930 non-null object\n",
      "Lot Area           2930 non-null int64\n",
      "Street             2930 non-null object\n",
      "Lot Shape          2930 non-null object\n",
      "Land Contour       2930 non-null object\n",
      "Utilities          2930 non-null object\n",
      "Lot Config         2930 non-null object\n",
      "Land Slope         2930 non-null object\n",
      "Neighborhood       2930 non-null object\n",
      "Condition 1        2930 non-null object\n",
      "Condition 2        2930 non-null object\n",
      "Bldg Type          2930 non-null object\n",
      "House Style        2930 non-null object\n",
      "Overall Qual       2930 non-null int64\n",
      "Overall Cond       2930 non-null int64\n",
      "Year Built         2930 non-null int64\n",
      "Year Remod/Add     2930 non-null int64\n",
      "Roof Style         2930 non-null object\n",
      "Roof Matl          2930 non-null object\n",
      "Exterior 1st       2930 non-null object\n",
      "Exterior 2nd       2930 non-null object\n",
      "Mas Vnr Type       2930 non-null object\n",
      "Mas Vnr Area       2930 non-null float64\n",
      "Exter Qual         2930 non-null object\n",
      "Exter Cond         2930 non-null object\n",
      "Foundation         2930 non-null object\n",
      "Bsmt Qual          2930 non-null object\n",
      "Bsmt Cond          2930 non-null object\n",
      "Bsmt Exposure      2930 non-null object\n",
      "BsmtFin Type 1     2930 non-null object\n",
      "BsmtFin SF 1       2930 non-null float64\n",
      "BsmtFin Type 2     2930 non-null object\n",
      "BsmtFin SF 2       2930 non-null float64\n",
      "Bsmt Unf SF        2930 non-null float64\n",
      "Total Bsmt SF      2930 non-null float64\n",
      "Heating            2930 non-null object\n",
      "Heating QC         2930 non-null object\n",
      "Central Air        2930 non-null object\n",
      "Electrical         2930 non-null object\n",
      "1st Flr SF         2930 non-null int64\n",
      "2nd Flr SF         2930 non-null int64\n",
      "Low Qual Fin SF    2930 non-null int64\n",
      "Gr Liv Area        2930 non-null int64\n",
      "Bsmt Full Bath     2930 non-null float64\n",
      "Bsmt Half Bath     2930 non-null float64\n",
      "Full Bath          2930 non-null int64\n",
      "Half Bath          2930 non-null int64\n",
      "Bedroom AbvGr      2930 non-null int64\n",
      "Kitchen AbvGr      2930 non-null int64\n",
      "Kitchen Qual       2930 non-null object\n",
      "TotRms AbvGrd      2930 non-null int64\n",
      "Functional         2930 non-null object\n",
      "Fireplaces         2930 non-null int64\n",
      "Garage Cars        2930 non-null float64\n",
      "Garage Area        2930 non-null float64\n",
      "Paved Drive        2930 non-null object\n",
      "Wood Deck SF       2930 non-null int64\n",
      "Open Porch SF      2930 non-null int64\n",
      "Enclosed Porch     2930 non-null int64\n",
      "3Ssn Porch         2930 non-null int64\n",
      "Screen Porch       2930 non-null int64\n",
      "Pool Area          2930 non-null int64\n",
      "Misc Val           2930 non-null int64\n",
      "Yr Sold            2930 non-null int64\n",
      "SalePrice          2930 non-null int64\n",
      "dtypes: float64(9), int64(25), object(32)\n",
      "memory usage: 1.5+ MB\n",
      "None\n"
     ]
    }
   ],
   "source": [
    "data_pruned = data_pruned.drop([\"PID\", \"Order\", \"Mo Sold\", \"Sale Condition\", \"Sale Type\"], axis=1)\n",
    "print(data_pruned.info())"
   ]
  },
  {
   "cell_type": "markdown",
   "metadata": {},
   "source": [
    "## Feature engineering\n",
    "We can create new columns from existing ones to carry additional insights into our model.\n",
    "* The difference between the year sold and year built can be a useful feature\n",
    "* The difference between the year sold and the year remodeled can be a useful feature"
   ]
  },
  {
   "cell_type": "code",
   "execution_count": 81,
   "metadata": {},
   "outputs": [],
   "source": [
    "data_pruned['Years Before Sale'] = data_pruned['Yr Sold'] - data_pruned['Year Built']\n",
    "data_pruned['Years Since Remod'] = data_pruned['Yr Sold'] - data_pruned['Year Remod/Add']\n",
    "data_pruned = data_pruned.drop([\"Year Built\", \"Year Remod/Add\", \"Yr Sold\"], axis = 1)"
   ]
  },
  {
   "cell_type": "code",
   "execution_count": 82,
   "metadata": {
    "scrolled": true
   },
   "outputs": [
    {
     "name": "stdout",
     "output_type": "stream",
     "text": [
      "2180   -1\n",
      "Name: Years Before Sale, dtype: int64\n",
      "1702   -1\n",
      "2180   -2\n",
      "2181   -1\n",
      "Name: Years Since Remod, dtype: int64\n"
     ]
    }
   ],
   "source": [
    "years_b_sale = data_pruned['Years Before Sale'] \n",
    "print(years_b_sale[years_b_sale<0])\n",
    "years_b_remod = data_pruned['Years Since Remod'] \n",
    "print(years_b_remod[years_b_remod<0])"
   ]
  },
  {
   "cell_type": "markdown",
   "metadata": {},
   "source": [
    "This calculation has produced some inconsistent data, let's remove those rows."
   ]
  },
  {
   "cell_type": "code",
   "execution_count": 83,
   "metadata": {},
   "outputs": [
    {
     "name": "stdout",
     "output_type": "stream",
     "text": [
      "Series([], Name: Years Before Sale, dtype: int64)\n",
      "Series([], Name: Years Since Remod, dtype: int64)\n"
     ]
    }
   ],
   "source": [
    "data_pruned = data_pruned.drop([1702, 2180, 2181], axis=0)\n",
    "years_b_sale = data_pruned['Years Before Sale'] \n",
    "print(years_b_sale[years_b_sale<0])\n",
    "years_b_remod = data_pruned['Years Since Remod'] \n",
    "print(years_b_remod[years_b_remod<0])"
   ]
  },
  {
   "cell_type": "markdown",
   "metadata": {},
   "source": [
    "## Feature selection: Numerical Columns\n",
    "Let's select the best columns to build the model on.\n",
    "\n",
    "For numerical columns, we can use the correlation score, removing columns with low correlation, and columns that are correlated to each other (collinearity). We can also scale the data to identify colums with low variance that dont contribute meaningfully to the sale price and discard those.\n",
    "\n",
    "### Selecting numerical columns with enough correlation to Sale Price"
   ]
  },
  {
   "cell_type": "code",
   "execution_count": 84,
   "metadata": {
    "scrolled": true
   },
   "outputs": [
    {
     "name": "stdout",
     "output_type": "stream",
     "text": [
      "SalePrice            1.000000\n",
      "Overall Qual         0.801206\n",
      "Gr Liv Area          0.717596\n",
      "Garage Cars          0.648361\n",
      "Total Bsmt SF        0.644012\n",
      "Garage Area          0.641425\n",
      "1st Flr SF           0.635185\n",
      "Years Before Sale    0.558979\n",
      "Full Bath            0.546118\n",
      "Years Since Remod    0.534985\n",
      "Mas Vnr Area         0.506983\n",
      "TotRms AbvGrd        0.498574\n",
      "Fireplaces           0.474831\n",
      "BsmtFin SF 1         0.439284\n",
      "Wood Deck SF         0.328183\n",
      "Open Porch SF        0.316262\n",
      "Half Bath            0.284871\n",
      "Bsmt Full Bath       0.276258\n",
      "2nd Flr SF           0.269601\n",
      "Lot Area             0.267520\n",
      "Bsmt Unf SF          0.182751\n",
      "Bedroom AbvGr        0.143916\n",
      "Enclosed Porch       0.128685\n",
      "Kitchen AbvGr        0.119760\n",
      "Screen Porch         0.112280\n",
      "Overall Cond         0.101540\n",
      "MS SubClass          0.085128\n",
      "Pool Area            0.068438\n",
      "Low Qual Fin SF      0.037629\n",
      "Bsmt Half Bath       0.035875\n",
      "3Ssn Porch           0.032268\n",
      "Misc Val             0.019273\n",
      "BsmtFin SF 2         0.006127\n",
      "Name: SalePrice, dtype: float64\n"
     ]
    }
   ],
   "source": [
    "data_numerical = data_pruned.select_dtypes(include='number').copy()\n",
    "correlation_coeffs = data_numerical.corr()['SalePrice'].abs().sort_values(ascending=False)\n",
    "print(correlation_coeffs)"
   ]
  },
  {
   "cell_type": "markdown",
   "metadata": {},
   "source": [
    "We will only keep columns with a correlation coeff greater than 0.45."
   ]
  },
  {
   "cell_type": "code",
   "execution_count": 85,
   "metadata": {},
   "outputs": [
    {
     "name": "stdout",
     "output_type": "stream",
     "text": [
      "<class 'pandas.core.frame.DataFrame'>\n",
      "Int64Index: 2927 entries, 0 to 2929\n",
      "Data columns (total 13 columns):\n",
      "SalePrice            2927 non-null int64\n",
      "Overall Qual         2927 non-null int64\n",
      "Gr Liv Area          2927 non-null int64\n",
      "Garage Cars          2927 non-null float64\n",
      "Total Bsmt SF        2927 non-null float64\n",
      "Garage Area          2927 non-null float64\n",
      "1st Flr SF           2927 non-null int64\n",
      "Years Before Sale    2927 non-null int64\n",
      "Full Bath            2927 non-null int64\n",
      "Years Since Remod    2927 non-null int64\n",
      "Mas Vnr Area         2927 non-null float64\n",
      "TotRms AbvGrd        2927 non-null int64\n",
      "Fireplaces           2927 non-null int64\n",
      "dtypes: float64(4), int64(9)\n",
      "memory usage: 320.1 KB\n",
      "None\n"
     ]
    }
   ],
   "source": [
    "cols_to_keep = correlation_coeffs[correlation_coeffs>0.45].index\n",
    "data_numerical = data_numerical[cols_to_keep]\n",
    "print(data_numerical.info())"
   ]
  },
  {
   "cell_type": "markdown",
   "metadata": {},
   "source": [
    "### Removing colinear numerical columns\n",
    "Some columns carry the same information. They can be identified easily by visualizing their colinearity."
   ]
  },
  {
   "cell_type": "code",
   "execution_count": 86,
   "metadata": {},
   "outputs": [
    {
     "data": {
      "text/plain": [
       "<matplotlib.axes._subplots.AxesSubplot at 0x179bdb2a8d0>"
      ]
     },
     "execution_count": 86,
     "metadata": {},
     "output_type": "execute_result"
    },
    {
     "data": {
      "image/png": "[encoded data removed]",
      "text/plain": [
       "<Figure size 432x288 with 2 Axes>"
      ]
     },
     "metadata": {
      "needs_background": "light"
     },
     "output_type": "display_data"
    }
   ],
   "source": [
    "import seaborn as sns\n",
    "import matplotlib.pyplot as plt\n",
    "%matplotlib inline\n",
    "sns.heatmap(data_numerical.drop('SalePrice', axis=1).corr().abs(), cmap='Blues')"
   ]
  },
  {
   "cell_type": "markdown",
   "metadata": {},
   "source": [
    "It seems that Gr Liv Area and Roms Abg Grnd are strongly correlated, as expected. Similarly, Garage area and cars provide the same information. \n",
    "Let's keep the continuous value column for both these cases, and drop the other, to increase the performance of our model."
   ]
  },
  {
   "cell_type": "code",
   "execution_count": 87,
   "metadata": {},
   "outputs": [],
   "source": [
    "data_numerical = data_numerical.drop(['TotRms AbvGrd', 'Garage Cars'], axis=1)"
   ]
  },
  {
   "cell_type": "markdown",
   "metadata": {},
   "source": [
    "### Inspecting variance of remaining numerical columns\n",
    "A feature wont be very useful except to make the model slower if all or most of the entries have the same value. We can identify these features by normalizing the data on its minima and maxima and calculating the variance of each column."
   ]
  },
  {
   "cell_type": "code",
   "execution_count": 88,
   "metadata": {},
   "outputs": [
    {
     "name": "stdout",
     "output_type": "stream",
     "text": [
      "Total Bsmt SF        0.005022\n",
      "1st Flr SF           0.007742\n",
      "Gr Liv Area          0.008794\n",
      "SalePrice            0.011593\n",
      "Mas Vnr Area         0.012250\n",
      "Full Bath            0.019077\n",
      "Garage Area          0.020827\n",
      "Overall Qual         0.024461\n",
      "Fireplaces           0.026216\n",
      "Years Before Sale    0.049585\n",
      "Years Since Remod    0.120806\n",
      "dtype: float64\n"
     ]
    }
   ],
   "source": [
    "# normalize the data\n",
    "data_unit = (data_numerical - data_numerical.min())/(data_numerical.max() - data_numerical.min())\n",
    "\n",
    "variances = data_unit.var().sort_values()\n",
    "print(variances)"
   ]
  },
  {
   "cell_type": "markdown",
   "metadata": {},
   "source": [
    "Let's remove the three columns that have the lowest variance, below 0.01."
   ]
  },
  {
   "cell_type": "code",
   "execution_count": 89,
   "metadata": {},
   "outputs": [
    {
     "name": "stdout",
     "output_type": "stream",
     "text": [
      "<class 'pandas.core.frame.DataFrame'>\n",
      "Int64Index: 2927 entries, 0 to 2929\n",
      "Data columns (total 8 columns):\n",
      "SalePrice            2927 non-null int64\n",
      "Mas Vnr Area         2927 non-null float64\n",
      "Full Bath            2927 non-null int64\n",
      "Garage Area          2927 non-null float64\n",
      "Overall Qual         2927 non-null int64\n",
      "Fireplaces           2927 non-null int64\n",
      "Years Before Sale    2927 non-null int64\n",
      "Years Since Remod    2927 non-null int64\n",
      "dtypes: float64(2), int64(6)\n",
      "memory usage: 205.8 KB\n",
      "None\n"
     ]
    }
   ],
   "source": [
    "cols_to_keep = variances[variances>0.01].index\n",
    "data_numerical = data_numerical[cols_to_keep]\n",
    "print(data_numerical.info())"
   ]
  },
  {
   "cell_type": "markdown",
   "metadata": {},
   "source": [
    "## Feature Selection: Categorical Columns\n",
    "For categorical columns, we can convert them to useable form using dummy encoding, provided they do not have too many different values (which would result in too many additional columns to the model). Let's find out which are good candidates."
   ]
  },
  {
   "cell_type": "code",
   "execution_count": 90,
   "metadata": {},
   "outputs": [
    {
     "name": "stdout",
     "output_type": "stream",
     "text": [
      "<class 'pandas.core.frame.DataFrame'>\n",
      "Int64Index: 2927 entries, 0 to 2929\n",
      "Data columns (total 32 columns):\n",
      "MS Zoning         2927 non-null object\n",
      "Street            2927 non-null object\n",
      "Lot Shape         2927 non-null object\n",
      "Land Contour      2927 non-null object\n",
      "Utilities         2927 non-null object\n",
      "Lot Config        2927 non-null object\n",
      "Land Slope        2927 non-null object\n",
      "Neighborhood      2927 non-null object\n",
      "Condition 1       2927 non-null object\n",
      "Condition 2       2927 non-null object\n",
      "Bldg Type         2927 non-null object\n",
      "House Style       2927 non-null object\n",
      "Roof Style        2927 non-null object\n",
      "Roof Matl         2927 non-null object\n",
      "Exterior 1st      2927 non-null object\n",
      "Exterior 2nd      2927 non-null object\n",
      "Mas Vnr Type      2927 non-null object\n",
      "Exter Qual        2927 non-null object\n",
      "Exter Cond        2927 non-null object\n",
      "Foundation        2927 non-null object\n",
      "Bsmt Qual         2927 non-null object\n",
      "Bsmt Cond         2927 non-null object\n",
      "Bsmt Exposure     2927 non-null object\n",
      "BsmtFin Type 1    2927 non-null object\n",
      "BsmtFin Type 2    2927 non-null object\n",
      "Heating           2927 non-null object\n",
      "Heating QC        2927 non-null object\n",
      "Central Air       2927 non-null object\n",
      "Electrical        2927 non-null object\n",
      "Kitchen Qual      2927 non-null object\n",
      "Functional        2927 non-null object\n",
      "Paved Drive       2927 non-null object\n",
      "dtypes: object(32)\n",
      "memory usage: 754.6+ KB\n",
      "None\n"
     ]
    }
   ],
   "source": [
    "data_categorical = data_pruned.select_dtypes(include=['object']).copy()\n",
    "print(data_categorical.info())"
   ]
  },
  {
   "cell_type": "markdown",
   "metadata": {},
   "source": [
    "### Selecting categorical columns with few enough unique entries\n",
    "Categorical columns must have a limited number of entries to be useable in our model. To keep the size of the model in check, let's only keep the categorical values that have less than 5 unique entries, such that only 5 additional features will be created with dummy encoding."
   ]
  },
  {
   "cell_type": "code",
   "execution_count": 91,
   "metadata": {},
   "outputs": [
    {
     "data": {
      "text/plain": [
       "MS Zoning          7\n",
       "Street             2\n",
       "Lot Shape          4\n",
       "Land Contour       4\n",
       "Utilities          3\n",
       "Lot Config         5\n",
       "Land Slope         3\n",
       "Neighborhood      28\n",
       "Condition 1        9\n",
       "Condition 2        8\n",
       "Bldg Type          5\n",
       "House Style        8\n",
       "Roof Style         6\n",
       "Roof Matl          8\n",
       "Exterior 1st      16\n",
       "Exterior 2nd      17\n",
       "Mas Vnr Type       5\n",
       "Exter Qual         4\n",
       "Exter Cond         5\n",
       "Foundation         6\n",
       "Bsmt Qual          5\n",
       "Bsmt Cond          5\n",
       "Bsmt Exposure      4\n",
       "BsmtFin Type 1     6\n",
       "BsmtFin Type 2     6\n",
       "Heating            6\n",
       "Heating QC         5\n",
       "Central Air        2\n",
       "Electrical         5\n",
       "Kitchen Qual       5\n",
       "Functional         8\n",
       "Paved Drive        3\n",
       "dtype: int64"
      ]
     },
     "execution_count": 91,
     "metadata": {},
     "output_type": "execute_result"
    }
   ],
   "source": [
    "unique_values = data_categorical.apply(lambda col: len(col.value_counts()))\n",
    "unique_values"
   ]
  },
  {
   "cell_type": "code",
   "execution_count": 92,
   "metadata": {},
   "outputs": [
    {
     "name": "stdout",
     "output_type": "stream",
     "text": [
      "<class 'pandas.core.frame.DataFrame'>\n",
      "Int64Index: 2927 entries, 0 to 2929\n",
      "Data columns (total 18 columns):\n",
      "Street           2927 non-null object\n",
      "Lot Shape        2927 non-null object\n",
      "Land Contour     2927 non-null object\n",
      "Utilities        2927 non-null object\n",
      "Lot Config       2927 non-null object\n",
      "Land Slope       2927 non-null object\n",
      "Bldg Type        2927 non-null object\n",
      "Mas Vnr Type     2927 non-null object\n",
      "Exter Qual       2927 non-null object\n",
      "Exter Cond       2927 non-null object\n",
      "Bsmt Qual        2927 non-null object\n",
      "Bsmt Cond        2927 non-null object\n",
      "Bsmt Exposure    2927 non-null object\n",
      "Heating QC       2927 non-null object\n",
      "Central Air      2927 non-null object\n",
      "Electrical       2927 non-null object\n",
      "Kitchen Qual     2927 non-null object\n",
      "Paved Drive      2927 non-null object\n",
      "dtypes: object(18)\n",
      "memory usage: 434.5+ KB\n",
      "None\n"
     ]
    }
   ],
   "source": [
    "cols_to_drop = unique_values[unique_values > 5].index\n",
    "data_categorical = data_categorical.drop(cols_to_drop, axis=1)\n",
    "print(data_categorical.info())"
   ]
  },
  {
   "cell_type": "markdown",
   "metadata": {},
   "source": [
    "### Selecting categorical columns with high enough variance\n",
    "We still want to remove low variance features, just like numerical columns. To determine the variance of these categorical columns, and eliminate the ones that have low variance, we can identify if any have 95% of the values belonging to the same category."
   ]
  },
  {
   "cell_type": "code",
   "execution_count": 93,
   "metadata": {
    "scrolled": true
   },
   "outputs": [
    {
     "data": {
      "text/plain": [
       "['Street', 'Utilities', 'Land Slope']"
      ]
     },
     "execution_count": 93,
     "metadata": {},
     "output_type": "execute_result"
    }
   ],
   "source": [
    "cols_to_drop = []\n",
    "for col in data_categorical.columns:\n",
    "    values = data_categorical[col].value_counts()\n",
    "    if (values.max() / values.sum())>.95:\n",
    "        cols_to_drop.append(col)\n",
    "        \n",
    "cols_to_drop"
   ]
  },
  {
   "cell_type": "code",
   "execution_count": 94,
   "metadata": {},
   "outputs": [
    {
     "name": "stdout",
     "output_type": "stream",
     "text": [
      "<class 'pandas.core.frame.DataFrame'>\n",
      "Int64Index: 2927 entries, 0 to 2929\n",
      "Data columns (total 15 columns):\n",
      "Lot Shape        2927 non-null object\n",
      "Land Contour     2927 non-null object\n",
      "Lot Config       2927 non-null object\n",
      "Bldg Type        2927 non-null object\n",
      "Mas Vnr Type     2927 non-null object\n",
      "Exter Qual       2927 non-null object\n",
      "Exter Cond       2927 non-null object\n",
      "Bsmt Qual        2927 non-null object\n",
      "Bsmt Cond        2927 non-null object\n",
      "Bsmt Exposure    2927 non-null object\n",
      "Heating QC       2927 non-null object\n",
      "Central Air      2927 non-null object\n",
      "Electrical       2927 non-null object\n",
      "Kitchen Qual     2927 non-null object\n",
      "Paved Drive      2927 non-null object\n",
      "dtypes: object(15)\n",
      "memory usage: 365.9+ KB\n",
      "None\n"
     ]
    }
   ],
   "source": [
    "data_categorical = data_categorical.drop(cols_to_drop, axis=1)\n",
    "print(data_categorical.info())"
   ]
  },
  {
   "cell_type": "markdown",
   "metadata": {},
   "source": [
    "### Encoding categorical columns into dummy columns"
   ]
  },
  {
   "cell_type": "code",
   "execution_count": 95,
   "metadata": {},
   "outputs": [
    {
     "name": "stdout",
     "output_type": "stream",
     "text": [
      "<class 'pandas.core.frame.DataFrame'>\n",
      "Int64Index: 2927 entries, 0 to 2929\n",
      "Data columns (total 66 columns):\n",
      "Lot Shape_IR1           2927 non-null uint8\n",
      "Lot Shape_IR2           2927 non-null uint8\n",
      "Lot Shape_IR3           2927 non-null uint8\n",
      "Lot Shape_Reg           2927 non-null uint8\n",
      "Land Contour_Bnk        2927 non-null uint8\n",
      "Land Contour_HLS        2927 non-null uint8\n",
      "Land Contour_Low        2927 non-null uint8\n",
      "Land Contour_Lvl        2927 non-null uint8\n",
      "Lot Config_Corner       2927 non-null uint8\n",
      "Lot Config_CulDSac      2927 non-null uint8\n",
      "Lot Config_FR2          2927 non-null uint8\n",
      "Lot Config_FR3          2927 non-null uint8\n",
      "Lot Config_Inside       2927 non-null uint8\n",
      "Bldg Type_1Fam          2927 non-null uint8\n",
      "Bldg Type_2fmCon        2927 non-null uint8\n",
      "Bldg Type_Duplex        2927 non-null uint8\n",
      "Bldg Type_Twnhs         2927 non-null uint8\n",
      "Bldg Type_TwnhsE        2927 non-null uint8\n",
      "Mas Vnr Type_BrkCmn     2927 non-null uint8\n",
      "Mas Vnr Type_BrkFace    2927 non-null uint8\n",
      "Mas Vnr Type_CBlock     2927 non-null uint8\n",
      "Mas Vnr Type_None       2927 non-null uint8\n",
      "Mas Vnr Type_Stone      2927 non-null uint8\n",
      "Exter Qual_Ex           2927 non-null uint8\n",
      "Exter Qual_Fa           2927 non-null uint8\n",
      "Exter Qual_Gd           2927 non-null uint8\n",
      "Exter Qual_TA           2927 non-null uint8\n",
      "Exter Cond_Ex           2927 non-null uint8\n",
      "Exter Cond_Fa           2927 non-null uint8\n",
      "Exter Cond_Gd           2927 non-null uint8\n",
      "Exter Cond_Po           2927 non-null uint8\n",
      "Exter Cond_TA           2927 non-null uint8\n",
      "Bsmt Qual_Ex            2927 non-null uint8\n",
      "Bsmt Qual_Fa            2927 non-null uint8\n",
      "Bsmt Qual_Gd            2927 non-null uint8\n",
      "Bsmt Qual_Po            2927 non-null uint8\n",
      "Bsmt Qual_TA            2927 non-null uint8\n",
      "Bsmt Cond_Ex            2927 non-null uint8\n",
      "Bsmt Cond_Fa            2927 non-null uint8\n",
      "Bsmt Cond_Gd            2927 non-null uint8\n",
      "Bsmt Cond_Po            2927 non-null uint8\n",
      "Bsmt Cond_TA            2927 non-null uint8\n",
      "Bsmt Exposure_Av        2927 non-null uint8\n",
      "Bsmt Exposure_Gd        2927 non-null uint8\n",
      "Bsmt Exposure_Mn        2927 non-null uint8\n",
      "Bsmt Exposure_No        2927 non-null uint8\n",
      "Heating QC_Ex           2927 non-null uint8\n",
      "Heating QC_Fa           2927 non-null uint8\n",
      "Heating QC_Gd           2927 non-null uint8\n",
      "Heating QC_Po           2927 non-null uint8\n",
      "Heating QC_TA           2927 non-null uint8\n",
      "Central Air_N           2927 non-null uint8\n",
      "Central Air_Y           2927 non-null uint8\n",
      "Electrical_FuseA        2927 non-null uint8\n",
      "Electrical_FuseF        2927 non-null uint8\n",
      "Electrical_FuseP        2927 non-null uint8\n",
      "Electrical_Mix          2927 non-null uint8\n",
      "Electrical_SBrkr        2927 non-null uint8\n",
      "Kitchen Qual_Ex         2927 non-null uint8\n",
      "Kitchen Qual_Fa         2927 non-null uint8\n",
      "Kitchen Qual_Gd         2927 non-null uint8\n",
      "Kitchen Qual_Po         2927 non-null uint8\n",
      "Kitchen Qual_TA         2927 non-null uint8\n",
      "Paved Drive_N           2927 non-null uint8\n",
      "Paved Drive_P           2927 non-null uint8\n",
      "Paved Drive_Y           2927 non-null uint8\n",
      "dtypes: uint8(66)\n",
      "memory usage: 211.5 KB\n",
      "None\n"
     ]
    }
   ],
   "source": [
    "for col in data_categorical.columns:\n",
    "    data_categorical[col] = data_categorical[col].astype('category')\n",
    "    col_dummies = pd.get_dummies(data_categorical[col], prefix=col)\n",
    "    data_categorical = pd.concat([data_categorical, col_dummies], axis=1)\n",
    "    del data_categorical[col]\n",
    "\n",
    "print(data_categorical.info())"
   ]
  },
  {
   "cell_type": "markdown",
   "metadata": {},
   "source": [
    "## Combining the data\n",
    "We can now combine our numerical and categorical features."
   ]
  },
  {
   "cell_type": "code",
   "execution_count": 96,
   "metadata": {
    "scrolled": false
   },
   "outputs": [
    {
     "name": "stdout",
     "output_type": "stream",
     "text": [
      "<class 'pandas.core.frame.DataFrame'>\n",
      "Int64Index: 2927 entries, 0 to 2929\n",
      "Data columns (total 74 columns):\n",
      "SalePrice               2927 non-null int64\n",
      "Mas Vnr Area            2927 non-null float64\n",
      "Full Bath               2927 non-null int64\n",
      "Garage Area             2927 non-null float64\n",
      "Overall Qual            2927 non-null int64\n",
      "Fireplaces              2927 non-null int64\n",
      "Years Before Sale       2927 non-null int64\n",
      "Years Since Remod       2927 non-null int64\n",
      "Lot Shape_IR1           2927 non-null uint8\n",
      "Lot Shape_IR2           2927 non-null uint8\n",
      "Lot Shape_IR3           2927 non-null uint8\n",
      "Lot Shape_Reg           2927 non-null uint8\n",
      "Land Contour_Bnk        2927 non-null uint8\n",
      "Land Contour_HLS        2927 non-null uint8\n",
      "Land Contour_Low        2927 non-null uint8\n",
      "Land Contour_Lvl        2927 non-null uint8\n",
      "Lot Config_Corner       2927 non-null uint8\n",
      "Lot Config_CulDSac      2927 non-null uint8\n",
      "Lot Config_FR2          2927 non-null uint8\n",
      "Lot Config_FR3          2927 non-null uint8\n",
      "Lot Config_Inside       2927 non-null uint8\n",
      "Bldg Type_1Fam          2927 non-null uint8\n",
      "Bldg Type_2fmCon        2927 non-null uint8\n",
      "Bldg Type_Duplex        2927 non-null uint8\n",
      "Bldg Type_Twnhs         2927 non-null uint8\n",
      "Bldg Type_TwnhsE        2927 non-null uint8\n",
      "Mas Vnr Type_BrkCmn     2927 non-null uint8\n",
      "Mas Vnr Type_BrkFace    2927 non-null uint8\n",
      "Mas Vnr Type_CBlock     2927 non-null uint8\n",
      "Mas Vnr Type_None       2927 non-null uint8\n",
      "Mas Vnr Type_Stone      2927 non-null uint8\n",
      "Exter Qual_Ex           2927 non-null uint8\n",
      "Exter Qual_Fa           2927 non-null uint8\n",
      "Exter Qual_Gd           2927 non-null uint8\n",
      "Exter Qual_TA           2927 non-null uint8\n",
      "Exter Cond_Ex           2927 non-null uint8\n",
      "Exter Cond_Fa           2927 non-null uint8\n",
      "Exter Cond_Gd           2927 non-null uint8\n",
      "Exter Cond_Po           2927 non-null uint8\n",
      "Exter Cond_TA           2927 non-null uint8\n",
      "Bsmt Qual_Ex            2927 non-null uint8\n",
      "Bsmt Qual_Fa            2927 non-null uint8\n",
      "Bsmt Qual_Gd            2927 non-null uint8\n",
      "Bsmt Qual_Po            2927 non-null uint8\n",
      "Bsmt Qual_TA            2927 non-null uint8\n",
      "Bsmt Cond_Ex            2927 non-null uint8\n",
      "Bsmt Cond_Fa            2927 non-null uint8\n",
      "Bsmt Cond_Gd            2927 non-null uint8\n",
      "Bsmt Cond_Po            2927 non-null uint8\n",
      "Bsmt Cond_TA            2927 non-null uint8\n",
      "Bsmt Exposure_Av        2927 non-null uint8\n",
      "Bsmt Exposure_Gd        2927 non-null uint8\n",
      "Bsmt Exposure_Mn        2927 non-null uint8\n",
      "Bsmt Exposure_No        2927 non-null uint8\n",
      "Heating QC_Ex           2927 non-null uint8\n",
      "Heating QC_Fa           2927 non-null uint8\n",
      "Heating QC_Gd           2927 non-null uint8\n",
      "Heating QC_Po           2927 non-null uint8\n",
      "Heating QC_TA           2927 non-null uint8\n",
      "Central Air_N           2927 non-null uint8\n",
      "Central Air_Y           2927 non-null uint8\n",
      "Electrical_FuseA        2927 non-null uint8\n",
      "Electrical_FuseF        2927 non-null uint8\n",
      "Electrical_FuseP        2927 non-null uint8\n",
      "Electrical_Mix          2927 non-null uint8\n",
      "Electrical_SBrkr        2927 non-null uint8\n",
      "Kitchen Qual_Ex         2927 non-null uint8\n",
      "Kitchen Qual_Fa         2927 non-null uint8\n",
      "Kitchen Qual_Gd         2927 non-null uint8\n",
      "Kitchen Qual_Po         2927 non-null uint8\n",
      "Kitchen Qual_TA         2927 non-null uint8\n",
      "Paved Drive_N           2927 non-null uint8\n",
      "Paved Drive_P           2927 non-null uint8\n",
      "Paved Drive_Y           2927 non-null uint8\n",
      "dtypes: float64(2), int64(6), uint8(66)\n",
      "memory usage: 394.5 KB\n",
      "None\n"
     ]
    }
   ],
   "source": [
    "final_data = pd.concat([data_numerical, data_categorical], axis=1)\n",
    "features = final_data.columns.drop(\"SalePrice\")\n",
    "target = 'SalePrice'\n",
    "print(final_data.info())"
   ]
  },
  {
   "cell_type": "markdown",
   "metadata": {},
   "source": [
    "## Building the Linear Regression Model\n",
    "We are now ready to begin the training and testing of the model. \n",
    "### Linear regression with holdout validation\n",
    "The simplest way to begin is to split the data into 2 parts, for training and testing, and calculate the resulting Root Mean Square Error on the testing set."
   ]
  },
  {
   "cell_type": "code",
   "execution_count": 97,
   "metadata": {},
   "outputs": [
    {
     "data": {
      "text/plain": [
       "35575.99662750925"
      ]
     },
     "execution_count": 97,
     "metadata": {},
     "output_type": "execute_result"
    }
   ],
   "source": [
    "train = final_data[:1460]\n",
    "test = final_data[1460:]\n",
    "lm = LinearRegression()\n",
    "lm.fit(train[features], train[target])\n",
    "rmse = mean_squared_error(lm.predict(test[features]), test[target])**0.5\n",
    "rmse"
   ]
  },
  {
   "cell_type": "markdown",
   "metadata": {},
   "source": [
    "### Simple Cross validation\n",
    "Let's see if we can improve our score by using cross validation, in which the two halves are used as training and testing alternatively. This should reduce overfitting of the model to the training data."
   ]
  },
  {
   "cell_type": "code",
   "execution_count": 100,
   "metadata": {},
   "outputs": [
    {
     "data": {
      "text/plain": [
       "33610.48023080897"
      ]
     },
     "execution_count": 100,
     "metadata": {},
     "output_type": "execute_result"
    }
   ],
   "source": [
    "final_data_shuffled = final_data.sample(frac=1)\n",
    "fold_one = final_data[:1460]\n",
    "fold_two = final_data[1460:]\n",
    "lm = LinearRegression()\n",
    "\n",
    "lm.fit(fold_one[features], fold_one[target])\n",
    "rmse_1 = mean_squared_error(lm.predict(fold_two[features]), fold_two[target])**0.5\n",
    "\n",
    "lm.fit(fold_two[features], fold_two[target])\n",
    "rmse_2 = mean_squared_error(lm.predict(fold_one[features]), fold_one[target])**0.5\n",
    "\n",
    "avg_rmse = (rmse_1+rmse_2) / 2\n",
    "avg_rmse"
   ]
  },
  {
   "cell_type": "markdown",
   "metadata": {},
   "source": [
    "### K-fold cross validation\n",
    "We can go even further by using multiple folds in which the fraction of the data used to train is changed sequentially."
   ]
  },
  {
   "cell_type": "code",
   "execution_count": 101,
   "metadata": {},
   "outputs": [
    {
     "data": {
      "text/plain": [
       "33026.37908463852"
      ]
     },
     "execution_count": 101,
     "metadata": {},
     "output_type": "execute_result"
    }
   ],
   "source": [
    "lm = LinearRegression()\n",
    "kf = KFold(5, shuffle=True)\n",
    "mses = cross_val_score(lm, final_data[features], final_data[target], cv=kf, scoring='neg_mean_squared_error')\n",
    "sum((mses*-1)**.5) / len(mses)"
   ]
  },
  {
   "cell_type": "markdown",
   "metadata": {},
   "source": [
    "Our error keeps reducing. Let's compare this to the actual price of houses to see how far off we are in our predictions, on average."
   ]
  },
  {
   "cell_type": "code",
   "execution_count": 102,
   "metadata": {},
   "outputs": [
    {
     "data": {
      "text/plain": [
       "180766.5664502904"
      ]
     },
     "execution_count": 102,
     "metadata": {},
     "output_type": "execute_result"
    }
   ],
   "source": [
    "final_data['SalePrice'].mean()"
   ]
  },
  {
   "cell_type": "markdown",
   "metadata": {},
   "source": [
    "The average house sale price is 181k, and the RMSE of our best performing model is 33k, or 18%. Not bad for a simple linear regression!\n",
    "## Conclusion\n",
    "Using the power of pandas and scikit, we were able to build a linear regression model from complex numerical and categorical data, to predict house sale prices with less than 20% error."
   ]
  }
 ],
 "metadata": {
  "anaconda-cloud": {},
  "kernelspec": {
   "display_name": "Python 3",
   "language": "python",
   "name": "python3"
  },
  "language_info": {
   "codemirror_mode": {
    "name": "ipython",
    "version": 3
   },
   "file_extension": ".py",
   "mimetype": "text/x-python",
   "name": "python",
   "nbconvert_exporter": "python",
   "pygments_lexer": "ipython3",
   "version": "3.7.3"
  }
 },
 "nbformat": 4,
 "nbformat_minor": 2
}
