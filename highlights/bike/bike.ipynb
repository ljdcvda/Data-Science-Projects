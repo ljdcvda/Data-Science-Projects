{
 "cells": [
  {
   "cell_type": "markdown",
   "metadata": {
    "collapsed": true
   },
   "source": [
    "# Predicting bike rental numbers using machine learning\n",
    "## Introduction\n",
    "The goal of this project is to predict how many bikes are rented from a bike sharing service at each hour. The dataset used to build the machine learning model provides the time and weather conditions along with the number of bikes rented.\n",
    "\n",
    "The data file used in this project can be downloaded [here](http://archive.ics.uci.edu/ml/datasets/Bike+Sharing+Dataset).\n",
    "\n",
    "Steps:\n",
    "* The correlation between data set columns is explored to identify good candidate features and remove colinear ones\n",
    "* An additional feature indicating the time of day (morning, afternoon, etc.) is generated\n",
    "* Linear regression, decision tree and random forest algorithms are applied \n",
    "\n",
    "The random forest algorithm is found to perform with the lowest RMS error\n",
    "\n",
    "## Preparing the data\n",
    "### Reading and exploring the data"
   ]
  },
  {
   "cell_type": "code",
   "execution_count": 121,
   "metadata": {
    "scrolled": false
   },
   "outputs": [
    {
     "name": "stdout",
     "output_type": "stream",
     "text": [
      "   instant      dteday  season  yr  mnth  hr  holiday  weekday  workingday  \\\n",
      "0        1  2011-01-01       1   0     1   0        0        6           0   \n",
      "1        2  2011-01-01       1   0     1   1        0        6           0   \n",
      "2        3  2011-01-01       1   0     1   2        0        6           0   \n",
      "\n",
      "   weathersit  temp   atemp   hum  windspeed  casual  registered  cnt  \n",
      "0           1  0.24  0.2879  0.81        0.0       3          13   16  \n",
      "1           1  0.22  0.2727  0.80        0.0       8          32   40  \n",
      "2           1  0.22  0.2727  0.80        0.0       5          27   32   \n",
      "\n",
      "<class 'pandas.core.frame.DataFrame'>\n",
      "RangeIndex: 17379 entries, 0 to 17378\n",
      "Data columns (total 17 columns):\n",
      "instant       17379 non-null int64\n",
      "dteday        17379 non-null object\n",
      "season        17379 non-null int64\n",
      "yr            17379 non-null int64\n",
      "mnth          17379 non-null int64\n",
      "hr            17379 non-null int64\n",
      "holiday       17379 non-null int64\n",
      "weekday       17379 non-null int64\n",
      "workingday    17379 non-null int64\n",
      "weathersit    17379 non-null int64\n",
      "temp          17379 non-null float64\n",
      "atemp         17379 non-null float64\n",
      "hum           17379 non-null float64\n",
      "windspeed     17379 non-null float64\n",
      "casual        17379 non-null int64\n",
      "registered    17379 non-null int64\n",
      "cnt           17379 non-null int64\n",
      "dtypes: float64(4), int64(12), object(1)\n",
      "memory usage: 2.3+ MB\n",
      "None\n"
     ]
    }
   ],
   "source": [
    "import pandas as pd\n",
    "bike_rentals = pd.read_csv('bike_rental_hour.csv')\n",
    "print(bike_rentals.head(3), '\\n')\n",
    "print(bike_rentals.info())"
   ]
  },
  {
   "cell_type": "markdown",
   "metadata": {},
   "source": [
    "* The target column will be 'cnt', which indicates the total number of bikes rented at each hour.\n",
    "* 'registered' and 'casual' are just the total number of rentals split between the type of user, these columns are redundant\n",
    "* The data is already in numerical form, except for dteday, and there are no missing values\n",
    "* the 'instant' column is just a unique identifier"
   ]
  },
  {
   "cell_type": "code",
   "execution_count": 122,
   "metadata": {},
   "outputs": [],
   "source": [
    "features = bike_rentals.columns.tolist()\n",
    "# removing target and redundant features from list\n",
    "features.remove('cnt')\n",
    "features.remove('casual')\n",
    "features.remove('registered')\n",
    "features.remove('instant')\n",
    "features.remove('dteday')"
   ]
  },
  {
   "cell_type": "markdown",
   "metadata": {},
   "source": [
    "### Visualizing bike rental totals\n",
    "Let's see how the value we are trying to predict is distributed"
   ]
  },
  {
   "cell_type": "code",
   "execution_count": 135,
   "metadata": {},
   "outputs": [
    {
     "data": {
      "text/plain": [
       "Text(0.5, 0, 'Total Bike Rentals')"
      ]
     },
     "execution_count": 135,
     "metadata": {},
     "output_type": "execute_result"
    },
    {
     "data": {
      "image/png": "[encoded data removed]",
      "text/plain": [
       "<Figure size 432x288 with 1 Axes>"
      ]
     },
     "metadata": {
      "needs_background": "light"
     },
     "output_type": "display_data"
    }
   ],
   "source": [
    "import matplotlib.pyplot as plt\n",
    "%matplotlib inline\n",
    "# plotting total bike rental counts as a histogram\n",
    "bike_rentals['cnt'].plot.hist()\n",
    "plt.title('Frequency Distribution of Total Bike Rentals per Hour')\n",
    "plt.xlabel('Total Bike Rentals')"
   ]
  },
  {
   "cell_type": "markdown",
   "metadata": {},
   "source": [
    "From this frequency distribution, we should keep in mind that the error might be large for our models, as some hours have hundreds of bike rentals, while many have near zero."
   ]
  },
  {
   "cell_type": "markdown",
   "metadata": {},
   "source": [
    "### Identifying useful features\n",
    "* We can identify and remove redundant features by calculating their correlation\n",
    "* The usefulness of the remaining features can be ranked by their correlation to our target"
   ]
  },
  {
   "cell_type": "code",
   "execution_count": 124,
   "metadata": {},
   "outputs": [
    {
     "data": {
      "text/plain": [
       "<matplotlib.axes._subplots.AxesSubplot at 0x1f8f7708780>"
      ]
     },
     "execution_count": 124,
     "metadata": {},
     "output_type": "execute_result"
    },
    {
     "data": {
      "image/png": "[encoded data removed]",
      "text/plain": [
       "<Figure size 432x288 with 2 Axes>"
      ]
     },
     "metadata": {
      "needs_background": "light"
     },
     "output_type": "display_data"
    }
   ],
   "source": [
    "import seaborn as sns\n",
    "import numpy as np\n",
    "# plotting the correlation between all features\n",
    "corr = bike_rentals[features].corr().abs()\n",
    "mask = np.zeros_like(corr)\n",
    "mask[np.triu_indices_from(mask)] = True\n",
    "sns.heatmap(corr, mask=mask, cmap='GnBu')"
   ]
  },
  {
   "cell_type": "markdown",
   "metadata": {},
   "source": [
    "* Month and season columns are strongly correlated, as expected. We can keep the month column as it has finer definition (12 vs 4)\n",
    "* temp and atemp provide the same information, let's keep atemp"
   ]
  },
  {
   "cell_type": "code",
   "execution_count": 125,
   "metadata": {},
   "outputs": [
    {
     "data": {
      "text/plain": [
       "<matplotlib.axes._subplots.AxesSubplot at 0x1f8f77b1ef0>"
      ]
     },
     "execution_count": 125,
     "metadata": {},
     "output_type": "execute_result"
    },
    {
     "data": {
      "image/png": "[encoded data removed]",
      "text/plain": [
       "<Figure size 432x288 with 2 Axes>"
      ]
     },
     "metadata": {
      "needs_background": "light"
     },
     "output_type": "display_data"
    }
   ],
   "source": [
    "# removing colinear features\n",
    "features.remove('season')\n",
    "features.remove('temp')\n",
    "# plotting the correlation between all remaining features\n",
    "corr = bike_rentals[features].corr().abs()\n",
    "mask = np.zeros_like(corr)\n",
    "mask[np.triu_indices_from(mask)] = True\n",
    "sns.heatmap(corr, mask=mask, cmap='GnBu')"
   ]
  },
  {
   "cell_type": "code",
   "execution_count": 136,
   "metadata": {},
   "outputs": [
    {
     "data": {
      "text/plain": [
       "atemp         0.400929\n",
       "hr            0.394071\n",
       "time_label    0.378318\n",
       "hum           0.322911\n",
       "yr            0.250495\n",
       "weathersit    0.142426\n",
       "mnth          0.120638\n",
       "windspeed     0.093234\n",
       "holiday       0.030927\n",
       "workingday    0.030284\n",
       "weekday       0.026900\n",
       "Name: cnt, dtype: float64"
      ]
     },
     "execution_count": 136,
     "metadata": {},
     "output_type": "execute_result"
    }
   ],
   "source": [
    "# printing the correlation between remaining features and our target\n",
    "bike_rentals.corr()['cnt'].abs().reindex(features).sort_values(ascending=False)"
   ]
  },
  {
   "cell_type": "markdown",
   "metadata": {},
   "source": [
    "Although some features such as weekday have a low correlation, removing them is not necessary, since the number of total features is still quite small and the models will converge quickly."
   ]
  },
  {
   "cell_type": "markdown",
   "metadata": {},
   "source": [
    "### Creating an additional feature\n",
    "We can increase the model's knowledge by grouping hours by time of day, linking closer hours together."
   ]
  },
  {
   "cell_type": "code",
   "execution_count": 137,
   "metadata": {},
   "outputs": [
    {
     "name": "stdout",
     "output_type": "stream",
     "text": [
      "   instant      dteday  season  yr  mnth  hr  holiday  weekday  workingday  \\\n",
      "0        1  2011-01-01       1   0     1   0        0        6           0   \n",
      "1        2  2011-01-01       1   0     1   1        0        6           0   \n",
      "2        3  2011-01-01       1   0     1   2        0        6           0   \n",
      "\n",
      "   weathersit  temp   atemp   hum  windspeed  casual  registered  cnt  \\\n",
      "0           1  0.24  0.2879  0.81        0.0       3          13   16   \n",
      "1           1  0.22  0.2727  0.80        0.0       8          32   40   \n",
      "2           1  0.22  0.2727  0.80        0.0       5          27   32   \n",
      "\n",
      "   time_label  \n",
      "0           4  \n",
      "1           4  \n",
      "2           4  \n"
     ]
    }
   ],
   "source": [
    "# function to perform the labelling\n",
    "def assign_label(hour):\n",
    "    if (hour>=6 and hour<12):\n",
    "        return 1\n",
    "    elif (hour>=12 and hour<18):\n",
    "        return 2\n",
    "    elif (hour>=18 and hour<24):\n",
    "        return 3\n",
    "    else:\n",
    "        return 4\n",
    "\n",
    "bike_rentals['time_label'] = bike_rentals['hr'].apply(assign_label)\n",
    "features.append('time_label')\n",
    "print(bike_rentals.head(3))"
   ]
  },
  {
   "cell_type": "markdown",
   "metadata": {},
   "source": [
    "Now that all our features are ready, it is time to fit the data to various models."
   ]
  },
  {
   "cell_type": "markdown",
   "metadata": {},
   "source": [
    "## Fitting machine learning models\n",
    "### Dividing into training and testing sets\n",
    "Lets separate our data into training and testing sets. The random seed is fixed for reproducibility."
   ]
  },
  {
   "cell_type": "code",
   "execution_count": 128,
   "metadata": {},
   "outputs": [],
   "source": [
    "train = bike_rentals.sample(int(len(bike_rentals)*.8), random_state=13)\n",
    "test = bike_rentals.loc[~bike_rentals.index.isin(train.index)]"
   ]
  },
  {
   "cell_type": "markdown",
   "metadata": {},
   "source": [
    "### Linear Regression model\n",
    "Let's first test the simplest model, linear regression. The error metric will be the root mean squared error."
   ]
  },
  {
   "cell_type": "code",
   "execution_count": 134,
   "metadata": {},
   "outputs": [
    {
     "data": {
      "text/plain": [
       "129.39071104172422"
      ]
     },
     "execution_count": 134,
     "metadata": {},
     "output_type": "execute_result"
    }
   ],
   "source": [
    "from sklearn.linear_model import LinearRegression\n",
    "from sklearn.metrics import mean_squared_error\n",
    "model = LinearRegression()\n",
    "target = 'cnt'\n",
    "model.fit(train[features], train[target])\n",
    "predictions = model.predict(test[features])\n",
    "rmse = mean_squared_error(predictions, test[target])**.5\n",
    "rmse"
   ]
  },
  {
   "cell_type": "markdown",
   "metadata": {},
   "source": [
    "Since the error is quite large (around 130 bikes per hour), it is logical to try different models. Next, let's apply the decision tree algorithm.\n",
    "### Decision Tree Model"
   ]
  },
  {
   "cell_type": "code",
   "execution_count": 130,
   "metadata": {},
   "outputs": [
    {
     "data": {
      "text/plain": [
       "62.76199746392462"
      ]
     },
     "execution_count": 130,
     "metadata": {},
     "output_type": "execute_result"
    }
   ],
   "source": [
    "from sklearn.tree import DecisionTreeRegressor\n",
    "model = DecisionTreeRegressor()\n",
    "model.fit(train[features], train[target])\n",
    "predictions = model.predict(test[features])\n",
    "rmse = mean_squared_error(predictions, test[target])**.5\n",
    "rmse"
   ]
  },
  {
   "cell_type": "markdown",
   "metadata": {},
   "source": [
    "The error was reduced by half! We can further improve on this model by setting a minimum number of elements in each leaf, thus reducing oversampling and therefore obtaining better results on our testing set."
   ]
  },
  {
   "cell_type": "code",
   "execution_count": 131,
   "metadata": {},
   "outputs": [
    {
     "data": {
      "text/plain": [
       "55.887406182889976"
      ]
     },
     "execution_count": 131,
     "metadata": {},
     "output_type": "execute_result"
    }
   ],
   "source": [
    "model = DecisionTreeRegressor(min_samples_leaf=5)\n",
    "model.fit(train[features], train[target])\n",
    "predictions = model.predict(test[features])\n",
    "rmse = mean_squared_error(predictions, test[target])**.5\n",
    "rmse"
   ]
  },
  {
   "cell_type": "markdown",
   "metadata": {},
   "source": [
    "The logical extension to a decision tree is to apply a random forest, reducing overfitting even further by using randomness in the choice of feature to split on at each branch.\n",
    "### Random Forest model"
   ]
  },
  {
   "cell_type": "code",
   "execution_count": 132,
   "metadata": {
    "scrolled": false
   },
   "outputs": [
    {
     "name": "stderr",
     "output_type": "stream",
     "text": [
      "C:\\Users\\Lourenco\\Anaconda3\\lib\\site-packages\\sklearn\\ensemble\\forest.py:246: FutureWarning: The default value of n_estimators will change from 10 in version 0.20 to 100 in 0.22.\n",
      "  \"10 in version 0.20 to 100 in 0.22.\", FutureWarning)\n"
     ]
    },
    {
     "data": {
      "text/plain": [
       "49.88805201866304"
      ]
     },
     "execution_count": 132,
     "metadata": {},
     "output_type": "execute_result"
    }
   ],
   "source": [
    "from sklearn.ensemble import RandomForestRegressor\n",
    "model = RandomForestRegressor(min_samples_leaf=5)\n",
    "model.fit(train[features], train[target])\n",
    "predictions = model.predict(test[features])\n",
    "rmse = mean_squared_error(predictions, test[target])**.5\n",
    "rmse"
   ]
  },
  {
   "cell_type": "markdown",
   "metadata": {},
   "source": [
    "## Conclusion\n",
    "The random forest model provided the lowest RMS error, at around 50 bikes. Considering the distribution of the data plotted earlier, this is a great result."
   ]
  }
 ],
 "metadata": {
  "kernelspec": {
   "display_name": "Python 3",
   "language": "python",
   "name": "python3"
  },
  "language_info": {
   "codemirror_mode": {
    "name": "ipython",
    "version": 3
   },
   "file_extension": ".py",
   "mimetype": "text/x-python",
   "name": "python",
   "nbconvert_exporter": "python",
   "pygments_lexer": "ipython3",
   "version": "3.7.3"
  }
 },
 "nbformat": 4,
 "nbformat_minor": 1
}
