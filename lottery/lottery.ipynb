{
 "cells": [
  {
   "cell_type": "markdown",
   "metadata": {},
   "source": [
    "# Project: Calculating lottery odds\n",
    "\n",
    "In this project, we apply probability rules to calculate the chances of winning the lottery."
   ]
  },
  {
   "cell_type": "code",
   "execution_count": 1,
   "metadata": {
    "collapsed": true
   },
   "outputs": [],
   "source": [
    "def factorial(n):\n",
    "    output = 1\n",
    "    for x in range (1,n+1):\n",
    "        output *= x\n",
    "    return output\n",
    "\n",
    "def combinations(n,k):\n",
    "    return factorial(n) / factorial(k) / factorial(n-k)"
   ]
  },
  {
   "cell_type": "code",
   "execution_count": 21,
   "metadata": {
    "collapsed": true
   },
   "outputs": [],
   "source": [
    "def one_ticket_probability(numbers):\n",
    "    print('The probability of winning is {:.7f}%'.format(100/combinations(49,len(numbers))))\n",
    "    print('There is a 1 in {:,} chances of winning'.format(int(combinations(49,len(numbers)))))"
   ]
  },
  {
   "cell_type": "code",
   "execution_count": 22,
   "metadata": {
    "collapsed": false,
    "scrolled": true
   },
   "outputs": [
    {
     "name": "stdout",
     "output_type": "stream",
     "text": [
      "The probability of winning is 0.0000072%\n",
      "There is a 1 in 13,983,816 chances of winning\n"
     ]
    }
   ],
   "source": [
    "one_ticket_probability([1,2,3,4,5,6])"
   ]
  },
  {
   "cell_type": "markdown",
   "metadata": {},
   "source": [
    "The function that calculates the probability of one ticket takes in the chosen numbers as an input, but the chances are always the same regardless."
   ]
  },
  {
   "cell_type": "markdown",
   "metadata": {},
   "source": [
    "## Using historical data\n",
    "We will also compare results with available data from drawings since 1982."
   ]
  },
  {
   "cell_type": "code",
   "execution_count": 24,
   "metadata": {
    "collapsed": false,
    "scrolled": true
   },
   "outputs": [
    {
     "name": "stdout",
     "output_type": "stream",
     "text": [
      "(3665, 11)\n",
      "   PRODUCT  DRAW NUMBER  SEQUENCE NUMBER  DRAW DATE  NUMBER DRAWN 1  \\\n",
      "0      649            1                0  6/12/1982               3   \n",
      "1      649            2                0  6/19/1982               8   \n",
      "2      649            3                0  6/26/1982               1   \n",
      "\n",
      "   NUMBER DRAWN 2  NUMBER DRAWN 3  NUMBER DRAWN 4  NUMBER DRAWN 5  \\\n",
      "0              11              12              14              41   \n",
      "1              33              36              37              39   \n",
      "2               6              23              24              27   \n",
      "\n",
      "   NUMBER DRAWN 6  BONUS NUMBER  \n",
      "0              43            13  \n",
      "1              41             9  \n",
      "2              39            34  \n",
      "      PRODUCT  DRAW NUMBER  SEQUENCE NUMBER  DRAW DATE  NUMBER DRAWN 1  \\\n",
      "3662      649         3589                0  6/13/2018               6   \n",
      "3663      649         3590                0  6/16/2018               2   \n",
      "3664      649         3591                0  6/20/2018              14   \n",
      "\n",
      "      NUMBER DRAWN 2  NUMBER DRAWN 3  NUMBER DRAWN 4  NUMBER DRAWN 5  \\\n",
      "3662              22              24              31              32   \n",
      "3663              15              21              31              38   \n",
      "3664              24              31              35              37   \n",
      "\n",
      "      NUMBER DRAWN 6  BONUS NUMBER  \n",
      "3662              34            16  \n",
      "3663              49             8  \n",
      "3664              48            17  \n"
     ]
    }
   ],
   "source": [
    "import pandas as pd\n",
    "data = pd.read_csv('649.csv')\n",
    "print(data.shape)\n",
    "print(data.head(3))\n",
    "print(data.tail(3))"
   ]
  },
  {
   "cell_type": "code",
   "execution_count": 35,
   "metadata": {
    "collapsed": false
   },
   "outputs": [],
   "source": [
    "def extract_numbers(row):\n",
    "    winners = set()\n",
    "    for col in [4,5,6,7,8,9]:\n",
    "        winners.add(row.iloc[col])\n",
    "    return winners\n",
    "\n",
    "data['winning_set'] = data.apply(extract_numbers, axis=1)"
   ]
  },
  {
   "cell_type": "code",
   "execution_count": 38,
   "metadata": {
    "collapsed": false
   },
   "outputs": [],
   "source": [
    "def check_historical_occurence(numbers, historical_data):\n",
    "    numbers = set(numbers)\n",
    "    print('These numbers appeared {} time(s) in the past'.format(sum(historical_data == numbers)))\n",
    "    one_ticket_probability(list(numbers))"
   ]
  },
  {
   "cell_type": "code",
   "execution_count": 41,
   "metadata": {
    "collapsed": false,
    "scrolled": true
   },
   "outputs": [
    {
     "name": "stdout",
     "output_type": "stream",
     "text": [
      "These numbers appeared 1 time(s) in the past\n",
      "The probability of winning is 0.0000072%\n",
      "There is a 1 in 13,983,816 chances of winning\n"
     ]
    }
   ],
   "source": [
    "check_historical_occurence([3,41,11,12,43,14], data['winning_set'])"
   ]
  },
  {
   "cell_type": "code",
   "execution_count": 40,
   "metadata": {
    "collapsed": false,
    "scrolled": true
   },
   "outputs": [
    {
     "name": "stdout",
     "output_type": "stream",
     "text": [
      "These numbers appeared 0 time(s) in the past\n",
      "The probability of winning is 0.0000072%\n",
      "There is a 1 in 13,983,816 chances of winning\n"
     ]
    }
   ],
   "source": [
    "check_historical_occurence([7,5,28,41,1,33], data['winning_set'])"
   ]
  },
  {
   "cell_type": "markdown",
   "metadata": {},
   "source": [
    "This new function checks the historical record for occurences of the numbers chosen. Since there are nearly 14 million combinations but only 3665 drawings since 1982, the odds of finding them are slim."
   ]
  },
  {
   "cell_type": "markdown",
   "metadata": {},
   "source": [
    "## Chances for multiple tickets\n",
    "Let's now calculate the chances when playing multiple tickets... they shouldnt increase very much!"
   ]
  },
  {
   "cell_type": "code",
   "execution_count": 46,
   "metadata": {
    "collapsed": false,
    "scrolled": true
   },
   "outputs": [
    {
     "name": "stdout",
     "output_type": "stream",
     "text": [
      "When playing 1 tickets...\n",
      "  The probability of winning is 0.0000072%\n",
      "  There is a 1 in 13,983,816.0 chances of winning\n",
      "When playing 10 tickets...\n",
      "  The probability of winning is 0.0000715%\n",
      "  There is a 1 in 1,398,381.6 chances of winning\n",
      "When playing 100 tickets...\n",
      "  The probability of winning is 0.0007151%\n",
      "  There is a 1 in 139,838.16 chances of winning\n",
      "When playing 10000 tickets...\n",
      "  The probability of winning is 0.0715112%\n",
      "  There is a 1 in 1,398.3816 chances of winning\n",
      "When playing 1000000 tickets...\n",
      "  The probability of winning is 7.1511238%\n",
      "  There is a 1 in 13.983816 chances of winning\n",
      "When playing 6991908 tickets...\n",
      "  The probability of winning is 50.0000000%\n",
      "  There is a 1 in 2.0 chances of winning\n",
      "When playing 13983816 tickets...\n",
      "  The probability of winning is 100.0000000%\n",
      "  There is a 1 in 1.0 chances of winning\n"
     ]
    }
   ],
   "source": [
    "def multi_ticket_probability(nt):\n",
    "    print('When playing {} tickets...'.format(nt))\n",
    "    print('  The probability of winning is {:.7f}%'.format(nt*100/combinations(49,6)))\n",
    "    print('  There is a 1 in {:,} chances of winning'.format(int(combinations(49,6))/nt))\n",
    "    \n",
    "for nt in [1, 10, 100, 10000, 1000000, 6991908, 13983816]:\n",
    "    multi_ticket_probability(nt)"
   ]
  },
  {
   "cell_type": "markdown",
   "metadata": {},
   "source": [
    "The chance sof winning are multiplied by the number of tickets played."
   ]
  },
  {
   "cell_type": "markdown",
   "metadata": {},
   "source": [
    "## Winning with fewer numbers\n",
    "Let's calculate the probability of getting smaller prizes."
   ]
  },
  {
   "cell_type": "code",
   "execution_count": 49,
   "metadata": {
    "collapsed": true
   },
   "outputs": [],
   "source": [
    "def probability_less_6(w):\n",
    "    combinations_possible = combinations(6,w)\n",
    "    successful_outcomes = combinations_possible*combinations(49-w,6-w)\n",
    "    print('The probability of winning is {:.7f}%'.format(successful_outcomes*100/combinations(49,6)))\n",
    "    print('There is a 1 in {:,} chances of winning'.format(int(combinations(49,6)/successful_outcomes)))"
   ]
  },
  {
   "cell_type": "code",
   "execution_count": 50,
   "metadata": {
    "collapsed": false,
    "scrolled": true
   },
   "outputs": [
    {
     "name": "stdout",
     "output_type": "stream",
     "text": [
      "The probability of winning is 19.1326531%\n",
      "There is a 1 in 5 chances of winning\n",
      "The probability of winning is 2.1710812%\n",
      "There is a 1 in 46 chances of winning\n",
      "The probability of winning is 0.1061942%\n",
      "There is a 1 in 941 chances of winning\n",
      "The probability of winning is 0.0018879%\n",
      "There is a 1 in 52,969 chances of winning\n"
     ]
    }
   ],
   "source": [
    "probability_less_6(2)\n",
    "probability_less_6(3)\n",
    "probability_less_6(4)\n",
    "probability_less_6(5)"
   ]
  },
  {
   "cell_type": "code",
   "execution_count": null,
   "metadata": {
    "collapsed": true
   },
   "outputs": [],
   "source": [
    "The chances of winning increase a lot wit"
   ]
  }
 ],
 "metadata": {
  "kernelspec": {
   "display_name": "Python 3",
   "language": "python",
   "name": "python3"
  },
  "language_info": {
   "codemirror_mode": {
    "name": "ipython",
    "version": 3
   },
   "file_extension": ".py",
   "mimetype": "text/x-python",
   "name": "python",
   "nbconvert_exporter": "python",
   "pygments_lexer": "ipython3",
   "version": "3.4.3"
  }
 },
 "nbformat": 4,
 "nbformat_minor": 2
}
