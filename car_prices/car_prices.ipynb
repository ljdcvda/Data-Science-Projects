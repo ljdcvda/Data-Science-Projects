{
 "cells": [
  {
   "cell_type": "markdown",
   "metadata": {
    "collapsed": true
   },
   "source": [
    "# Predicting car prices using k-nearest neighbors\n",
    "## Reading the data"
   ]
  },
  {
   "cell_type": "code",
   "execution_count": 168,
   "metadata": {
    "collapsed": false,
    "scrolled": false
   },
   "outputs": [
    {
     "name": "stdout",
     "output_type": "stream",
     "text": [
      "   symboling normalized_losses         make fuel_type aspiration num_doors  \\\n",
      "0          3                 ?  alfa-romero       gas        std       two   \n",
      "1          3                 ?  alfa-romero       gas        std       two   \n",
      "2          1                 ?  alfa-romero       gas        std       two   \n",
      "3          2               164         audi       gas        std      four   \n",
      "4          2               164         audi       gas        std      four   \n",
      "\n",
      "    body_style drive_wheels engine_location  wheel_base  ...    engine_size  \\\n",
      "0  convertible          rwd           front        88.6  ...            130   \n",
      "1  convertible          rwd           front        88.6  ...            130   \n",
      "2    hatchback          rwd           front        94.5  ...            152   \n",
      "3        sedan          fwd           front        99.8  ...            109   \n",
      "4        sedan          4wd           front        99.4  ...            136   \n",
      "\n",
      "   fuel_system  bore  stroke compression_ratio horsepower  peak_rpm city_mpg  \\\n",
      "0         mpfi  3.47    2.68               9.0        111      5000       21   \n",
      "1         mpfi  3.47    2.68               9.0        111      5000       21   \n",
      "2         mpfi  2.68    3.47               9.0        154      5000       19   \n",
      "3         mpfi  3.19    3.40              10.0        102      5500       24   \n",
      "4         mpfi  3.19    3.40               8.0        115      5500       18   \n",
      "\n",
      "  highway_mpg  price  \n",
      "0          27  13495  \n",
      "1          27  16500  \n",
      "2          26  16500  \n",
      "3          30  13950  \n",
      "4          22  17450  \n",
      "\n",
      "[5 rows x 26 columns]\n"
     ]
    }
   ],
   "source": [
    "import pandas as pd\n",
    "col_names = ['symboling',\n",
    "             'normalized_losses',\n",
    "             'make',\n",
    "             'fuel_type',\n",
    "             'aspiration',\n",
    "             'num_doors',\n",
    "             'body_style',\n",
    "             'drive_wheels',\n",
    "             'engine_location',\n",
    "             'wheel_base',\n",
    "             'length',\n",
    "             'width',\n",
    "             'height',\n",
    "             'curb_weight',\n",
    "             'engine_type',\n",
    "             'num_cylinders',\n",
    "             'engine_size',\n",
    "             'fuel_system',\n",
    "             'bore',\n",
    "             'stroke',\n",
    "             'compression_ratio',\n",
    "             'horsepower',\n",
    "             'peak_rpm',\n",
    "             'city_mpg',\n",
    "             'highway_mpg',\n",
    "             'price']\n",
    "cars = pd.read_table('imports-85.data', sep=',', header=None, names=col_names)\n",
    "print(cars.head())"
   ]
  },
  {
   "cell_type": "markdown",
   "metadata": {},
   "source": [
    "The target column is price. Features that seem relevant at first glance are length, width, height, curb weight, engine size, bore, stroke, compression ratio, horsepower, peak rpm, city and highay mileage. The number of doors can be converted to a numeric column as well so they can be used in the models. "
   ]
  },
  {
   "cell_type": "markdown",
   "metadata": {},
   "source": [
    "## Finding missing values, removing them, and normalizing the data"
   ]
  },
  {
   "cell_type": "code",
   "execution_count": 169,
   "metadata": {
    "collapsed": false
   },
   "outputs": [
    {
     "name": "stdout",
     "output_type": "stream",
     "text": [
      "<class 'pandas.core.frame.DataFrame'>\n",
      "RangeIndex: 205 entries, 0 to 204\n",
      "Data columns (total 26 columns):\n",
      "symboling            205 non-null int64\n",
      "normalized_losses    205 non-null object\n",
      "make                 205 non-null object\n",
      "fuel_type            205 non-null object\n",
      "aspiration           205 non-null object\n",
      "num_doors            205 non-null object\n",
      "body_style           205 non-null object\n",
      "drive_wheels         205 non-null object\n",
      "engine_location      205 non-null object\n",
      "wheel_base           205 non-null float64\n",
      "length               205 non-null float64\n",
      "width                205 non-null float64\n",
      "height               205 non-null float64\n",
      "curb_weight          205 non-null int64\n",
      "engine_type          205 non-null object\n",
      "num_cylinders        205 non-null object\n",
      "engine_size          205 non-null int64\n",
      "fuel_system          205 non-null object\n",
      "bore                 205 non-null object\n",
      "stroke               205 non-null object\n",
      "compression_ratio    205 non-null float64\n",
      "horsepower           205 non-null object\n",
      "peak_rpm             205 non-null object\n",
      "city_mpg             205 non-null int64\n",
      "highway_mpg          205 non-null int64\n",
      "price                205 non-null object\n",
      "dtypes: float64(5), int64(5), object(16)\n",
      "memory usage: 41.7+ KB\n",
      "None\n"
     ]
    }
   ],
   "source": [
    "print(cars.info())"
   ]
  },
  {
   "cell_type": "markdown",
   "metadata": {},
   "source": [
    "Some columns can be removed since they are entirely non numeric and cannot be converted."
   ]
  },
  {
   "cell_type": "code",
   "execution_count": 170,
   "metadata": {
    "collapsed": false
   },
   "outputs": [
    {
     "name": "stdout",
     "output_type": "stream",
     "text": [
      "<class 'pandas.core.frame.DataFrame'>\n",
      "RangeIndex: 205 entries, 0 to 204\n",
      "Data columns (total 16 columns):\n",
      "normalized_losses    205 non-null object\n",
      "num_doors            205 non-null object\n",
      "num_cylinders        205 non-null object\n",
      "wheel_base           205 non-null float64\n",
      "length               205 non-null float64\n",
      "width                205 non-null float64\n",
      "height               205 non-null float64\n",
      "curb_weight          205 non-null int64\n",
      "bore                 205 non-null object\n",
      "stroke               205 non-null object\n",
      "compression_ratio    205 non-null float64\n",
      "horsepower           205 non-null object\n",
      "peak_rpm             205 non-null object\n",
      "city_mpg             205 non-null int64\n",
      "highway_mpg          205 non-null int64\n",
      "price                205 non-null object\n",
      "dtypes: float64(5), int64(3), object(8)\n",
      "memory usage: 25.7+ KB\n",
      "None\n"
     ]
    }
   ],
   "source": [
    "cols = ['normalized_losses', 'num_doors', 'num_cylinders', 'wheel_base', 'length', 'width', 'height', 'curb_weight', 'bore', 'stroke', 'compression_ratio', 'horsepower', 'peak_rpm', 'city_mpg', 'highway_mpg', 'price']\n",
    "cars = cars[cols]\n",
    "print(cars.info())"
   ]
  },
  {
   "cell_type": "markdown",
   "metadata": {},
   "source": [
    "Most of the missing values are actually written as \"?\" in the data."
   ]
  },
  {
   "cell_type": "code",
   "execution_count": 171,
   "metadata": {
    "collapsed": false
   },
   "outputs": [
    {
     "name": "stdout",
     "output_type": "stream",
     "text": [
      "<class 'pandas.core.frame.DataFrame'>\n",
      "RangeIndex: 205 entries, 0 to 204\n",
      "Data columns (total 16 columns):\n",
      "normalized_losses    164 non-null object\n",
      "num_doors            203 non-null object\n",
      "num_cylinders        205 non-null object\n",
      "wheel_base           205 non-null float64\n",
      "length               205 non-null float64\n",
      "width                205 non-null float64\n",
      "height               205 non-null float64\n",
      "curb_weight          205 non-null int64\n",
      "bore                 201 non-null object\n",
      "stroke               201 non-null object\n",
      "compression_ratio    205 non-null float64\n",
      "horsepower           203 non-null object\n",
      "peak_rpm             203 non-null object\n",
      "city_mpg             205 non-null int64\n",
      "highway_mpg          205 non-null int64\n",
      "price                201 non-null object\n",
      "dtypes: float64(5), int64(3), object(8)\n",
      "memory usage: 25.7+ KB\n",
      "None\n"
     ]
    }
   ],
   "source": [
    "import numpy as np\n",
    "cars = cars.replace('?', np.nan)\n",
    "print(cars.info())"
   ]
  },
  {
   "cell_type": "markdown",
   "metadata": {},
   "source": [
    "The number of missing values in the normalized losses column is too high to drop the corresponding rows.\n",
    "\n",
    "We dont want to alter the price column because it is our objective.\n",
    "\n",
    "Let's drop rows with missing price values."
   ]
  },
  {
   "cell_type": "code",
   "execution_count": 172,
   "metadata": {
    "collapsed": false
   },
   "outputs": [
    {
     "name": "stdout",
     "output_type": "stream",
     "text": [
      "<class 'pandas.core.frame.DataFrame'>\n",
      "Int64Index: 201 entries, 0 to 204\n",
      "Data columns (total 16 columns):\n",
      "normalized_losses    164 non-null object\n",
      "num_doors            199 non-null object\n",
      "num_cylinders        201 non-null object\n",
      "wheel_base           201 non-null float64\n",
      "length               201 non-null float64\n",
      "width                201 non-null float64\n",
      "height               201 non-null float64\n",
      "curb_weight          201 non-null int64\n",
      "bore                 197 non-null object\n",
      "stroke               197 non-null object\n",
      "compression_ratio    201 non-null float64\n",
      "horsepower           199 non-null object\n",
      "peak_rpm             199 non-null object\n",
      "city_mpg             201 non-null int64\n",
      "highway_mpg          201 non-null int64\n",
      "price                201 non-null object\n",
      "dtypes: float64(5), int64(3), object(8)\n",
      "memory usage: 26.7+ KB\n",
      "None\n"
     ]
    }
   ],
   "source": [
    "cars = cars.dropna(subset=['price'])\n",
    "print(cars.info())"
   ]
  },
  {
   "cell_type": "markdown",
   "metadata": {},
   "source": [
    "The number of doors and number of cylinders can be converted to numeric."
   ]
  },
  {
   "cell_type": "code",
   "execution_count": 174,
   "metadata": {
    "collapsed": false,
    "scrolled": true
   },
   "outputs": [
    {
     "name": "stdout",
     "output_type": "stream",
     "text": [
      "four    113\n",
      "two      86\n",
      "NaN       2\n",
      "Name: num_doors, dtype: int64\n",
      "four      157\n",
      "six        24\n",
      "five       10\n",
      "two         4\n",
      "eight       4\n",
      "three       1\n",
      "twelve      1\n",
      "Name: num_cylinders, dtype: int64\n"
     ]
    }
   ],
   "source": [
    "print(cars['num_doors'].value_counts(dropna=False))\n",
    "print(cars['num_cylinders'].value_counts(dropna=False))"
   ]
  },
  {
   "cell_type": "code",
   "execution_count": 175,
   "metadata": {
    "collapsed": false
   },
   "outputs": [
    {
     "name": "stdout",
     "output_type": "stream",
     "text": [
      " 4.0    113\n",
      " 2.0     86\n",
      "NaN       2\n",
      "Name: num_doors, dtype: int64\n",
      "4     157\n",
      "6      24\n",
      "5      10\n",
      "8       4\n",
      "2       4\n",
      "12      1\n",
      "3       1\n",
      "Name: num_cylinders, dtype: int64\n"
     ]
    }
   ],
   "source": [
    "def convert_number(string):\n",
    "    if string == 'two':\n",
    "        return 2\n",
    "    elif string == 'three':\n",
    "        return 3\n",
    "    elif string == 'four':\n",
    "        return 4\n",
    "    elif string == 'five':\n",
    "        return 5\n",
    "    elif string == 'six':\n",
    "        return 6\n",
    "    elif string == 'eight':\n",
    "        return 8\n",
    "    elif string == 'twelve':\n",
    "        return 12      \n",
    "    \n",
    "cars['num_doors'] = cars['num_doors'].apply(convert_number)\n",
    "cars['num_cylinders'] = cars['num_cylinders'].apply(convert_number)\n",
    "print(cars['num_doors'].value_counts(dropna=False))\n",
    "print(cars['num_cylinders'].value_counts(dropna=False))"
   ]
  },
  {
   "cell_type": "code",
   "execution_count": 176,
   "metadata": {
    "collapsed": false
   },
   "outputs": [
    {
     "name": "stdout",
     "output_type": "stream",
     "text": [
      "<class 'pandas.core.frame.DataFrame'>\n",
      "Int64Index: 201 entries, 0 to 204\n",
      "Data columns (total 16 columns):\n",
      "normalized_losses    164 non-null object\n",
      "num_doors            199 non-null float64\n",
      "num_cylinders        201 non-null int64\n",
      "wheel_base           201 non-null float64\n",
      "length               201 non-null float64\n",
      "width                201 non-null float64\n",
      "height               201 non-null float64\n",
      "curb_weight          201 non-null int64\n",
      "bore                 197 non-null object\n",
      "stroke               197 non-null object\n",
      "compression_ratio    201 non-null float64\n",
      "horsepower           199 non-null object\n",
      "peak_rpm             199 non-null object\n",
      "city_mpg             201 non-null int64\n",
      "highway_mpg          201 non-null int64\n",
      "price                201 non-null object\n",
      "dtypes: float64(6), int64(4), object(6)\n",
      "memory usage: 26.7+ KB\n",
      "None\n"
     ]
    }
   ],
   "source": [
    "print(cars.info())"
   ]
  },
  {
   "cell_type": "markdown",
   "metadata": {},
   "source": [
    "Lets finish by filling the missing rows with their col means "
   ]
  },
  {
   "cell_type": "code",
   "execution_count": 178,
   "metadata": {
    "collapsed": false
   },
   "outputs": [
    {
     "name": "stdout",
     "output_type": "stream",
     "text": [
      "<class 'pandas.core.frame.DataFrame'>\n",
      "Int64Index: 201 entries, 0 to 204\n",
      "Data columns (total 16 columns):\n",
      "normalized_losses    201 non-null float64\n",
      "num_doors            201 non-null float64\n",
      "num_cylinders        201 non-null float64\n",
      "wheel_base           201 non-null float64\n",
      "length               201 non-null float64\n",
      "width                201 non-null float64\n",
      "height               201 non-null float64\n",
      "curb_weight          201 non-null float64\n",
      "bore                 201 non-null float64\n",
      "stroke               201 non-null float64\n",
      "compression_ratio    201 non-null float64\n",
      "horsepower           201 non-null float64\n",
      "peak_rpm             201 non-null float64\n",
      "city_mpg             201 non-null float64\n",
      "highway_mpg          201 non-null float64\n",
      "price                201 non-null float64\n",
      "dtypes: float64(16)\n",
      "memory usage: 26.7 KB\n",
      "None\n"
     ]
    }
   ],
   "source": [
    "cars = cars.astype('float')\n",
    "cars = cars.fillna(cars.mean())\n",
    "print(cars.info())"
   ]
  },
  {
   "cell_type": "markdown",
   "metadata": {},
   "source": [
    "With the data fixed, it can now be normalized such that all values count equally in a nearest neighbor model."
   ]
  },
  {
   "cell_type": "code",
   "execution_count": 179,
   "metadata": {
    "collapsed": false
   },
   "outputs": [
    {
     "name": "stdout",
     "output_type": "stream",
     "text": [
      "   normalized_losses  num_doors  num_cylinders  wheel_base    length  \\\n",
      "0           0.298429        0.0            0.2    0.058309  0.413433   \n",
      "1           0.298429        0.0            0.2    0.058309  0.413433   \n",
      "2           0.298429        0.0            0.4    0.230321  0.449254   \n",
      "3           0.518325        1.0            0.2    0.384840  0.529851   \n",
      "4           0.518325        1.0            0.3    0.373178  0.529851   \n",
      "\n",
      "      width    height  curb_weight      bore    stroke  compression_ratio  \\\n",
      "0  0.324786  0.083333     0.411171  0.664286  0.290476             0.1250   \n",
      "1  0.324786  0.083333     0.411171  0.664286  0.290476             0.1250   \n",
      "2  0.444444  0.383333     0.517843  0.100000  0.666667             0.1250   \n",
      "3  0.504274  0.541667     0.329325  0.464286  0.633333             0.1875   \n",
      "4  0.521368  0.541667     0.518231  0.464286  0.633333             0.0625   \n",
      "\n",
      "   horsepower  peak_rpm  city_mpg  highway_mpg    price  \n",
      "0    0.294393  0.346939  0.222222     0.289474  13495.0  \n",
      "1    0.294393  0.346939  0.222222     0.289474  16500.0  \n",
      "2    0.495327  0.346939  0.166667     0.263158  16500.0  \n",
      "3    0.252336  0.551020  0.305556     0.368421  13950.0  \n",
      "4    0.313084  0.551020  0.138889     0.157895  17450.0  \n"
     ]
    }
   ],
   "source": [
    "cars_normalized = (cars - cars.min())/(cars.max() - cars.min())\n",
    "cars_normalized['price'] = cars['price']\n",
    "print(cars_normalized.head())"
   ]
  },
  {
   "cell_type": "markdown",
   "metadata": {},
   "source": [
    "## Univariate 5 nearest neighbors model"
   ]
  },
  {
   "cell_type": "code",
   "execution_count": 182,
   "metadata": {
    "collapsed": false
   },
   "outputs": [
    {
     "data": {
      "text/plain": [
       "[('horsepower', 4267.730361029788),\n",
       " ('highway_mpg', 4628.7930938146865),\n",
       " ('city_mpg', 4814.77801484941),\n",
       " ('num_cylinders', 5107.160475952241),\n",
       " ('curb_weight', 5166.828580646175),\n",
       " ('width', 7110.412630045104),\n",
       " ('compression_ratio', 8096.301512113387),\n",
       " ('normalized_losses', 8131.436882072488),\n",
       " ('length', 8304.189346264562),\n",
       " ('stroke', 9334.714914185055),\n",
       " ('num_doors', 9628.229658809156),\n",
       " ('peak_rpm', 9759.209969770063),\n",
       " ('wheel_base', 9969.243291700175),\n",
       " ('height', 10839.693635873846),\n",
       " ('bore', 13397.091693481998)]"
      ]
     },
     "execution_count": 182,
     "metadata": {},
     "output_type": "execute_result"
    }
   ],
   "source": [
    "from sklearn.neighbors import KNeighborsRegressor\n",
    "from sklearn.metrics import mean_squared_error\n",
    "import matplotlib.pyplot as plt\n",
    "%matplotlib inline\n",
    "\n",
    "def knn_train_test(training_col, target_col, df):\n",
    "    rand_df = df.reindex(np.random.permutation(df.index))\n",
    "    threshold = int(.5 * len(df))\n",
    "    training_data = df[:threshold]\n",
    "    testing_data = df[threshold:]\n",
    "    knn = KNeighborsRegressor()\n",
    "    knn.fit(training_data[[training_col]], training_data[target_col])\n",
    "    prediction = knn.predict(testing_data[[training_col]])\n",
    "    return mean_squared_error(prediction, testing_data[target_col])**0.5\n",
    "\n",
    "col_list = cars_normalized.columns.tolist()\n",
    "col_list.remove('price')\n",
    "rmses = {}\n",
    "\n",
    "for col in col_list:\n",
    "    rmses[col] = knn_train_test(col, 'price', cars_normalized)\n",
    "    \n",
    "\n",
    "rmses = sorted(rmses.items(), key=lambda kv: kv[1])\n",
    "rmses"
   ]
  },
  {
   "cell_type": "markdown",
   "metadata": {},
   "source": [
    "With the default number of nearest neighbors (5), the best performing metric is horsepower.\n",
    "## Univariate k nearest neighbors model\n",
    "Let's observe the effect of the K parameter on each univariate model"
   ]
  },
  {
   "cell_type": "code",
   "execution_count": 183,
   "metadata": {
    "collapsed": false
   },
   "outputs": [
    {
     "data": {
      "text/plain": [
       "{'bore': {1: 16502.858944335483,\n",
       "  3: 13895.11178798717,\n",
       "  5: 13397.091693481998,\n",
       "  7: 11075.156453540423,\n",
       "  9: 10178.905997122287},\n",
       " 'city_mpg': {1: 5347.150261662008,\n",
       "  3: 5210.2611302222185,\n",
       "  5: 4814.77801484941,\n",
       "  7: 4575.950005056604,\n",
       "  9: 4770.344178922603},\n",
       " 'compression_ratio': {1: 8085.605142155501,\n",
       "  3: 8137.969725694832,\n",
       "  5: 8096.301512113387,\n",
       "  7: 7896.692870779086,\n",
       "  9: 7823.115528549677},\n",
       " 'curb_weight': {1: 6566.749175404316,\n",
       "  3: 5635.184748392448,\n",
       "  5: 5166.828580646175,\n",
       "  7: 5239.631250704795,\n",
       "  9: 5244.5555635847895},\n",
       " 'height': {1: 13032.276289928392,\n",
       "  3: 11411.019683044135,\n",
       "  5: 10839.693635873846,\n",
       "  7: 10041.327943738908,\n",
       "  9: 9313.330965281266},\n",
       " 'highway_mpg': {1: 5188.333470202142,\n",
       "  3: 4655.081481516726,\n",
       "  5: 4628.7930938146865,\n",
       "  7: 4112.387802956751,\n",
       "  9: 4029.9622707968324},\n",
       " 'horsepower': {1: 7027.606971265131,\n",
       "  3: 5400.929793235897,\n",
       "  5: 4267.730361029788,\n",
       "  7: 3821.376566368764,\n",
       "  9: 3461.132024333479},\n",
       " 'length': {1: 10053.579063701594,\n",
       "  3: 8230.050248540974,\n",
       "  5: 8304.189346264562,\n",
       "  7: 8483.928913734228,\n",
       "  9: 7655.12304417215},\n",
       " 'normalized_losses': {1: 11628.904782718988,\n",
       "  3: 9578.793245190305,\n",
       "  5: 8131.436882072488,\n",
       "  7: 7441.814253467208,\n",
       "  9: 7644.0837748147915},\n",
       " 'num_cylinders': {1: 5587.191114903395,\n",
       "  3: 4964.7171110043355,\n",
       "  5: 5107.160475952241,\n",
       "  7: 4894.1087833836145,\n",
       "  9: 5212.396351555194},\n",
       " 'num_doors': {1: 6780.573700865679,\n",
       "  3: 9187.095038559508,\n",
       "  5: 9628.229658809156,\n",
       "  7: 8459.137491805755,\n",
       "  9: 8408.060871370568},\n",
       " 'peak_rpm': {1: 10914.812292757884,\n",
       "  3: 11280.73983419619,\n",
       "  5: 9759.209969770063,\n",
       "  7: 9392.829861131397,\n",
       "  9: 9423.925545439102},\n",
       " 'stroke': {1: 10925.953215320224,\n",
       "  3: 11848.331671515607,\n",
       "  5: 9334.714914185055,\n",
       "  7: 8255.343109791127,\n",
       "  9: 7516.859170151421},\n",
       " 'wheel_base': {1: 8052.050206913359,\n",
       "  3: 9171.153878561105,\n",
       "  5: 9969.243291700175,\n",
       "  7: 8938.808809133783,\n",
       "  9: 8637.3043859821},\n",
       " 'width': {1: 8044.1444455819,\n",
       "  3: 7234.558219432825,\n",
       "  5: 7110.412630045104,\n",
       "  7: 6621.848358316696,\n",
       "  9: 6531.417638109127}}"
      ]
     },
     "execution_count": 183,
     "metadata": {},
     "output_type": "execute_result"
    }
   ],
   "source": [
    "def knn_train_test(training_col, target_col, df, k):\n",
    "    rand_df = df.reindex(np.random.permutation(df.index))\n",
    "    threshold = int(.5 * len(df))\n",
    "    training_data = df[:threshold]\n",
    "    testing_data = df[threshold:]\n",
    "    knn = KNeighborsRegressor(n_neighbors=k)\n",
    "    knn.fit(training_data[[training_col]], training_data[target_col])\n",
    "    prediction = knn.predict(testing_data[[training_col]])\n",
    "    return mean_squared_error(prediction, testing_data[target_col])**0.5\n",
    "\n",
    "col_list = cars_normalized.columns.tolist()\n",
    "col_list.remove('price')\n",
    "\n",
    "rmses = {}\n",
    "for col in col_list:\n",
    "    models = {}\n",
    "    for k in [1, 3, 5, 7, 9]:\n",
    "        models[k] = knn_train_test(col, 'price', cars_normalized, k)\n",
    "    rmses[col] = models\n",
    "    \n",
    "rmses"
   ]
  },
  {
   "cell_type": "code",
   "execution_count": 184,
   "metadata": {
    "collapsed": false,
    "scrolled": true
   },
   "outputs": [
    {
     "data": {
      "image/png": "[encoded data removed]",
      "text/plain": [
       "<matplotlib.figure.Figure at 0x7fd955af14e0>"
      ]
     },
     "metadata": {},
     "output_type": "display_data"
    }
   ],
   "source": [
    "for key,sub_dict in rmses.items():\n",
    "    x = list(sub_dict.keys())\n",
    "    y = list(sub_dict.values())\n",
    "    xy = list(sorted(zip(x,y)))\n",
    "    x = [e[0] for e in xy]\n",
    "    y = [e[1] for e in xy]\n",
    "    plt.plot(x,y, label=key)\n"
   ]
  },
  {
   "cell_type": "markdown",
   "metadata": {},
   "source": [
    "## Multivariate model\n",
    "Let's find the best features to try multivariate models and use them together."
   ]
  },
  {
   "cell_type": "code",
   "execution_count": 185,
   "metadata": {
    "collapsed": false
   },
   "outputs": [
    {
     "data": {
      "text/plain": [
       "[('highway_mpg', 4522.911623857428),\n",
       " ('horsepower', 4795.755143246612),\n",
       " ('city_mpg', 4943.696718142569),\n",
       " ('num_cylinders', 5153.114767359756),\n",
       " ('curb_weight', 5570.589863746505),\n",
       " ('width', 7108.476258297131),\n",
       " ('compression_ratio', 8007.936955858497),\n",
       " ('num_doors', 8492.619352282132),\n",
       " ('length', 8545.374123282701),\n",
       " ('normalized_losses', 8885.006587652755),\n",
       " ('wheel_base', 8953.712114458103),\n",
       " ('stroke', 9576.240416192686),\n",
       " ('peak_rpm', 10154.303500658927),\n",
       " ('height', 10927.52970357331),\n",
       " ('bore', 13009.824975293473)]"
      ]
     },
     "execution_count": 185,
     "metadata": {},
     "output_type": "execute_result"
    }
   ],
   "source": [
    "avg_rmses = {}\n",
    "for key,sub_dict in rmses.items():\n",
    "    avg_rmses[key] = np.mean(list(sub_dict.values()))\n",
    "\n",
    "avg_rmses = sorted(avg_rmses.items(), key=lambda kv: kv[1])\n",
    "\n",
    "avg_rmses"
   ]
  },
  {
   "cell_type": "code",
   "execution_count": 186,
   "metadata": {
    "collapsed": false
   },
   "outputs": [
    {
     "name": "stdout",
     "output_type": "stream",
     "text": [
      "3325.4272035840195 3836.2190466475436 3789.7539575821934 3681.001458923109\n"
     ]
    }
   ],
   "source": [
    "def knn_train_test_multi(training_cols, target_col, df):\n",
    "    rand_df = df.reindex(np.random.permutation(df.index))\n",
    "    threshold = int(.5 * len(df))\n",
    "    training_data = df[:threshold]\n",
    "    testing_data = df[threshold:]\n",
    "    knn = KNeighborsRegressor()\n",
    "    knn.fit(training_data[training_cols], training_data[target_col])\n",
    "    prediction = knn.predict(testing_data[training_cols])\n",
    "    return mean_squared_error(prediction, testing_data[target_col])**0.5\n",
    "\n",
    "rmse_two_best = knn_train_test_multi(['highway_mpg', 'horsepower'], 'price', cars_normalized)\n",
    "rmse_three_best = knn_train_test_multi(['highway_mpg', 'horsepower', 'city_mpg'], 'price', cars_normalized)\n",
    "rmse_four_best = knn_train_test_multi(['highway_mpg', 'horsepower', 'city_mpg', 'num_cylinders'], 'price', cars_normalized)\n",
    "rmse_five_best = knn_train_test_multi(['highway_mpg', 'horsepower', 'city_mpg', 'num_cylinders', 'curb_weight'], 'price', cars_normalized)\n",
    "\n",
    "print(rmse_two_best, rmse_three_best, rmse_four_best,rmse_five_best)"
   ]
  },
  {
   "cell_type": "markdown",
   "metadata": {},
   "source": [
    "## Hyperparameter optimization\n",
    "Let's vary k in the models obtained above."
   ]
  },
  {
   "cell_type": "code",
   "execution_count": 187,
   "metadata": {
    "collapsed": false,
    "scrolled": true
   },
   "outputs": [
    {
     "data": {
      "text/plain": [
       "{'five_best': {1: 3830.641715234544,\n",
       "  2: 3974.701031474438,\n",
       "  3: 4250.677631864477,\n",
       "  4: 3650.7181016612376,\n",
       "  5: 3681.001458923109,\n",
       "  6: 3621.5748497289433,\n",
       "  7: 3654.123106562603,\n",
       "  8: 3649.6881639815383,\n",
       "  9: 3609.0933655363897,\n",
       "  10: 3665.1907327755484,\n",
       "  11: 3697.71663606011,\n",
       "  12: 3573.7874118271216,\n",
       "  13: 3520.9474944724475,\n",
       "  14: 3482.855813089405,\n",
       "  15: 3437.0752757123446,\n",
       "  16: 3457.3234285113144,\n",
       "  17: 3456.631106317172,\n",
       "  18: 3506.1272212317003,\n",
       "  19: 3534.127011593107,\n",
       "  20: 3558.6367424274226,\n",
       "  21: 3389.4674218338514,\n",
       "  22: 3354.087973922819,\n",
       "  23: 3346.3768066148414,\n",
       "  24: 3308.929629849144,\n",
       "  25: 3310.4914391684993},\n",
       " 'four_best': {1: 3647.0610831948584,\n",
       "  2: 3604.3753454916596,\n",
       "  3: 3605.606926140255,\n",
       "  4: 3501.496288805659,\n",
       "  5: 3789.7539575821934,\n",
       "  6: 3809.1396028534314,\n",
       "  7: 3773.8324034186717,\n",
       "  8: 3918.2257658770027,\n",
       "  9: 4013.2149651262653,\n",
       "  10: 3948.426464735761,\n",
       "  11: 3947.416670164341,\n",
       "  12: 3970.4126100363474,\n",
       "  13: 4048.6093917579024,\n",
       "  14: 4089.6592492720706,\n",
       "  15: 3996.674482132316,\n",
       "  16: 3913.693789455457,\n",
       "  17: 3703.232974634668,\n",
       "  18: 3603.10632561836,\n",
       "  19: 3570.871479639839,\n",
       "  20: 3557.0080263724767,\n",
       "  21: 3564.365800339714,\n",
       "  22: 3539.9659100189415,\n",
       "  23: 3505.744057884124,\n",
       "  24: 3474.0044315574223,\n",
       "  25: 3424.086525600082},\n",
       " 'three_best': {1: 3954.189402606199,\n",
       "  2: 3999.8683310631095,\n",
       "  3: 4144.457443315101,\n",
       "  4: 3926.2456232776535,\n",
       "  5: 3836.2190466475436,\n",
       "  6: 3607.656472846688,\n",
       "  7: 3628.4741443039106,\n",
       "  8: 3610.491165123439,\n",
       "  9: 3547.8812454571416,\n",
       "  10: 3308.574061988543,\n",
       "  11: 3155.8393769557706,\n",
       "  12: 3319.1278227646467,\n",
       "  13: 3507.8615115404286,\n",
       "  14: 3604.158331713047,\n",
       "  15: 3764.0324734531873,\n",
       "  16: 3728.611033971177,\n",
       "  17: 3727.097559913169,\n",
       "  18: 3786.975283042009,\n",
       "  19: 3926.241177867946,\n",
       "  20: 3894.6284223775556,\n",
       "  21: 3900.8518608987356,\n",
       "  22: 3926.766044448543,\n",
       "  23: 3926.7056746649023,\n",
       "  24: 3996.7014608561703,\n",
       "  25: 4041.42469318692},\n",
       " 'two_best': {1: 3352.5396830958875,\n",
       "  2: 3496.683218734322,\n",
       "  3: 3595.427023115315,\n",
       "  4: 3226.9983751150307,\n",
       "  5: 3325.4272035840195,\n",
       "  6: 3152.524368520315,\n",
       "  7: 3255.6023255492437,\n",
       "  8: 3195.652677775545,\n",
       "  9: 2989.7395065584146,\n",
       "  10: 2899.270143407724,\n",
       "  11: 2940.0260529954417,\n",
       "  12: 3204.2355112514606,\n",
       "  13: 3397.437436403872,\n",
       "  14: 3571.519694969051,\n",
       "  15: 3700.1924809446878,\n",
       "  16: 3625.418594147343,\n",
       "  17: 3643.3617846343423,\n",
       "  18: 3756.7533468070365,\n",
       "  19: 3869.7768983353108,\n",
       "  20: 3973.095219213931,\n",
       "  21: 4055.168745253363,\n",
       "  22: 4079.7381204526487,\n",
       "  23: 4109.610639173429,\n",
       "  24: 4139.513228817524,\n",
       "  25: 4164.506602730049}}"
      ]
     },
     "execution_count": 187,
     "metadata": {},
     "output_type": "execute_result"
    }
   ],
   "source": [
    "def knn_train_test_multi(training_cols, target_col, df, k):\n",
    "    rand_df = df.reindex(np.random.permutation(df.index))\n",
    "    threshold = int(.5 * len(df))\n",
    "    training_data = df[:threshold]\n",
    "    testing_data = df[threshold:]\n",
    "    knn = KNeighborsRegressor(n_neighbors=k)\n",
    "    knn.fit(training_data[training_cols], training_data[target_col])\n",
    "    prediction = knn.predict(testing_data[training_cols])\n",
    "    return mean_squared_error(prediction, testing_data[target_col])**0.5\n",
    "\n",
    "best_models = {'two_best' : ['highway_mpg', 'horsepower'],\n",
    "               'three_best' : ['highway_mpg', 'horsepower', 'city_mpg'],\n",
    "              'four_best' : ['highway_mpg', 'horsepower', 'city_mpg', 'num_cylinders'],\n",
    "              'five_best' : ['highway_mpg', 'horsepower', 'city_mpg', 'num_cylinders', 'curb_weight']}\n",
    "\n",
    "rmses = {}\n",
    "for models, cols in best_models.items():\n",
    "    hyper_parameter_settings = {}\n",
    "    for k in range(1,26):\n",
    "        hyper_parameter_settings[k] = knn_train_test_multi(cols, 'price', cars_normalized, k)\n",
    "    rmses[models] = hyper_parameter_settings\n",
    "\n",
    "rmses"
   ]
  },
  {
   "cell_type": "code",
   "execution_count": 189,
   "metadata": {
    "collapsed": false,
    "scrolled": false
   },
   "outputs": [
    {
     "data": {
      "text/plain": [
       "<matplotlib.legend.Legend at 0x7fd955c19668>"
      ]
     },
     "execution_count": 189,
     "metadata": {},
     "output_type": "execute_result"
    },
    {
     "data": {
      "image/png": "[encoded data removed]",
      "text/plain": [
       "<matplotlib.figure.Figure at 0x7fd955c19ef0>"
      ]
     },
     "metadata": {},
     "output_type": "display_data"
    }
   ],
   "source": [
    "for key,sub_dict in rmses.items():\n",
    "    x = list(sub_dict.keys())\n",
    "    y = list(sub_dict.values())\n",
    "    xy = list(sorted(zip(x,y)))\n",
    "    x = [e[0] for e in xy]\n",
    "    y = [e[1] for e in xy]\n",
    "    plt.plot(x,y, label=key)\n",
    "plt.legend()"
   ]
  },
  {
   "cell_type": "markdown",
   "metadata": {},
   "source": [
    "Best model found is one of hi"
   ]
  }
 ],
 "metadata": {
  "kernelspec": {
   "display_name": "Python 3",
   "language": "python",
   "name": "python3"
  },
  "language_info": {
   "codemirror_mode": {
    "name": "ipython",
    "version": 3
   },
   "file_extension": ".py",
   "mimetype": "text/x-python",
   "name": "python",
   "nbconvert_exporter": "python",
   "pygments_lexer": "ipython3",
   "version": "3.4.3"
  }
 },
 "nbformat": 4,
 "nbformat_minor": 2
}
