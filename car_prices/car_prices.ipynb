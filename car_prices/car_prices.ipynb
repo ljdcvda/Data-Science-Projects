{
 "cells": [
  {
   "cell_type": "markdown",
   "metadata": {
    "collapsed": true
   },
   "source": [
    "# Predicting car prices using k-nearest neighbors algorithm\n",
    "## Introduction\n",
    "The objective of this project is to predict car prices from their technical specifications. The data used can be found [here](https://archive.ics.uci.edu/ml/datasets/automobile). The algorithm used for this project will be the k-nearest neighbors.\n",
    "Steps:\n",
    "1. Data is read, missing values are dealt with, categorical variables are encoded and numerical values are normalized.\n",
    "2. Univariate k-nearest neighbor models are tested for different k values\n",
    "3. The best features used in these univariate models are identified and used together in multivariate models\n",
    "4. Hyper parameters are optimized to further improve the model\n",
    "\n",
    "## Data Cleaning\n",
    "### Reading the data"
   ]
  },
  {
   "cell_type": "code",
   "execution_count": 54,
   "metadata": {
    "scrolled": false
   },
   "outputs": [
    {
     "data": {
      "text/html": [
       "<div>\n",
       "<style scoped>\n",
       "    .dataframe tbody tr th:only-of-type {\n",
       "        vertical-align: middle;\n",
       "    }\n",
       "\n",
       "    .dataframe tbody tr th {\n",
       "        vertical-align: top;\n",
       "    }\n",
       "\n",
       "    .dataframe thead th {\n",
       "        text-align: right;\n",
       "    }\n",
       "</style>\n",
       "<table border=\"1\" class=\"dataframe\">\n",
       "  <thead>\n",
       "    <tr style=\"text-align: right;\">\n",
       "      <th></th>\n",
       "      <th>symboling</th>\n",
       "      <th>normalized_losses</th>\n",
       "      <th>make</th>\n",
       "      <th>fuel_type</th>\n",
       "      <th>aspiration</th>\n",
       "      <th>num_doors</th>\n",
       "      <th>body_style</th>\n",
       "      <th>drive_wheels</th>\n",
       "      <th>engine_location</th>\n",
       "      <th>wheel_base</th>\n",
       "      <th>...</th>\n",
       "      <th>engine_size</th>\n",
       "      <th>fuel_system</th>\n",
       "      <th>bore</th>\n",
       "      <th>stroke</th>\n",
       "      <th>compression_ratio</th>\n",
       "      <th>horsepower</th>\n",
       "      <th>peak_rpm</th>\n",
       "      <th>city_mpg</th>\n",
       "      <th>highway_mpg</th>\n",
       "      <th>price</th>\n",
       "    </tr>\n",
       "  </thead>\n",
       "  <tbody>\n",
       "    <tr>\n",
       "      <th>0</th>\n",
       "      <td>3</td>\n",
       "      <td>?</td>\n",
       "      <td>alfa-romero</td>\n",
       "      <td>gas</td>\n",
       "      <td>std</td>\n",
       "      <td>two</td>\n",
       "      <td>convertible</td>\n",
       "      <td>rwd</td>\n",
       "      <td>front</td>\n",
       "      <td>88.6</td>\n",
       "      <td>...</td>\n",
       "      <td>130</td>\n",
       "      <td>mpfi</td>\n",
       "      <td>3.47</td>\n",
       "      <td>2.68</td>\n",
       "      <td>9.0</td>\n",
       "      <td>111</td>\n",
       "      <td>5000</td>\n",
       "      <td>21</td>\n",
       "      <td>27</td>\n",
       "      <td>13495</td>\n",
       "    </tr>\n",
       "    <tr>\n",
       "      <th>1</th>\n",
       "      <td>3</td>\n",
       "      <td>?</td>\n",
       "      <td>alfa-romero</td>\n",
       "      <td>gas</td>\n",
       "      <td>std</td>\n",
       "      <td>two</td>\n",
       "      <td>convertible</td>\n",
       "      <td>rwd</td>\n",
       "      <td>front</td>\n",
       "      <td>88.6</td>\n",
       "      <td>...</td>\n",
       "      <td>130</td>\n",
       "      <td>mpfi</td>\n",
       "      <td>3.47</td>\n",
       "      <td>2.68</td>\n",
       "      <td>9.0</td>\n",
       "      <td>111</td>\n",
       "      <td>5000</td>\n",
       "      <td>21</td>\n",
       "      <td>27</td>\n",
       "      <td>16500</td>\n",
       "    </tr>\n",
       "    <tr>\n",
       "      <th>2</th>\n",
       "      <td>1</td>\n",
       "      <td>?</td>\n",
       "      <td>alfa-romero</td>\n",
       "      <td>gas</td>\n",
       "      <td>std</td>\n",
       "      <td>two</td>\n",
       "      <td>hatchback</td>\n",
       "      <td>rwd</td>\n",
       "      <td>front</td>\n",
       "      <td>94.5</td>\n",
       "      <td>...</td>\n",
       "      <td>152</td>\n",
       "      <td>mpfi</td>\n",
       "      <td>2.68</td>\n",
       "      <td>3.47</td>\n",
       "      <td>9.0</td>\n",
       "      <td>154</td>\n",
       "      <td>5000</td>\n",
       "      <td>19</td>\n",
       "      <td>26</td>\n",
       "      <td>16500</td>\n",
       "    </tr>\n",
       "    <tr>\n",
       "      <th>3</th>\n",
       "      <td>2</td>\n",
       "      <td>164</td>\n",
       "      <td>audi</td>\n",
       "      <td>gas</td>\n",
       "      <td>std</td>\n",
       "      <td>four</td>\n",
       "      <td>sedan</td>\n",
       "      <td>fwd</td>\n",
       "      <td>front</td>\n",
       "      <td>99.8</td>\n",
       "      <td>...</td>\n",
       "      <td>109</td>\n",
       "      <td>mpfi</td>\n",
       "      <td>3.19</td>\n",
       "      <td>3.40</td>\n",
       "      <td>10.0</td>\n",
       "      <td>102</td>\n",
       "      <td>5500</td>\n",
       "      <td>24</td>\n",
       "      <td>30</td>\n",
       "      <td>13950</td>\n",
       "    </tr>\n",
       "    <tr>\n",
       "      <th>4</th>\n",
       "      <td>2</td>\n",
       "      <td>164</td>\n",
       "      <td>audi</td>\n",
       "      <td>gas</td>\n",
       "      <td>std</td>\n",
       "      <td>four</td>\n",
       "      <td>sedan</td>\n",
       "      <td>4wd</td>\n",
       "      <td>front</td>\n",
       "      <td>99.4</td>\n",
       "      <td>...</td>\n",
       "      <td>136</td>\n",
       "      <td>mpfi</td>\n",
       "      <td>3.19</td>\n",
       "      <td>3.40</td>\n",
       "      <td>8.0</td>\n",
       "      <td>115</td>\n",
       "      <td>5500</td>\n",
       "      <td>18</td>\n",
       "      <td>22</td>\n",
       "      <td>17450</td>\n",
       "    </tr>\n",
       "  </tbody>\n",
       "</table>\n",
       "<p>5 rows × 26 columns</p>\n",
       "</div>"
      ],
      "text/plain": [
       "   symboling normalized_losses         make fuel_type aspiration num_doors  \\\n",
       "0          3                 ?  alfa-romero       gas        std       two   \n",
       "1          3                 ?  alfa-romero       gas        std       two   \n",
       "2          1                 ?  alfa-romero       gas        std       two   \n",
       "3          2               164         audi       gas        std      four   \n",
       "4          2               164         audi       gas        std      four   \n",
       "\n",
       "    body_style drive_wheels engine_location  wheel_base  ...  engine_size  \\\n",
       "0  convertible          rwd           front        88.6  ...          130   \n",
       "1  convertible          rwd           front        88.6  ...          130   \n",
       "2    hatchback          rwd           front        94.5  ...          152   \n",
       "3        sedan          fwd           front        99.8  ...          109   \n",
       "4        sedan          4wd           front        99.4  ...          136   \n",
       "\n",
       "   fuel_system  bore  stroke compression_ratio horsepower  peak_rpm city_mpg  \\\n",
       "0         mpfi  3.47    2.68               9.0        111      5000       21   \n",
       "1         mpfi  3.47    2.68               9.0        111      5000       21   \n",
       "2         mpfi  2.68    3.47               9.0        154      5000       19   \n",
       "3         mpfi  3.19    3.40              10.0        102      5500       24   \n",
       "4         mpfi  3.19    3.40               8.0        115      5500       18   \n",
       "\n",
       "  highway_mpg  price  \n",
       "0          27  13495  \n",
       "1          27  16500  \n",
       "2          26  16500  \n",
       "3          30  13950  \n",
       "4          22  17450  \n",
       "\n",
       "[5 rows x 26 columns]"
      ]
     },
     "execution_count": 54,
     "metadata": {},
     "output_type": "execute_result"
    }
   ],
   "source": [
    "import pandas as pd\n",
    "col_names = ['symboling',\n",
    "             'normalized_losses',\n",
    "             'make',\n",
    "             'fuel_type',\n",
    "             'aspiration',\n",
    "             'num_doors',\n",
    "             'body_style',\n",
    "             'drive_wheels',\n",
    "             'engine_location',\n",
    "             'wheel_base',\n",
    "             'length',\n",
    "             'width',\n",
    "             'height',\n",
    "             'curb_weight',\n",
    "             'engine_type',\n",
    "             'num_cylinders',\n",
    "             'engine_size',\n",
    "             'fuel_system',\n",
    "             'bore',\n",
    "             'stroke',\n",
    "             'compression_ratio',\n",
    "             'horsepower',\n",
    "             'peak_rpm',\n",
    "             'city_mpg',\n",
    "             'highway_mpg',\n",
    "             'price']\n",
    "cars = pd.read_csv('imports-85.data', sep=',', header=None, names=col_names)\n",
    "cars.head()"
   ]
  },
  {
   "cell_type": "markdown",
   "metadata": {},
   "source": [
    "The target column is price. Features that seem relevant at first glance are length, width, height, curb weight, engine size, bore, stroke, compression ratio, horsepower, peak rpm, city and highay mileage. The number of doors can be converted to a numeric column as well so they can be used in the models. "
   ]
  },
  {
   "cell_type": "markdown",
   "metadata": {},
   "source": [
    "### Exploring the data"
   ]
  },
  {
   "cell_type": "code",
   "execution_count": 55,
   "metadata": {},
   "outputs": [
    {
     "name": "stdout",
     "output_type": "stream",
     "text": [
      "<class 'pandas.core.frame.DataFrame'>\n",
      "RangeIndex: 205 entries, 0 to 204\n",
      "Data columns (total 26 columns):\n",
      "symboling            205 non-null int64\n",
      "normalized_losses    205 non-null object\n",
      "make                 205 non-null object\n",
      "fuel_type            205 non-null object\n",
      "aspiration           205 non-null object\n",
      "num_doors            205 non-null object\n",
      "body_style           205 non-null object\n",
      "drive_wheels         205 non-null object\n",
      "engine_location      205 non-null object\n",
      "wheel_base           205 non-null float64\n",
      "length               205 non-null float64\n",
      "width                205 non-null float64\n",
      "height               205 non-null float64\n",
      "curb_weight          205 non-null int64\n",
      "engine_type          205 non-null object\n",
      "num_cylinders        205 non-null object\n",
      "engine_size          205 non-null int64\n",
      "fuel_system          205 non-null object\n",
      "bore                 205 non-null object\n",
      "stroke               205 non-null object\n",
      "compression_ratio    205 non-null float64\n",
      "horsepower           205 non-null object\n",
      "peak_rpm             205 non-null object\n",
      "city_mpg             205 non-null int64\n",
      "highway_mpg          205 non-null int64\n",
      "price                205 non-null object\n",
      "dtypes: float64(5), int64(5), object(16)\n",
      "memory usage: 41.7+ KB\n",
      "None\n"
     ]
    }
   ],
   "source": [
    "print(cars.info())"
   ]
  },
  {
   "cell_type": "markdown",
   "metadata": {},
   "source": [
    "No missing values? More on that later. First, some columns can be removed since they are entirely non numeric and cannot be converted. Let's only keep the relevant ones.\n",
    "### Removing unusable columns\n",
    "* drive wheels, engine location, engine type, make, fuel system, aspiration, body style, fuel type are non numerical\n",
    "* symboling is not relevant to the price"
   ]
  },
  {
   "cell_type": "code",
   "execution_count": 56,
   "metadata": {},
   "outputs": [],
   "source": [
    "to_drop = ['drive_wheels',\n",
    " 'engine_location',\n",
    " 'engine_type',\n",
    " 'make',\n",
    " 'fuel_system',\n",
    " 'aspiration',\n",
    " 'body_style',\n",
    " 'fuel_type',\n",
    " 'symboling']\n",
    "cars = cars.drop(to_drop, axis=1)"
   ]
  },
  {
   "cell_type": "markdown",
   "metadata": {},
   "source": [
    "### Converting data to numerical type\n",
    "The number of doors and number of cylinders can be converted to numeric."
   ]
  },
  {
   "cell_type": "code",
   "execution_count": 57,
   "metadata": {
    "scrolled": true
   },
   "outputs": [
    {
     "name": "stdout",
     "output_type": "stream",
     "text": [
      "four    114\n",
      "two      89\n",
      "?         2\n",
      "Name: num_doors, dtype: int64\n",
      "four      159\n",
      "six        24\n",
      "five       11\n",
      "eight       5\n",
      "two         4\n",
      "three       1\n",
      "twelve      1\n",
      "Name: num_cylinders, dtype: int64\n"
     ]
    }
   ],
   "source": [
    "print(cars['num_doors'].value_counts(dropna=False))\n",
    "print(cars['num_cylinders'].value_counts(dropna=False))"
   ]
  },
  {
   "cell_type": "code",
   "execution_count": 58,
   "metadata": {},
   "outputs": [
    {
     "name": "stdout",
     "output_type": "stream",
     "text": [
      "4.0    114\n",
      "2.0     89\n",
      "NaN      2\n",
      "Name: num_doors, dtype: int64\n",
      "4     159\n",
      "6      24\n",
      "5      11\n",
      "8       5\n",
      "2       4\n",
      "12      1\n",
      "3       1\n",
      "Name: num_cylinders, dtype: int64\n"
     ]
    }
   ],
   "source": [
    "def convert_number(string):\n",
    "    if string == 'two':\n",
    "        return 2\n",
    "    elif string == 'three':\n",
    "        return 3\n",
    "    elif string == 'four':\n",
    "        return 4\n",
    "    elif string == 'five':\n",
    "        return 5\n",
    "    elif string == 'six':\n",
    "        return 6\n",
    "    elif string == 'eight':\n",
    "        return 8\n",
    "    elif string == 'twelve':\n",
    "        return 12      \n",
    "# applying the function above to both columns\n",
    "cars['num_doors'] = cars['num_doors'].apply(convert_number)\n",
    "cars['num_cylinders'] = cars['num_cylinders'].apply(convert_number)\n",
    "print(cars['num_doors'].value_counts(dropna=False))\n",
    "print(cars['num_cylinders'].value_counts(dropna=False))"
   ]
  },
  {
   "cell_type": "markdown",
   "metadata": {},
   "source": [
    "### Dealing with missing values\n",
    "Most of the missing values are actually written as \"?\" in the data"
   ]
  },
  {
   "cell_type": "code",
   "execution_count": 59,
   "metadata": {},
   "outputs": [
    {
     "name": "stdout",
     "output_type": "stream",
     "text": [
      "<class 'pandas.core.frame.DataFrame'>\n",
      "RangeIndex: 205 entries, 0 to 204\n",
      "Data columns (total 17 columns):\n",
      "normalized_losses    164 non-null object\n",
      "num_doors            203 non-null float64\n",
      "wheel_base           205 non-null float64\n",
      "length               205 non-null float64\n",
      "width                205 non-null float64\n",
      "height               205 non-null float64\n",
      "curb_weight          205 non-null int64\n",
      "num_cylinders        205 non-null int64\n",
      "engine_size          205 non-null int64\n",
      "bore                 201 non-null object\n",
      "stroke               201 non-null object\n",
      "compression_ratio    205 non-null float64\n",
      "horsepower           203 non-null object\n",
      "peak_rpm             203 non-null object\n",
      "city_mpg             205 non-null int64\n",
      "highway_mpg          205 non-null int64\n",
      "price                201 non-null object\n",
      "dtypes: float64(6), int64(5), object(6)\n",
      "memory usage: 27.3+ KB\n",
      "None\n"
     ]
    }
   ],
   "source": [
    "import numpy as np\n",
    "cars = cars.replace('?', np.nan)\n",
    "print(cars.info())"
   ]
  },
  {
   "cell_type": "markdown",
   "metadata": {},
   "source": [
    "The number of missing values in the normalized losses column is too high to drop the corresponding rows.\n",
    "\n",
    "We dont want to alter the price column because it is our objective.\n",
    "\n",
    "Let's drop rows with missing price values."
   ]
  },
  {
   "cell_type": "code",
   "execution_count": 60,
   "metadata": {
    "scrolled": true
   },
   "outputs": [
    {
     "name": "stdout",
     "output_type": "stream",
     "text": [
      "<class 'pandas.core.frame.DataFrame'>\n",
      "Int64Index: 201 entries, 0 to 204\n",
      "Data columns (total 17 columns):\n",
      "normalized_losses    164 non-null object\n",
      "num_doors            199 non-null float64\n",
      "wheel_base           201 non-null float64\n",
      "length               201 non-null float64\n",
      "width                201 non-null float64\n",
      "height               201 non-null float64\n",
      "curb_weight          201 non-null int64\n",
      "num_cylinders        201 non-null int64\n",
      "engine_size          201 non-null int64\n",
      "bore                 197 non-null object\n",
      "stroke               197 non-null object\n",
      "compression_ratio    201 non-null float64\n",
      "horsepower           199 non-null object\n",
      "peak_rpm             199 non-null object\n",
      "city_mpg             201 non-null int64\n",
      "highway_mpg          201 non-null int64\n",
      "price                201 non-null object\n",
      "dtypes: float64(6), int64(5), object(6)\n",
      "memory usage: 28.3+ KB\n",
      "None\n"
     ]
    }
   ],
   "source": [
    "cars = cars.dropna(subset=['price'])\n",
    "print(cars.info())"
   ]
  },
  {
   "cell_type": "markdown",
   "metadata": {},
   "source": [
    "Now that there are no longer placeholder '?', all the data left is numerical, and we can fill the missing values with the column means."
   ]
  },
  {
   "cell_type": "code",
   "execution_count": 61,
   "metadata": {
    "scrolled": true
   },
   "outputs": [
    {
     "name": "stdout",
     "output_type": "stream",
     "text": [
      "<class 'pandas.core.frame.DataFrame'>\n",
      "Int64Index: 201 entries, 0 to 204\n",
      "Data columns (total 17 columns):\n",
      "normalized_losses    201 non-null float64\n",
      "num_doors            201 non-null float64\n",
      "wheel_base           201 non-null float64\n",
      "length               201 non-null float64\n",
      "width                201 non-null float64\n",
      "height               201 non-null float64\n",
      "curb_weight          201 non-null float64\n",
      "num_cylinders        201 non-null float64\n",
      "engine_size          201 non-null float64\n",
      "bore                 201 non-null float64\n",
      "stroke               201 non-null float64\n",
      "compression_ratio    201 non-null float64\n",
      "horsepower           201 non-null float64\n",
      "peak_rpm             201 non-null float64\n",
      "city_mpg             201 non-null float64\n",
      "highway_mpg          201 non-null float64\n",
      "price                201 non-null float64\n",
      "dtypes: float64(17)\n",
      "memory usage: 28.3 KB\n",
      "None\n"
     ]
    }
   ],
   "source": [
    "cars = cars.astype('float')\n",
    "cars = cars.fillna(cars.mean())\n",
    "print(cars.info())"
   ]
  },
  {
   "cell_type": "markdown",
   "metadata": {},
   "source": [
    "### Normalizing the data\n",
    "With the data fixed, it can now be normalized such that all values count equally in a nearest neighbor model."
   ]
  },
  {
   "cell_type": "code",
   "execution_count": 62,
   "metadata": {},
   "outputs": [
    {
     "name": "stdout",
     "output_type": "stream",
     "text": [
      "   normalized_losses  num_doors  wheel_base    length     width    height  \\\n",
      "0           0.298429        0.0    0.058309  0.413433  0.324786  0.083333   \n",
      "1           0.298429        0.0    0.058309  0.413433  0.324786  0.083333   \n",
      "2           0.298429        0.0    0.230321  0.449254  0.444444  0.383333   \n",
      "3           0.518325        1.0    0.384840  0.529851  0.504274  0.541667   \n",
      "4           0.518325        1.0    0.373178  0.529851  0.521368  0.541667   \n",
      "\n",
      "   curb_weight  num_cylinders  engine_size      bore    stroke  \\\n",
      "0     0.411171            0.2     0.260377  0.664286  0.290476   \n",
      "1     0.411171            0.2     0.260377  0.664286  0.290476   \n",
      "2     0.517843            0.4     0.343396  0.100000  0.666667   \n",
      "3     0.329325            0.2     0.181132  0.464286  0.633333   \n",
      "4     0.518231            0.3     0.283019  0.464286  0.633333   \n",
      "\n",
      "   compression_ratio  horsepower  peak_rpm  city_mpg  highway_mpg    price  \n",
      "0             0.1250    0.294393  0.346939  0.222222     0.289474  13495.0  \n",
      "1             0.1250    0.294393  0.346939  0.222222     0.289474  16500.0  \n",
      "2             0.1250    0.495327  0.346939  0.166667     0.263158  16500.0  \n",
      "3             0.1875    0.252336  0.551020  0.305556     0.368421  13950.0  \n",
      "4             0.0625    0.313084  0.551020  0.138889     0.157895  17450.0  \n"
     ]
    }
   ],
   "source": [
    "cars_normalized = (cars - cars.min())/(cars.max() - cars.min())\n",
    "cars_normalized['price'] = cars['price']\n",
    "print(cars_normalized.head())"
   ]
  },
  {
   "cell_type": "markdown",
   "metadata": {},
   "source": [
    "## Univariate 5 nearest neighbors model\n",
    "Let's start modeling with the simplest form of the nearest neighbors algorithm: univariate, with a fixed number of neighbors. Let's compute a model using each feature, and compare their root mean squared errors to find the highest performing features."
   ]
  },
  {
   "cell_type": "code",
   "execution_count": 63,
   "metadata": {},
   "outputs": [
    {
     "data": {
      "text/plain": [
       "[('engine_size', 4190.43388788236),\n",
       " ('horsepower', 4267.730361029788),\n",
       " ('highway_mpg', 4628.7930938146865),\n",
       " ('city_mpg', 4814.77801484941),\n",
       " ('num_cylinders', 5107.160475952241),\n",
       " ('curb_weight', 5166.828580646175),\n",
       " ('width', 7110.412630045104),\n",
       " ('compression_ratio', 8096.301512113387),\n",
       " ('normalized_losses', 8131.436882072488),\n",
       " ('length', 8304.189346264562),\n",
       " ('stroke', 9334.714914185055),\n",
       " ('num_doors', 9628.229658809156),\n",
       " ('peak_rpm', 9759.209969770063),\n",
       " ('wheel_base', 9969.243291700175),\n",
       " ('height', 10839.693635873846),\n",
       " ('bore', 13397.091693481998)]"
      ]
     },
     "execution_count": 63,
     "metadata": {},
     "output_type": "execute_result"
    }
   ],
   "source": [
    "from sklearn.neighbors import KNeighborsRegressor\n",
    "from sklearn.metrics import mean_squared_error\n",
    "import matplotlib.pyplot as plt\n",
    "%matplotlib inline\n",
    "\n",
    "def knn_train_test(training_col, target_col, df):\n",
    "    # randomize the data\n",
    "    rand_df = df.reindex(np.random.permutation(df.index))\n",
    "    # divide into test and train\n",
    "    threshold = int(.5 * len(df))\n",
    "    training_data = df[:threshold]\n",
    "    testing_data = df[threshold:]\n",
    "    # train and predict\n",
    "    knn = KNeighborsRegressor()\n",
    "    knn.fit(training_data[[training_col]], training_data[target_col])\n",
    "    prediction = knn.predict(testing_data[[training_col]])\n",
    "    # return root mse\n",
    "    return mean_squared_error(prediction, testing_data[target_col])**0.5\n",
    "\n",
    "col_list = cars_normalized.columns.tolist()\n",
    "col_list.remove('price')\n",
    "rmses = {}\n",
    "\n",
    "for col in col_list:\n",
    "    rmses[col] = knn_train_test(col, 'price', cars_normalized)\n",
    "    \n",
    "\n",
    "rmses = sorted(rmses.items(), key=lambda kv: kv[1])\n",
    "rmses"
   ]
  },
  {
   "cell_type": "markdown",
   "metadata": {},
   "source": [
    "With the default number of nearest neighbors (5), the best performing metrics are engine size, horsepower and highway mpg.\n",
    "\n",
    "## Univariate k nearest neighbors model\n",
    "Let's now visualize the effect of the K parameter on each of these univariate models."
   ]
  },
  {
   "cell_type": "code",
   "execution_count": 64,
   "metadata": {},
   "outputs": [],
   "source": [
    "def knn_train_test(training_col, target_col, df, k):\n",
    "    rand_df = df.reindex(np.random.permutation(df.index))\n",
    "    threshold = int(.5 * len(df))\n",
    "    training_data = df[:threshold]\n",
    "    testing_data = df[threshold:]\n",
    "    knn = KNeighborsRegressor(n_neighbors=k)\n",
    "    knn.fit(training_data[[training_col]], training_data[target_col])\n",
    "    prediction = knn.predict(testing_data[[training_col]])\n",
    "    return mean_squared_error(prediction, testing_data[target_col])**0.5\n",
    "\n",
    "col_list = cars_normalized.columns.tolist()\n",
    "col_list.remove('price')\n",
    "\n",
    "rmses = {}\n",
    "for col in col_list:\n",
    "    models = {}\n",
    "    for k in [1, 3, 5, 7, 9]:\n",
    "        models[k] = knn_train_test(col, 'price', cars_normalized, k)\n",
    "    rmses[col] = models"
   ]
  },
  {
   "cell_type": "code",
   "execution_count": 65,
   "metadata": {
    "scrolled": false
   },
   "outputs": [
    {
     "data": {
      "text/plain": [
       "Text(0.5, 1.0, 'Error vs. Nearest Neighbors for different univariate models')"
      ]
     },
     "execution_count": 65,
     "metadata": {},
     "output_type": "execute_result"
    },
    {
     "data": {
      "image/png": "[encoded data removed]",
      "text/plain": [
       "<Figure size 864x432 with 1 Axes>"
      ]
     },
     "metadata": {
      "needs_background": "light"
     },
     "output_type": "display_data"
    }
   ],
   "source": [
    "plt.figure(figsize=(12,6))\n",
    "for key,sub_dict in rmses.items():\n",
    "    x = list(sub_dict.keys())\n",
    "    y = list(sub_dict.values())\n",
    "    xy = list(sorted(zip(x,y)))\n",
    "    x = [e[0] for e in xy]\n",
    "    y = [e[1] for e in xy]\n",
    "    plt.plot(x,y, label=key)\n",
    "plt.legend()\n",
    "plt.ylabel('Root Mean Squared Error')\n",
    "plt.xlabel('Nearest Neighbors Used in Model')\n",
    "plt.title('Error vs. Nearest Neighbors for different univariate models')"
   ]
  },
  {
   "cell_type": "markdown",
   "metadata": {},
   "source": [
    "The best performing features identified above perform well regardless of the number of nearest neighbors. The magical number of 5 seems to be an effective compromise, so let's fix it there for now."
   ]
  },
  {
   "cell_type": "markdown",
   "metadata": {},
   "source": [
    "## Multivariate models\n",
    "Let's now use these results to combine the best features into multivariate models."
   ]
  },
  {
   "cell_type": "code",
   "execution_count": 66,
   "metadata": {},
   "outputs": [
    {
     "data": {
      "text/plain": [
       "[('engine_size', 4479.7856097024915),\n",
       " ('highway_mpg', 4522.911623857427),\n",
       " ('horsepower', 4795.755143246612),\n",
       " ('city_mpg', 4943.696718142568),\n",
       " ('num_cylinders', 5153.114767359756),\n",
       " ('curb_weight', 5570.589863746504),\n",
       " ('width', 7108.476258297131),\n",
       " ('compression_ratio', 8007.936955858497),\n",
       " ('num_doors', 8492.619352282132),\n",
       " ('length', 8545.374123282701),\n",
       " ('normalized_losses', 8885.006587652755),\n",
       " ('wheel_base', 8953.712114458103),\n",
       " ('stroke', 9576.240416192688),\n",
       " ('peak_rpm', 10154.303500658927),\n",
       " ('height', 10927.52970357331),\n",
       " ('bore', 13009.824975293473)]"
      ]
     },
     "execution_count": 66,
     "metadata": {},
     "output_type": "execute_result"
    }
   ],
   "source": [
    "avg_rmses = {}\n",
    "for key,sub_dict in rmses.items():\n",
    "    avg_rmses[key] = np.mean(list(sub_dict.values()))\n",
    "\n",
    "avg_rmses = sorted(avg_rmses.items(), key=lambda kv: kv[1])\n",
    "\n",
    "avg_rmses"
   ]
  },
  {
   "cell_type": "code",
   "execution_count": 67,
   "metadata": {},
   "outputs": [
    {
     "name": "stdout",
     "output_type": "stream",
     "text": [
      "4350.739368552121 3553.981440358945 3543.6021088353828 3320.621047006385\n"
     ]
    }
   ],
   "source": [
    "def knn_train_test_multi(training_cols, target_col, df):\n",
    "    rand_df = df.reindex(np.random.permutation(df.index))\n",
    "    threshold = int(.5 * len(df))\n",
    "    training_data = df[:threshold]\n",
    "    testing_data = df[threshold:]\n",
    "    knn = KNeighborsRegressor()\n",
    "    knn.fit(training_data[training_cols], training_data[target_col])\n",
    "    prediction = knn.predict(testing_data[training_cols])\n",
    "    return mean_squared_error(prediction, testing_data[target_col])**0.5\n",
    "\n",
    "rmse_two_best = knn_train_test_multi(['engine_size', 'highway_mpg'], 'price', cars_normalized)\n",
    "rmse_three_best = knn_train_test_multi(['engine_size', 'highway_mpg', 'horsepower'], 'price', cars_normalized)\n",
    "rmse_four_best = knn_train_test_multi(['engine_size', 'highway_mpg', 'horsepower', 'city_mpg'], 'price', cars_normalized)\n",
    "rmse_five_best = knn_train_test_multi(['engine_size', 'highway_mpg', 'horsepower', 'city_mpg', 'num_cylinders'], 'price', cars_normalized)\n",
    "\n",
    "print(rmse_two_best, rmse_three_best, rmse_four_best,rmse_five_best)"
   ]
  },
  {
   "cell_type": "markdown",
   "metadata": {},
   "source": [
    "There is a clear benefit to using multiple features, with each larger multi variable model performing better than the smaller one before it."
   ]
  },
  {
   "cell_type": "markdown",
   "metadata": {},
   "source": [
    "## Hyperparameter optimization\n",
    "Let's now try to squeeze as much performance as possible from our multivariate models by varying k over a large range"
   ]
  },
  {
   "cell_type": "code",
   "execution_count": 68,
   "metadata": {
    "scrolled": true
   },
   "outputs": [
    {
     "data": {
      "text/plain": [
       "{'two_best': {1: 4354.642008225474,\n",
       "  2: 4526.921679910048,\n",
       "  3: 4498.433229142309,\n",
       "  4: 4248.608371680761,\n",
       "  5: 4350.739368552121,\n",
       "  6: 4130.239857605504,\n",
       "  7: 3654.7705512907833,\n",
       "  8: 3406.299556274992,\n",
       "  9: 3291.4253938953298,\n",
       "  10: 3266.6972227539723,\n",
       "  11: 3224.49796035129,\n",
       "  12: 3066.8474225454743,\n",
       "  13: 3107.0036162955766,\n",
       "  14: 3188.063991712777,\n",
       "  15: 3276.4526932206863,\n",
       "  16: 3400.6384513355333,\n",
       "  17: 3408.1445816852847,\n",
       "  18: 3414.0628526759374,\n",
       "  19: 3456.89519227418,\n",
       "  20: 3492.0426405636645,\n",
       "  21: 3534.9541209326044,\n",
       "  22: 3558.967168879261,\n",
       "  23: 3558.0960929779826,\n",
       "  24: 3456.6927863991823,\n",
       "  25: 3389.0481486057874},\n",
       " 'three_best': {1: 3573.428345246881,\n",
       "  2: 3918.785387510566,\n",
       "  3: 4012.2889992124597,\n",
       "  4: 3613.015900672851,\n",
       "  5: 3553.981440358945,\n",
       "  6: 3451.4337330349185,\n",
       "  7: 3387.6562998182267,\n",
       "  8: 3175.405256889689,\n",
       "  9: 3077.2931249951084,\n",
       "  10: 3205.004979499074,\n",
       "  11: 3335.759981381083,\n",
       "  12: 3501.7441190855247,\n",
       "  13: 3644.6561170504287,\n",
       "  14: 3627.423710815073,\n",
       "  15: 3576.9223869595257,\n",
       "  16: 3589.9812376479913,\n",
       "  17: 3519.7011300165964,\n",
       "  18: 3504.6982514781416,\n",
       "  19: 3455.6717138313597,\n",
       "  20: 3403.9532063782653,\n",
       "  21: 3347.900979209597,\n",
       "  22: 3316.9988672338045,\n",
       "  23: 3284.575116312251,\n",
       "  24: 3299.0676764390946,\n",
       "  25: 3336.864947099921},\n",
       " 'four_best': {1: 4003.9828413792443,\n",
       "  2: 4131.951959131938,\n",
       "  3: 3807.458087636542,\n",
       "  4: 3645.9482887864647,\n",
       "  5: 3543.6021088353828,\n",
       "  6: 3462.33319634914,\n",
       "  7: 3381.3053052910514,\n",
       "  8: 3221.8924875642992,\n",
       "  9: 3020.3504183783566,\n",
       "  10: 3082.8858075793623,\n",
       "  11: 3203.3271940951367,\n",
       "  12: 3320.32157031635,\n",
       "  13: 3480.138098268782,\n",
       "  14: 3483.163466888698,\n",
       "  15: 3488.2073831867865,\n",
       "  16: 3460.6885466860917,\n",
       "  17: 3420.7342053495818,\n",
       "  18: 3380.3570582571792,\n",
       "  19: 3379.807908444524,\n",
       "  20: 3386.3950236041705,\n",
       "  21: 3354.438473986951,\n",
       "  22: 3356.3575258604455,\n",
       "  23: 3360.720166186331,\n",
       "  24: 3363.297072238637,\n",
       "  25: 3381.1823157406384},\n",
       " 'five_best': {1: 3037.4772443429088,\n",
       "  2: 3391.2254513495836,\n",
       "  3: 3275.2385539466477,\n",
       "  4: 3089.40483690421,\n",
       "  5: 3320.621047006385,\n",
       "  6: 3435.786208451716,\n",
       "  7: 3302.0644430075718,\n",
       "  8: 3246.6480529658174,\n",
       "  9: 3391.2785710966186,\n",
       "  10: 3537.766066067374,\n",
       "  11: 3654.8136165054307,\n",
       "  12: 3716.962775013133,\n",
       "  13: 3780.727006068645,\n",
       "  14: 3608.1074094456485,\n",
       "  15: 3513.715344716525,\n",
       "  16: 3513.4234723988448,\n",
       "  17: 3552.677557650578,\n",
       "  18: 3518.0732236775325,\n",
       "  19: 3493.7291548971243,\n",
       "  20: 3434.7206112220347,\n",
       "  21: 3348.460425983491,\n",
       "  22: 3302.343966076318,\n",
       "  23: 3298.1841167987773,\n",
       "  24: 3310.36319825835,\n",
       "  25: 3315.763753714599}}"
      ]
     },
     "execution_count": 68,
     "metadata": {},
     "output_type": "execute_result"
    }
   ],
   "source": [
    "def knn_train_test_multi(training_cols, target_col, df, k):\n",
    "    rand_df = df.reindex(np.random.permutation(df.index))\n",
    "    threshold = int(.5 * len(df))\n",
    "    training_data = df[:threshold]\n",
    "    testing_data = df[threshold:]\n",
    "    knn = KNeighborsRegressor(n_neighbors=k)\n",
    "    knn.fit(training_data[training_cols], training_data[target_col])\n",
    "    prediction = knn.predict(testing_data[training_cols])\n",
    "    return mean_squared_error(prediction, testing_data[target_col])**0.5\n",
    "\n",
    "best_models = {'two_best' : ['engine_size', 'highway_mpg'],\n",
    "            'three_best' : ['engine_size', 'highway_mpg', 'horsepower'],\n",
    "              'four_best' : ['engine_size', 'highway_mpg', 'horsepower', 'city_mpg'],\n",
    "              'five_best' : ['engine_size', 'highway_mpg', 'horsepower', 'city_mpg', 'num_cylinders']}\n",
    "\n",
    "rmses = {}\n",
    "for models, cols in best_models.items():\n",
    "    hyper_parameter_settings = {}\n",
    "    for k in range(1,26):\n",
    "        hyper_parameter_settings[k] = knn_train_test_multi(cols, 'price', cars_normalized, k)\n",
    "    rmses[models] = hyper_parameter_settings\n",
    "\n",
    "rmses"
   ]
  },
  {
   "cell_type": "code",
   "execution_count": 69,
   "metadata": {
    "scrolled": false
   },
   "outputs": [
    {
     "data": {
      "text/plain": [
       "Text(0.5, 1.0, 'Error vs. Nearest Neighbors for different multivariate models')"
      ]
     },
     "execution_count": 69,
     "metadata": {},
     "output_type": "execute_result"
    },
    {
     "data": {
      "image/png": "[encoded data removed]",
      "text/plain": [
       "<Figure size 864x432 with 1 Axes>"
      ]
     },
     "metadata": {
      "needs_background": "light"
     },
     "output_type": "display_data"
    }
   ],
   "source": [
    "plt.figure(figsize=(12,6))\n",
    "for key,sub_dict in rmses.items():\n",
    "    x = list(sub_dict.keys())\n",
    "    y = list(sub_dict.values())\n",
    "    xy = list(sorted(zip(x,y)))\n",
    "    x = [e[0] for e in xy]\n",
    "    y = [e[1] for e in xy]\n",
    "    plt.plot(x,y, label=key)\n",
    "plt.legend()\n",
    "plt.ylabel('Root Mean Squared Error')\n",
    "plt.xlabel('Nearest Neighbors Used in Model')\n",
    "plt.title('Error vs. Nearest Neighbors for different multivariate models')"
   ]
  },
  {
   "cell_type": "markdown",
   "metadata": {},
   "source": [
    "Although the model with five features performed best at k=5 nearest neighbors, the graph shows that further improvement can be obtained using the model with four variables and k=9.\n",
    "## Conclusion\n",
    "Different nearest neighbor models were tested to predict the price of cars. A model using four features and 9 nearest neighbors was found to be the most efficient using a root mean squared error metric."
   ]
  }
 ],
 "metadata": {
  "kernelspec": {
   "display_name": "Python 3",
   "language": "python",
   "name": "python3"
  },
  "language_info": {
   "codemirror_mode": {
    "name": "ipython",
    "version": 3
   },
   "file_extension": ".py",
   "mimetype": "text/x-python",
   "name": "python",
   "nbconvert_exporter": "python",
   "pygments_lexer": "ipython3",
   "version": "3.7.3"
  }
 },
 "nbformat": 4,
 "nbformat_minor": 2
}
