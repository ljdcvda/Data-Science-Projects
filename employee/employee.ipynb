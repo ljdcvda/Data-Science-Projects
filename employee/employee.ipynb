{
 "cells": [
  {
   "cell_type": "markdown",
   "metadata": {
    "collapsed": true
   },
   "source": [
    "# Employee exit survey data cleaning\n",
    "\n",
    "Will be working with australian employer exit survey."
   ]
  },
  {
   "cell_type": "code",
   "execution_count": 152,
   "metadata": {
    "collapsed": false
   },
   "outputs": [
    {
     "name": "stdout",
     "output_type": "stream",
     "text": [
      "<class 'pandas.core.frame.DataFrame'>\n",
      "RangeIndex: 822 entries, 0 to 821\n",
      "Data columns (total 56 columns):\n",
      "ID                                     822 non-null int64\n",
      "SeparationType                         822 non-null object\n",
      "Cease Date                             822 non-null object\n",
      "DETE Start Date                        822 non-null object\n",
      "Role Start Date                        822 non-null object\n",
      "Position                               817 non-null object\n",
      "Classification                         455 non-null object\n",
      "Region                                 822 non-null object\n",
      "Business Unit                          126 non-null object\n",
      "Employment Status                      817 non-null object\n",
      "Career move to public sector           822 non-null bool\n",
      "Career move to private sector          822 non-null bool\n",
      "Interpersonal conflicts                822 non-null bool\n",
      "Job dissatisfaction                    822 non-null bool\n",
      "Dissatisfaction with the department    822 non-null bool\n",
      "Physical work environment              822 non-null bool\n",
      "Lack of recognition                    822 non-null bool\n",
      "Lack of job security                   822 non-null bool\n",
      "Work location                          822 non-null bool\n",
      "Employment conditions                  822 non-null bool\n",
      "Maternity/family                       822 non-null bool\n",
      "Relocation                             822 non-null bool\n",
      "Study/Travel                           822 non-null bool\n",
      "Ill Health                             822 non-null bool\n",
      "Traumatic incident                     822 non-null bool\n",
      "Work life balance                      822 non-null bool\n",
      "Workload                               822 non-null bool\n",
      "None of the above                      822 non-null bool\n",
      "Professional Development               808 non-null object\n",
      "Opportunities for promotion            735 non-null object\n",
      "Staff morale                           816 non-null object\n",
      "Workplace issue                        788 non-null object\n",
      "Physical environment                   817 non-null object\n",
      "Worklife balance                       815 non-null object\n",
      "Stress and pressure support            810 non-null object\n",
      "Performance of supervisor              813 non-null object\n",
      "Peer support                           812 non-null object\n",
      "Initiative                             813 non-null object\n",
      "Skills                                 811 non-null object\n",
      "Coach                                  767 non-null object\n",
      "Career Aspirations                     746 non-null object\n",
      "Feedback                               792 non-null object\n",
      "Further PD                             768 non-null object\n",
      "Communication                          814 non-null object\n",
      "My say                                 812 non-null object\n",
      "Information                            816 non-null object\n",
      "Kept informed                          813 non-null object\n",
      "Wellness programs                      766 non-null object\n",
      "Health & Safety                        793 non-null object\n",
      "Gender                                 798 non-null object\n",
      "Age                                    811 non-null object\n",
      "Aboriginal                             16 non-null object\n",
      "Torres Strait                          3 non-null object\n",
      "South Sea                              7 non-null object\n",
      "Disability                             23 non-null object\n",
      "NESB                                   32 non-null object\n",
      "dtypes: bool(18), int64(1), object(37)\n",
      "memory usage: 258.6+ KB\n",
      "None\n",
      "   ID                    SeparationType Cease Date DETE Start Date  \\\n",
      "0   1             Ill Health Retirement    08/2012            1984   \n",
      "1   2  Voluntary Early Retirement (VER)    08/2012      Not Stated   \n",
      "2   3  Voluntary Early Retirement (VER)    05/2012            2011   \n",
      "3   4         Resignation-Other reasons    05/2012            2005   \n",
      "4   5                    Age Retirement    05/2012            1970   \n",
      "\n",
      "  Role Start Date                                      Position  \\\n",
      "0            2004                                Public Servant   \n",
      "1      Not Stated                                Public Servant   \n",
      "2            2011                               Schools Officer   \n",
      "3            2006                                       Teacher   \n",
      "4            1989  Head of Curriculum/Head of Special Education   \n",
      "\n",
      "  Classification              Region                      Business Unit  \\\n",
      "0        A01-A04      Central Office  Corporate Strategy and Peformance   \n",
      "1        AO5-AO7      Central Office  Corporate Strategy and Peformance   \n",
      "2            NaN      Central Office               Education Queensland   \n",
      "3        Primary  Central Queensland                                NaN   \n",
      "4            NaN          South East                                NaN   \n",
      "\n",
      "     Employment Status  ...   Kept informed  Wellness programs  \\\n",
      "0  Permanent Full-time  ...               N                  N   \n",
      "1  Permanent Full-time  ...               N                  N   \n",
      "2  Permanent Full-time  ...               N                  N   \n",
      "3  Permanent Full-time  ...               A                  N   \n",
      "4  Permanent Full-time  ...               N                  A   \n",
      "\n",
      "   Health & Safety  Gender          Age  Aboriginal  Torres Strait  South Sea  \\\n",
      "0                N    Male        56-60         NaN            NaN        NaN   \n",
      "1                N    Male        56-60         NaN            NaN        NaN   \n",
      "2                N    Male  61 or older         NaN            NaN        NaN   \n",
      "3                A  Female        36-40         NaN            NaN        NaN   \n",
      "4                M  Female  61 or older         NaN            NaN        NaN   \n",
      "\n",
      "   Disability  NESB  \n",
      "0         NaN   Yes  \n",
      "1         NaN   NaN  \n",
      "2         NaN   NaN  \n",
      "3         NaN   NaN  \n",
      "4         NaN   NaN  \n",
      "\n",
      "[5 rows x 56 columns]\n",
      "<class 'pandas.core.frame.DataFrame'>\n",
      "RangeIndex: 702 entries, 0 to 701\n",
      "Data columns (total 72 columns):\n",
      "Record ID                                                                                                                                                        702 non-null float64\n",
      "Institute                                                                                                                                                        702 non-null object\n",
      "WorkArea                                                                                                                                                         702 non-null object\n",
      "CESSATION YEAR                                                                                                                                                   695 non-null float64\n",
      "Reason for ceasing employment                                                                                                                                    701 non-null object\n",
      "Contributing Factors. Career Move - Public Sector                                                                                                                437 non-null object\n",
      "Contributing Factors. Career Move - Private Sector                                                                                                               437 non-null object\n",
      "Contributing Factors. Career Move - Self-employment                                                                                                              437 non-null object\n",
      "Contributing Factors. Ill Health                                                                                                                                 437 non-null object\n",
      "Contributing Factors. Maternity/Family                                                                                                                           437 non-null object\n",
      "Contributing Factors. Dissatisfaction                                                                                                                            437 non-null object\n",
      "Contributing Factors. Job Dissatisfaction                                                                                                                        437 non-null object\n",
      "Contributing Factors. Interpersonal Conflict                                                                                                                     437 non-null object\n",
      "Contributing Factors. Study                                                                                                                                      437 non-null object\n",
      "Contributing Factors. Travel                                                                                                                                     437 non-null object\n",
      "Contributing Factors. Other                                                                                                                                      437 non-null object\n",
      "Contributing Factors. NONE                                                                                                                                       437 non-null object\n",
      "Main Factor. Which of these was the main factor for leaving?                                                                                                     113 non-null object\n",
      "InstituteViews. Topic:1. I feel the senior leadership had a clear vision and direction                                                                           608 non-null object\n",
      "InstituteViews. Topic:2. I was given access to skills training to help me do my job better                                                                       613 non-null object\n",
      "InstituteViews. Topic:3. I was given adequate opportunities for personal development                                                                             610 non-null object\n",
      "InstituteViews. Topic:4. I was given adequate opportunities for promotion within %Institute]Q25LBL%                                                              608 non-null object\n",
      "InstituteViews. Topic:5. I felt the salary for the job was right for the responsibilities I had                                                                  615 non-null object\n",
      "InstituteViews. Topic:6. The organisation recognised when staff did good work                                                                                    607 non-null object\n",
      "InstituteViews. Topic:7. Management was generally supportive of me                                                                                               614 non-null object\n",
      "InstituteViews. Topic:8. Management was generally supportive of my team                                                                                          608 non-null object\n",
      "InstituteViews. Topic:9. I was kept informed of the changes in the organisation which would affect me                                                            610 non-null object\n",
      "InstituteViews. Topic:10. Staff morale was positive within the Institute                                                                                         602 non-null object\n",
      "InstituteViews. Topic:11. If I had a workplace issue it was dealt with quickly                                                                                   601 non-null object\n",
      "InstituteViews. Topic:12. If I had a workplace issue it was dealt with efficiently                                                                               597 non-null object\n",
      "InstituteViews. Topic:13. If I had a workplace issue it was dealt with discreetly                                                                                601 non-null object\n",
      "WorkUnitViews. Topic:14. I was satisfied with the quality of the management and supervision within my work unit                                                  609 non-null object\n",
      "WorkUnitViews. Topic:15. I worked well with my colleagues                                                                                                        605 non-null object\n",
      "WorkUnitViews. Topic:16. My job was challenging and interesting                                                                                                  607 non-null object\n",
      "WorkUnitViews. Topic:17. I was encouraged to use my initiative in the course of my work                                                                          610 non-null object\n",
      "WorkUnitViews. Topic:18. I had sufficient contact with other people in my job                                                                                    613 non-null object\n",
      "WorkUnitViews. Topic:19. I was given adequate support and co-operation by my peers to enable me to do my job                                                     609 non-null object\n",
      "WorkUnitViews. Topic:20. I was able to use the full range of my skills in my job                                                                                 609 non-null object\n",
      "WorkUnitViews. Topic:21. I was able to use the full range of my abilities in my job. ; Category:Level of Agreement; Question:YOUR VIEWS ABOUT YOUR WORK UNIT]    608 non-null object\n",
      "WorkUnitViews. Topic:22. I was able to use the full range of my knowledge in my job                                                                              608 non-null object\n",
      "WorkUnitViews. Topic:23. My job provided sufficient variety                                                                                                      611 non-null object\n",
      "WorkUnitViews. Topic:24. I was able to cope with the level of stress and pressure in my job                                                                      610 non-null object\n",
      "WorkUnitViews. Topic:25. My job allowed me to balance the demands of work and family to my satisfaction                                                          611 non-null object\n",
      "WorkUnitViews. Topic:26. My supervisor gave me adequate personal recognition and feedback on my performance                                                      606 non-null object\n",
      "WorkUnitViews. Topic:27. My working environment was satisfactory e.g. sufficient space, good lighting, suitable seating and working area                         610 non-null object\n",
      "WorkUnitViews. Topic:28. I was given the opportunity to mentor and coach others in order for me to pass on my skills and knowledge prior to my cessation date    609 non-null object\n",
      "WorkUnitViews. Topic:29. There was adequate communication between staff in my unit                                                                               603 non-null object\n",
      "WorkUnitViews. Topic:30. Staff morale was positive within my work unit                                                                                           606 non-null object\n",
      "Induction. Did you undertake Workplace Induction?                                                                                                                619 non-null object\n",
      "InductionInfo. Topic:Did you undertake a Corporate Induction?                                                                                                    432 non-null object\n",
      "InductionInfo. Topic:Did you undertake a Institute Induction?                                                                                                    483 non-null object\n",
      "InductionInfo. Topic: Did you undertake Team Induction?                                                                                                          440 non-null object\n",
      "InductionInfo. Face to Face Topic:Did you undertake a Corporate Induction; Category:How it was conducted?                                                        555 non-null object\n",
      "InductionInfo. On-line Topic:Did you undertake a Corporate Induction; Category:How it was conducted?                                                             555 non-null object\n",
      "InductionInfo. Induction Manual Topic:Did you undertake a Corporate Induction?                                                                                   555 non-null object\n",
      "InductionInfo. Face to Face Topic:Did you undertake a Institute Induction?                                                                                       530 non-null object\n",
      "InductionInfo. On-line Topic:Did you undertake a Institute Induction?                                                                                            555 non-null object\n",
      "InductionInfo. Induction Manual Topic:Did you undertake a Institute Induction?                                                                                   553 non-null object\n",
      "InductionInfo. Face to Face Topic: Did you undertake Team Induction; Category?                                                                                   555 non-null object\n",
      "InductionInfo. On-line Topic: Did you undertake Team Induction?process you undertook and how it was conducted.]                                                  555 non-null object\n",
      "InductionInfo. Induction Manual Topic: Did you undertake Team Induction?                                                                                         555 non-null object\n",
      "Workplace. Topic:Did you and your Manager develop a Performance and Professional Development Plan (PPDP)?                                                        608 non-null object\n",
      "Workplace. Topic:Does your workplace promote a work culture free from all forms of unlawful discrimination?                                                      594 non-null object\n",
      "Workplace. Topic:Does your workplace promote and practice the principles of employment equity?                                                                   587 non-null object\n",
      "Workplace. Topic:Does your workplace value the diversity of its employees?                                                                                       586 non-null object\n",
      "Workplace. Topic:Would you recommend the Institute as an employer to others?                                                                                     581 non-null object\n",
      "Gender. What is your Gender?                                                                                                                                     596 non-null object\n",
      "CurrentAge. Current Age                                                                                                                                          596 non-null object\n",
      "Employment Type. Employment Type                                                                                                                                 596 non-null object\n",
      "Classification. Classification                                                                                                                                   596 non-null object\n",
      "LengthofServiceOverall. Overall Length of Service at Institute (in years)                                                                                        596 non-null object\n",
      "LengthofServiceCurrent. Length of Service at current workplace (in years)                                                                                        596 non-null object\n",
      "dtypes: float64(2), object(70)\n",
      "memory usage: 395.0+ KB\n",
      "None\n",
      "      Record ID                              Institute  \\\n",
      "0  6.341330e+17  Southern Queensland Institute of TAFE   \n",
      "1  6.341337e+17            Mount Isa Institute of TAFE   \n",
      "2  6.341388e+17            Mount Isa Institute of TAFE   \n",
      "3  6.341399e+17            Mount Isa Institute of TAFE   \n",
      "4  6.341466e+17  Southern Queensland Institute of TAFE   \n",
      "\n",
      "                   WorkArea  CESSATION YEAR Reason for ceasing employment  \\\n",
      "0  Non-Delivery (corporate)          2010.0              Contract Expired   \n",
      "1  Non-Delivery (corporate)          2010.0                    Retirement   \n",
      "2       Delivery (teaching)          2010.0                    Retirement   \n",
      "3  Non-Delivery (corporate)          2010.0                   Resignation   \n",
      "4       Delivery (teaching)          2010.0                   Resignation   \n",
      "\n",
      "  Contributing Factors. Career Move - Public Sector   \\\n",
      "0                                                NaN   \n",
      "1                                                  -   \n",
      "2                                                  -   \n",
      "3                                                  -   \n",
      "4                                                  -   \n",
      "\n",
      "  Contributing Factors. Career Move - Private Sector   \\\n",
      "0                                                NaN    \n",
      "1                                                  -    \n",
      "2                                                  -    \n",
      "3                                                  -    \n",
      "4                       Career Move - Private Sector    \n",
      "\n",
      "  Contributing Factors. Career Move - Self-employment  \\\n",
      "0                                                NaN    \n",
      "1                                                  -    \n",
      "2                                                  -    \n",
      "3                                                  -    \n",
      "4                                                  -    \n",
      "\n",
      "  Contributing Factors. Ill Health Contributing Factors. Maternity/Family  \\\n",
      "0                              NaN                                    NaN   \n",
      "1                                -                                      -   \n",
      "2                                -                                      -   \n",
      "3                                -                                      -   \n",
      "4                                -                                      -   \n",
      "\n",
      "                                     ...                                     \\\n",
      "0                                    ...                                      \n",
      "1                                    ...                                      \n",
      "2                                    ...                                      \n",
      "3                                    ...                                      \n",
      "4                                    ...                                      \n",
      "\n",
      "  Workplace. Topic:Does your workplace promote a work culture free from all forms of unlawful discrimination?  \\\n",
      "0                                                Yes                                                            \n",
      "1                                                Yes                                                            \n",
      "2                                                Yes                                                            \n",
      "3                                                Yes                                                            \n",
      "4                                                Yes                                                            \n",
      "\n",
      "  Workplace. Topic:Does your workplace promote and practice the principles of employment equity?  \\\n",
      "0                                                Yes                                               \n",
      "1                                                Yes                                               \n",
      "2                                                Yes                                               \n",
      "3                                                Yes                                               \n",
      "4                                                Yes                                               \n",
      "\n",
      "  Workplace. Topic:Does your workplace value the diversity of its employees?  \\\n",
      "0                                                Yes                           \n",
      "1                                                Yes                           \n",
      "2                                                Yes                           \n",
      "3                                                Yes                           \n",
      "4                                                Yes                           \n",
      "\n",
      "  Workplace. Topic:Would you recommend the Institute as an employer to others?  \\\n",
      "0                                                Yes                             \n",
      "1                                                Yes                             \n",
      "2                                                Yes                             \n",
      "3                                                Yes                             \n",
      "4                                                Yes                             \n",
      "\n",
      "  Gender. What is your Gender? CurrentAge. Current Age  \\\n",
      "0                       Female                  26  30   \n",
      "1                          NaN                     NaN   \n",
      "2                          NaN                     NaN   \n",
      "3                          NaN                     NaN   \n",
      "4                         Male                  41  45   \n",
      "\n",
      "  Employment Type. Employment Type Classification. Classification  \\\n",
      "0              Temporary Full-time            Administration (AO)   \n",
      "1                              NaN                            NaN   \n",
      "2                              NaN                            NaN   \n",
      "3                              NaN                            NaN   \n",
      "4              Permanent Full-time        Teacher (including LVT)   \n",
      "\n",
      "  LengthofServiceOverall. Overall Length of Service at Institute (in years)  \\\n",
      "0                                                1-2                          \n",
      "1                                                NaN                          \n",
      "2                                                NaN                          \n",
      "3                                                NaN                          \n",
      "4                                                3-4                          \n",
      "\n",
      "  LengthofServiceCurrent. Length of Service at current workplace (in years)  \n",
      "0                                                1-2                         \n",
      "1                                                NaN                         \n",
      "2                                                NaN                         \n",
      "3                                                NaN                         \n",
      "4                                                3-4                         \n",
      "\n",
      "[5 rows x 72 columns]\n"
     ]
    }
   ],
   "source": [
    "import pandas as pd\n",
    "import numpy as np\n",
    "dete_survey = pd.read_csv('dete_survey.csv')\n",
    "tafe_survey = pd.read_csv('tafe_survey.csv')\n",
    "print(dete_survey.info())\n",
    "print(dete_survey.head())\n",
    "\n",
    "print(tafe_survey.info())\n",
    "print(tafe_survey.head())"
   ]
  },
  {
   "cell_type": "markdown",
   "metadata": {},
   "source": [
    "Dete survey contains lots of missing values in some columns (aboriginal, etc). Some missing values are also indicated as \"not stated\".\n",
    "\n",
    "Tefe survey contains extremely long and impractical column names that need to be changed."
   ]
  },
  {
   "cell_type": "code",
   "execution_count": 153,
   "metadata": {
    "collapsed": false
   },
   "outputs": [
    {
     "name": "stdout",
     "output_type": "stream",
     "text": [
      "<class 'pandas.core.frame.DataFrame'>\n",
      "RangeIndex: 822 entries, 0 to 821\n",
      "Data columns (total 35 columns):\n",
      "ID                                     822 non-null int64\n",
      "SeparationType                         822 non-null object\n",
      "Cease Date                             788 non-null object\n",
      "DETE Start Date                        749 non-null float64\n",
      "Role Start Date                        724 non-null float64\n",
      "Position                               817 non-null object\n",
      "Classification                         455 non-null object\n",
      "Region                                 717 non-null object\n",
      "Business Unit                          126 non-null object\n",
      "Employment Status                      817 non-null object\n",
      "Career move to public sector           822 non-null bool\n",
      "Career move to private sector          822 non-null bool\n",
      "Interpersonal conflicts                822 non-null bool\n",
      "Job dissatisfaction                    822 non-null bool\n",
      "Dissatisfaction with the department    822 non-null bool\n",
      "Physical work environment              822 non-null bool\n",
      "Lack of recognition                    822 non-null bool\n",
      "Lack of job security                   822 non-null bool\n",
      "Work location                          822 non-null bool\n",
      "Employment conditions                  822 non-null bool\n",
      "Maternity/family                       822 non-null bool\n",
      "Relocation                             822 non-null bool\n",
      "Study/Travel                           822 non-null bool\n",
      "Ill Health                             822 non-null bool\n",
      "Traumatic incident                     822 non-null bool\n",
      "Work life balance                      822 non-null bool\n",
      "Workload                               822 non-null bool\n",
      "None of the above                      822 non-null bool\n",
      "Gender                                 798 non-null object\n",
      "Age                                    811 non-null object\n",
      "Aboriginal                             16 non-null object\n",
      "Torres Strait                          3 non-null object\n",
      "South Sea                              7 non-null object\n",
      "Disability                             23 non-null object\n",
      "NESB                                   32 non-null object\n",
      "dtypes: bool(18), float64(2), int64(1), object(14)\n",
      "memory usage: 123.7+ KB\n",
      "None\n",
      "<class 'pandas.core.frame.DataFrame'>\n",
      "RangeIndex: 702 entries, 0 to 701\n",
      "Data columns (total 23 columns):\n",
      "Record ID                                                                    702 non-null float64\n",
      "Institute                                                                    702 non-null object\n",
      "WorkArea                                                                     702 non-null object\n",
      "CESSATION YEAR                                                               695 non-null float64\n",
      "Reason for ceasing employment                                                701 non-null object\n",
      "Contributing Factors. Career Move - Public Sector                            437 non-null object\n",
      "Contributing Factors. Career Move - Private Sector                           437 non-null object\n",
      "Contributing Factors. Career Move - Self-employment                          437 non-null object\n",
      "Contributing Factors. Ill Health                                             437 non-null object\n",
      "Contributing Factors. Maternity/Family                                       437 non-null object\n",
      "Contributing Factors. Dissatisfaction                                        437 non-null object\n",
      "Contributing Factors. Job Dissatisfaction                                    437 non-null object\n",
      "Contributing Factors. Interpersonal Conflict                                 437 non-null object\n",
      "Contributing Factors. Study                                                  437 non-null object\n",
      "Contributing Factors. Travel                                                 437 non-null object\n",
      "Contributing Factors. Other                                                  437 non-null object\n",
      "Contributing Factors. NONE                                                   437 non-null object\n",
      "Gender. What is your Gender?                                                 596 non-null object\n",
      "CurrentAge. Current Age                                                      596 non-null object\n",
      "Employment Type. Employment Type                                             596 non-null object\n",
      "Classification. Classification                                               596 non-null object\n",
      "LengthofServiceOverall. Overall Length of Service at Institute (in years)    596 non-null object\n",
      "LengthofServiceCurrent. Length of Service at current workplace (in years)    596 non-null object\n",
      "dtypes: float64(2), object(21)\n",
      "memory usage: 126.2+ KB\n",
      "None\n"
     ]
    }
   ],
   "source": [
    "dete_survey = pd.read_csv('dete_survey.csv', na_values='Not Stated')\n",
    "dete_survey_updated = dete_survey.drop(dete_survey.columns[28:49], axis=1)\n",
    "tafe_survey_updated = tafe_survey.drop(tafe_survey.columns[17:66], axis=1)\n",
    "print(dete_survey_updated.info())\n",
    "print(tafe_survey_updated.info())\n"
   ]
  },
  {
   "cell_type": "markdown",
   "metadata": {},
   "source": [
    "Values \"not stated\" were corrected to be read as NaN, while columns unnneeded for analysis were dropped."
   ]
  },
  {
   "cell_type": "code",
   "execution_count": 154,
   "metadata": {
    "collapsed": false
   },
   "outputs": [],
   "source": [
    "dete_survey_updated.columns = dete_survey_updated.columns.str.replace(' ', '_').str.strip().str.lower()"
   ]
  },
  {
   "cell_type": "code",
   "execution_count": 155,
   "metadata": {
    "collapsed": false
   },
   "outputs": [],
   "source": [
    "col_dict = {'Record ID' : 'id', 'CESSATION YEAR' : 'cease_date', 'Reason for ceasing employment': 'separationtype', 'Gender. What is your Gender?': 'gender', 'CurrentAge. Current Age': 'age', 'Employment Type. Employment Type':'employment_status', 'Classification. Classification' : 'position', 'LengthofServiceOverall. Overall Length of Service at Institute (in years)' : 'institute_service', 'LengthofServiceCurrent. Length of Service at current workplace (in years)': 'role_service'}\n",
    "tafe_survey_updated = tafe_survey_updated.rename(col_dict, axis=1)"
   ]
  },
  {
   "cell_type": "code",
   "execution_count": 156,
   "metadata": {
    "collapsed": false
   },
   "outputs": [
    {
     "name": "stdout",
     "output_type": "stream",
     "text": [
      "   id                    separationtype cease_date  dete_start_date  \\\n",
      "0   1             Ill Health Retirement    08/2012           1984.0   \n",
      "1   2  Voluntary Early Retirement (VER)    08/2012              NaN   \n",
      "2   3  Voluntary Early Retirement (VER)    05/2012           2011.0   \n",
      "3   4         Resignation-Other reasons    05/2012           2005.0   \n",
      "4   5                    Age Retirement    05/2012           1970.0   \n",
      "\n",
      "   role_start_date                                      position  \\\n",
      "0           2004.0                                Public Servant   \n",
      "1              NaN                                Public Servant   \n",
      "2           2011.0                               Schools Officer   \n",
      "3           2006.0                                       Teacher   \n",
      "4           1989.0  Head of Curriculum/Head of Special Education   \n",
      "\n",
      "  classification              region                      business_unit  \\\n",
      "0        A01-A04      Central Office  Corporate Strategy and Peformance   \n",
      "1        AO5-AO7      Central Office  Corporate Strategy and Peformance   \n",
      "2            NaN      Central Office               Education Queensland   \n",
      "3        Primary  Central Queensland                                NaN   \n",
      "4            NaN          South East                                NaN   \n",
      "\n",
      "     employment_status  ...   work_life_balance  workload  none_of_the_above  \\\n",
      "0  Permanent Full-time  ...               False     False               True   \n",
      "1  Permanent Full-time  ...               False     False              False   \n",
      "2  Permanent Full-time  ...               False     False               True   \n",
      "3  Permanent Full-time  ...               False     False              False   \n",
      "4  Permanent Full-time  ...                True     False              False   \n",
      "\n",
      "   gender          age  aboriginal  torres_strait  south_sea  disability  nesb  \n",
      "0    Male        56-60         NaN            NaN        NaN         NaN   Yes  \n",
      "1    Male        56-60         NaN            NaN        NaN         NaN   NaN  \n",
      "2    Male  61 or older         NaN            NaN        NaN         NaN   NaN  \n",
      "3  Female        36-40         NaN            NaN        NaN         NaN   NaN  \n",
      "4  Female  61 or older         NaN            NaN        NaN         NaN   NaN  \n",
      "\n",
      "[5 rows x 35 columns]\n",
      "             id                              Institute  \\\n",
      "0  6.341330e+17  Southern Queensland Institute of TAFE   \n",
      "1  6.341337e+17            Mount Isa Institute of TAFE   \n",
      "2  6.341388e+17            Mount Isa Institute of TAFE   \n",
      "3  6.341399e+17            Mount Isa Institute of TAFE   \n",
      "4  6.341466e+17  Southern Queensland Institute of TAFE   \n",
      "\n",
      "                   WorkArea  cease_date    separationtype  \\\n",
      "0  Non-Delivery (corporate)      2010.0  Contract Expired   \n",
      "1  Non-Delivery (corporate)      2010.0        Retirement   \n",
      "2       Delivery (teaching)      2010.0        Retirement   \n",
      "3  Non-Delivery (corporate)      2010.0       Resignation   \n",
      "4       Delivery (teaching)      2010.0       Resignation   \n",
      "\n",
      "  Contributing Factors. Career Move - Public Sector   \\\n",
      "0                                                NaN   \n",
      "1                                                  -   \n",
      "2                                                  -   \n",
      "3                                                  -   \n",
      "4                                                  -   \n",
      "\n",
      "  Contributing Factors. Career Move - Private Sector   \\\n",
      "0                                                NaN    \n",
      "1                                                  -    \n",
      "2                                                  -    \n",
      "3                                                  -    \n",
      "4                       Career Move - Private Sector    \n",
      "\n",
      "  Contributing Factors. Career Move - Self-employment  \\\n",
      "0                                                NaN    \n",
      "1                                                  -    \n",
      "2                                                  -    \n",
      "3                                                  -    \n",
      "4                                                  -    \n",
      "\n",
      "  Contributing Factors. Ill Health Contributing Factors. Maternity/Family  \\\n",
      "0                              NaN                                    NaN   \n",
      "1                                -                                      -   \n",
      "2                                -                                      -   \n",
      "3                                -                                      -   \n",
      "4                                -                                      -   \n",
      "\n",
      "      ...      Contributing Factors. Study Contributing Factors. Travel  \\\n",
      "0     ...                              NaN                          NaN   \n",
      "1     ...                                -                       Travel   \n",
      "2     ...                                -                            -   \n",
      "3     ...                                -                       Travel   \n",
      "4     ...                                -                            -   \n",
      "\n",
      "  Contributing Factors. Other Contributing Factors. NONE  gender     age  \\\n",
      "0                         NaN                        NaN  Female  26  30   \n",
      "1                           -                          -     NaN     NaN   \n",
      "2                           -                       NONE     NaN     NaN   \n",
      "3                           -                          -     NaN     NaN   \n",
      "4                           -                          -    Male  41  45   \n",
      "\n",
      "     employment_status                 position institute_service role_service  \n",
      "0  Temporary Full-time      Administration (AO)               1-2          1-2  \n",
      "1                  NaN                      NaN               NaN          NaN  \n",
      "2                  NaN                      NaN               NaN          NaN  \n",
      "3                  NaN                      NaN               NaN          NaN  \n",
      "4  Permanent Full-time  Teacher (including LVT)               3-4          3-4  \n",
      "\n",
      "[5 rows x 23 columns]\n"
     ]
    }
   ],
   "source": [
    "print(dete_survey_updated.head())\n",
    "print(tafe_survey_updated.head())"
   ]
  },
  {
   "cell_type": "markdown",
   "metadata": {},
   "source": [
    "Column names were changed to match between both dataframes."
   ]
  },
  {
   "cell_type": "code",
   "execution_count": 157,
   "metadata": {
    "collapsed": false
   },
   "outputs": [
    {
     "name": "stdout",
     "output_type": "stream",
     "text": [
      "Age Retirement                          285\n",
      "Resignation-Other reasons               150\n",
      "Resignation-Other employer               91\n",
      "Resignation-Move overseas/interstate     70\n",
      "Voluntary Early Retirement (VER)         67\n",
      "Ill Health Retirement                    61\n",
      "Other                                    49\n",
      "Contract Expired                         34\n",
      "Termination                              15\n",
      "Name: separationtype, dtype: int64 \n",
      "\n",
      "Resignation                 340\n",
      "Contract Expired            127\n",
      "Retrenchment/ Redundancy    104\n",
      "Retirement                   82\n",
      "Transfer                     25\n",
      "Termination                  23\n",
      "NaN                           1\n",
      "Name: separationtype, dtype: int64\n"
     ]
    }
   ],
   "source": [
    "print(dete_survey_updated['separationtype'].value_counts(dropna=False), '\\n')\n",
    "print(tafe_survey_updated['separationtype'].value_counts(dropna=False))"
   ]
  },
  {
   "cell_type": "code",
   "execution_count": 158,
   "metadata": {
    "collapsed": false,
    "scrolled": true
   },
   "outputs": [
    {
     "name": "stdout",
     "output_type": "stream",
     "text": [
      "Resignation-Other reasons               150\n",
      "Resignation-Other employer               91\n",
      "Resignation-Move overseas/interstate     70\n",
      "Name: separationtype, dtype: int64 \n",
      "\n",
      "Resignation    340\n",
      "Name: separationtype, dtype: int64\n"
     ]
    }
   ],
   "source": [
    "dete_resignations = dete_survey_updated[dete_survey_updated['separationtype'].str.contains('Resignation')].copy() \n",
    "print(dete_resignations['separationtype'].value_counts(), '\\n')\n",
    "\n",
    "mask = tafe_survey_updated['separationtype'].str.contains('Resignation', na=False)\n",
    "tafe_resignations = tafe_survey_updated[mask]\n",
    "print(tafe_resignations['separationtype'].value_counts())"
   ]
  },
  {
   "cell_type": "markdown",
   "metadata": {},
   "source": [
    "Separated data indicating end of employment due to resignation from the rest. In case of tafe data, assigned one missing value row to false. Dete data has 3 types of resignations, while tefe only has one."
   ]
  },
  {
   "cell_type": "code",
   "execution_count": 159,
   "metadata": {
    "collapsed": false,
    "scrolled": true
   },
   "outputs": [
    {
     "name": "stdout",
     "output_type": "stream",
     "text": [
      "2012       126\n",
      "2013        74\n",
      "01/2014     22\n",
      "12/2013     17\n",
      "06/2013     14\n",
      "NaN         11\n",
      "09/2013     11\n",
      "07/2013      9\n",
      "11/2013      9\n",
      "10/2013      6\n",
      "08/2013      4\n",
      "05/2013      2\n",
      "05/2012      2\n",
      "07/2012      1\n",
      "09/2010      1\n",
      "07/2006      1\n",
      "2010         1\n",
      "Name: cease_date, dtype: int64 \n",
      "\n"
     ]
    }
   ],
   "source": [
    "print(dete_resignations['cease_date'].value_counts(dropna=False), '\\n')\n",
    "dete_resignations['cease_date'] = dete_resignations['cease_date'].str[-4:].astype(float)"
   ]
  },
  {
   "cell_type": "markdown",
   "metadata": {},
   "source": [
    "Will fix this column by extracting years and converting to float."
   ]
  },
  {
   "cell_type": "code",
   "execution_count": 160,
   "metadata": {
    "collapsed": false
   },
   "outputs": [
    {
     "name": "stdout",
     "output_type": "stream",
     "text": [
      " 2006.0      1\n",
      " 2010.0      2\n",
      " 2012.0    129\n",
      " 2013.0    146\n",
      " 2014.0     22\n",
      "NaN         11\n",
      "Name: cease_date, dtype: int64 \n",
      "\n",
      " 1963.0     1\n",
      " 1971.0     1\n",
      " 1972.0     1\n",
      " 1973.0     1\n",
      " 1974.0     2\n",
      " 1975.0     1\n",
      " 1976.0     2\n",
      " 1977.0     1\n",
      " 1980.0     5\n",
      " 1982.0     1\n",
      " 1983.0     2\n",
      " 1984.0     1\n",
      " 1985.0     3\n",
      " 1986.0     3\n",
      " 1987.0     1\n",
      " 1988.0     4\n",
      " 1989.0     4\n",
      " 1990.0     5\n",
      " 1991.0     4\n",
      " 1992.0     6\n",
      " 1993.0     5\n",
      " 1994.0     6\n",
      " 1995.0     4\n",
      " 1996.0     6\n",
      " 1997.0     5\n",
      " 1998.0     6\n",
      " 1999.0     8\n",
      " 2000.0     9\n",
      " 2001.0     3\n",
      " 2002.0     6\n",
      " 2003.0     6\n",
      " 2004.0    14\n",
      " 2005.0    15\n",
      " 2006.0    13\n",
      " 2007.0    21\n",
      " 2008.0    22\n",
      " 2009.0    13\n",
      " 2010.0    17\n",
      " 2011.0    24\n",
      " 2012.0    21\n",
      " 2013.0    10\n",
      "NaN        28\n",
      "Name: dete_start_date, dtype: int64 \n",
      "\n",
      " 2009.0      2\n",
      " 2010.0     68\n",
      " 2011.0    116\n",
      " 2012.0     94\n",
      " 2013.0     55\n",
      "NaN          5\n",
      "Name: cease_date, dtype: int64\n"
     ]
    }
   ],
   "source": [
    "print(dete_resignations['cease_date'].value_counts(dropna=False).sort_index(), '\\n')\n",
    "print(dete_resignations['dete_start_date'].value_counts(dropna=False).sort_index(), '\\n')\n",
    "\n",
    "print(tafe_resignations['cease_date'].value_counts(dropna=False).sort_index())"
   ]
  },
  {
   "cell_type": "markdown",
   "metadata": {},
   "source": [
    "Start and end dates seem coherent and consistent accross both dataframes, except for 2006, 2009, and 2011."
   ]
  },
  {
   "cell_type": "code",
   "execution_count": 161,
   "metadata": {
    "collapsed": false
   },
   "outputs": [
    {
     "name": "stdout",
     "output_type": "stream",
     "text": [
      "   id             separationtype  cease_date  dete_start_date  \\\n",
      "3   4  Resignation-Other reasons      2012.0           2005.0   \n",
      "\n",
      "   role_start_date position classification              region business_unit  \\\n",
      "3           2006.0  Teacher        Primary  Central Queensland           NaN   \n",
      "\n",
      "     employment_status        ...          workload  none_of_the_above  \\\n",
      "3  Permanent Full-time        ...             False              False   \n",
      "\n",
      "   gender    age  aboriginal  torres_strait  south_sea  disability  nesb  \\\n",
      "3  Female  36-40         NaN            NaN        NaN         NaN   NaN   \n",
      "\n",
      "   institute_service  \n",
      "3                7.0  \n",
      "\n",
      "[1 rows x 36 columns]\n"
     ]
    }
   ],
   "source": [
    "dete_resignations['institute_service'] = dete_resignations['cease_date']-dete_resignations['dete_start_date']\n",
    "print(dete_resignations.head(1))"
   ]
  },
  {
   "cell_type": "markdown",
   "metadata": {},
   "source": [
    "Created a service duration column by subtracting the cease date from the start date in the dete data."
   ]
  },
  {
   "cell_type": "code",
   "execution_count": 162,
   "metadata": {
    "collapsed": false
   },
   "outputs": [
    {
     "data": {
      "text/plain": [
       "False    162\n",
       "True     149\n",
       "Name: dissatisfied, dtype: int64"
      ]
     },
     "execution_count": 162,
     "metadata": {},
     "output_type": "execute_result"
    }
   ],
   "source": [
    "def update_vals(val):\n",
    "    if pd.isnull(val):\n",
    "        return np.nan\n",
    "    elif val=='-':\n",
    "        return False\n",
    "    else:\n",
    "        return True\n",
    "\n",
    "col_list_tafe = ['Contributing Factors. Dissatisfaction',\n",
    "                 'Contributing Factors. Job Dissatisfaction']\n",
    "col_list_dete = ['job_dissatisfaction',\n",
    "                 'dissatisfaction_with_the_department',\n",
    "                 'physical_work_environment',\n",
    "                 'lack_of_recognition',\n",
    "                 'lack_of_job_security',\n",
    "                 'work_location',\n",
    "                 'employment_conditions',\n",
    "                 'work_life_balance',\n",
    "                 'workload']\n",
    "\n",
    "dete_resignations['dissatisfied'] = dete_resignations[col_list_dete].any(axis=1, skipna=False)\n",
    "dete_resignations_up = dete_resignations.copy()\n",
    "dete_resignations_up['dissatisfied'].value_counts(dropna=False)\n",
    "\n"
   ]
  },
  {
   "cell_type": "code",
   "execution_count": 163,
   "metadata": {
    "collapsed": false
   },
   "outputs": [
    {
     "data": {
      "text/plain": [
       "False    241\n",
       "True      91\n",
       "NaN        8\n",
       "Name: dissatisfied, dtype: int64"
      ]
     },
     "execution_count": 163,
     "metadata": {},
     "output_type": "execute_result"
    }
   ],
   "source": [
    "# tafe_resignations['dissatisfied'] = tafe_resignations[col_list_tafe].applymap(update_vals).any(1, skipna=False)\n",
    "tafe_resignations_up = tafe_resignations.copy()\n",
    "tafe_resignations_up['dissatisfied'] = tafe_resignations[['Contributing Factors. Dissatisfaction', 'Contributing Factors. Job Dissatisfaction']].applymap(update_vals).any(1, skipna=False)\n",
    "tafe_resignations_up['dissatisfied'].value_counts(dropna=False)"
   ]
  },
  {
   "cell_type": "markdown",
   "metadata": {},
   "source": [
    "If any factor indicating dissatisfaction was indicated, set new column to indicate so."
   ]
  },
  {
   "cell_type": "code",
   "execution_count": 164,
   "metadata": {
    "collapsed": false,
    "scrolled": true
   },
   "outputs": [],
   "source": [
    "dete_resignations_up['institute'] = 'DETE'\n",
    "tafe_resignations_up['institute'] = 'TAFE'"
   ]
  },
  {
   "cell_type": "code",
   "execution_count": 165,
   "metadata": {
    "collapsed": false,
    "scrolled": true
   },
   "outputs": [
    {
     "data": {
      "text/plain": [
       "torres_strait                                            0\n",
       "south_sea                                                3\n",
       "aboriginal                                               7\n",
       "disability                                               8\n",
       "nesb                                                     9\n",
       "business_unit                                           32\n",
       "classification                                         161\n",
       "region                                                 265\n",
       "role_start_date                                        271\n",
       "dete_start_date                                        283\n",
       "role_service                                           290\n",
       "career_move_to_public_sector                           311\n",
       "employment_conditions                                  311\n",
       "work_location                                          311\n",
       "lack_of_job_security                                   311\n",
       "job_dissatisfaction                                    311\n",
       "dissatisfaction_with_the_department                    311\n",
       "workload                                               311\n",
       "lack_of_recognition                                    311\n",
       "interpersonal_conflicts                                311\n",
       "maternity/family                                       311\n",
       "none_of_the_above                                      311\n",
       "physical_work_environment                              311\n",
       "relocation                                             311\n",
       "study/travel                                           311\n",
       "traumatic_incident                                     311\n",
       "work_life_balance                                      311\n",
       "career_move_to_private_sector                          311\n",
       "ill_health                                             311\n",
       "Contributing Factors. Career Move - Private Sector     332\n",
       "Contributing Factors. Other                            332\n",
       "Contributing Factors. Career Move - Public Sector      332\n",
       "Contributing Factors. Career Move - Self-employment    332\n",
       "Contributing Factors. Travel                           332\n",
       "Contributing Factors. Study                            332\n",
       "Contributing Factors. Dissatisfaction                  332\n",
       "Contributing Factors. Ill Health                       332\n",
       "Contributing Factors. NONE                             332\n",
       "Contributing Factors. Maternity/Family                 332\n",
       "Contributing Factors. Job Dissatisfaction              332\n",
       "Contributing Factors. Interpersonal Conflict           332\n",
       "WorkArea                                               340\n",
       "Institute                                              340\n",
       "institute_service                                      563\n",
       "gender                                                 592\n",
       "age                                                    596\n",
       "employment_status                                      597\n",
       "position                                               598\n",
       "cease_date                                             635\n",
       "dissatisfied                                           643\n",
       "id                                                     651\n",
       "separationtype                                         651\n",
       "institute                                              651\n",
       "dtype: int64"
      ]
     },
     "execution_count": 165,
     "metadata": {},
     "output_type": "execute_result"
    }
   ],
   "source": [
    "combined = pd.concat([dete_resignations_up, tafe_resignations_up], ignore_index=True)\n",
    "combined.notnull().sum().sort_values()"
   ]
  },
  {
   "cell_type": "code",
   "execution_count": 166,
   "metadata": {
    "collapsed": false
   },
   "outputs": [
    {
     "data": {
      "text/plain": [
       "institute_service    563\n",
       "gender               592\n",
       "age                  596\n",
       "employment_status    597\n",
       "position             598\n",
       "cease_date           635\n",
       "dissatisfied         643\n",
       "id                   651\n",
       "institute            651\n",
       "separationtype       651\n",
       "dtype: int64"
      ]
     },
     "execution_count": 166,
     "metadata": {},
     "output_type": "execute_result"
    }
   ],
   "source": [
    "combined_updated = combined.dropna(thresh = 500, axis=1).copy()\n",
    "combined_updated.notnull().sum().sort_values()"
   ]
  },
  {
   "cell_type": "markdown",
   "metadata": {},
   "source": [
    "Removed columns with less than 500 non null values"
   ]
  },
  {
   "cell_type": "code",
   "execution_count": 167,
   "metadata": {
    "collapsed": false
   },
   "outputs": [
    {
     "data": {
      "text/plain": [
       "NaN                   88\n",
       "Less than 1 year      73\n",
       "1-2                   64\n",
       "3-4                   63\n",
       "5-6                   33\n",
       "11-20                 26\n",
       "5.0                   23\n",
       "1.0                   22\n",
       "7-10                  21\n",
       "0.0                   20\n",
       "3.0                   20\n",
       "6.0                   17\n",
       "4.0                   16\n",
       "2.0                   14\n",
       "9.0                   14\n",
       "7.0                   13\n",
       "More than 20 years    10\n",
       "8.0                    8\n",
       "13.0                   8\n",
       "15.0                   7\n",
       "20.0                   7\n",
       "10.0                   6\n",
       "12.0                   6\n",
       "14.0                   6\n",
       "22.0                   6\n",
       "17.0                   6\n",
       "18.0                   5\n",
       "16.0                   5\n",
       "11.0                   4\n",
       "23.0                   4\n",
       "24.0                   4\n",
       "19.0                   3\n",
       "32.0                   3\n",
       "21.0                   3\n",
       "39.0                   3\n",
       "30.0                   2\n",
       "25.0                   2\n",
       "26.0                   2\n",
       "28.0                   2\n",
       "36.0                   2\n",
       "38.0                   1\n",
       "49.0                   1\n",
       "42.0                   1\n",
       "41.0                   1\n",
       "29.0                   1\n",
       "35.0                   1\n",
       "34.0                   1\n",
       "33.0                   1\n",
       "27.0                   1\n",
       "31.0                   1\n",
       "Name: institute_service, dtype: int64"
      ]
     },
     "execution_count": 167,
     "metadata": {},
     "output_type": "execute_result"
    }
   ],
   "source": [
    "combined_updated['institute_service'].value_counts(dropna=False)"
   ]
  },
  {
   "cell_type": "code",
   "execution_count": 168,
   "metadata": {
    "collapsed": false
   },
   "outputs": [
    {
     "name": "stderr",
     "output_type": "stream",
     "text": [
      "/dataquest/system/env/python3/lib/python3.4/site-packages/ipykernel/__main__.py:1: FutureWarning: currently extract(expand=None) means expand=False (return Index/Series/DataFrame) but in a future version of pandas this will be changed to expand=True (return DataFrame)\n",
      "  if __name__ == '__main__':\n"
     ]
    },
    {
     "data": {
      "text/plain": [
       " 1.0     159\n",
       "NaN       88\n",
       " 3.0      83\n",
       " 5.0      56\n",
       " 7.0      34\n",
       " 11.0     30\n",
       " 0.0      20\n",
       " 20.0     17\n",
       " 6.0      17\n",
       " 4.0      16\n",
       " 9.0      14\n",
       " 2.0      14\n",
       " 13.0      8\n",
       " 8.0       8\n",
       " 15.0      7\n",
       " 22.0      6\n",
       " 10.0      6\n",
       " 17.0      6\n",
       " 14.0      6\n",
       " 12.0      6\n",
       " 16.0      5\n",
       " 18.0      5\n",
       " 24.0      4\n",
       " 23.0      4\n",
       " 21.0      3\n",
       " 39.0      3\n",
       " 32.0      3\n",
       " 19.0      3\n",
       " 36.0      2\n",
       " 30.0      2\n",
       " 25.0      2\n",
       " 26.0      2\n",
       " 28.0      2\n",
       " 42.0      1\n",
       " 29.0      1\n",
       " 35.0      1\n",
       " 27.0      1\n",
       " 41.0      1\n",
       " 49.0      1\n",
       " 38.0      1\n",
       " 34.0      1\n",
       " 33.0      1\n",
       " 31.0      1\n",
       "Name: institute_service, dtype: int64"
      ]
     },
     "execution_count": 168,
     "metadata": {},
     "output_type": "execute_result"
    }
   ],
   "source": [
    "combined_updated['institute_service'] =combined_updated['institute_service'].astype(str).str.extract(r'(\\d+)').astype(float)\n",
    "combined_updated['institute_service'].value_counts(dropna=False)"
   ]
  },
  {
   "cell_type": "code",
   "execution_count": 169,
   "metadata": {
    "collapsed": false
   },
   "outputs": [
    {
     "data": {
      "text/plain": [
       "New            193\n",
       "Experienced    172\n",
       "Veteran        136\n",
       "NaN             88\n",
       "Established     62\n",
       "Name: service_cat, dtype: int64"
      ]
     },
     "execution_count": 169,
     "metadata": {},
     "output_type": "execute_result"
    }
   ],
   "source": [
    "def career_stage(year):\n",
    "    if pd.isnull(year):\n",
    "        return np.nan\n",
    "    elif year <3:\n",
    "        return 'New'\n",
    "    elif 3 <= year <7:\n",
    "        return 'Experienced'\n",
    "    elif 7 <= year <11:\n",
    "        return 'Established'\n",
    "    elif year>= 11:\n",
    "        return 'Veteran'\n",
    "    \n",
    "combined_updated['service_cat'] = combined_updated['institute_service'].apply(career_stage)\n",
    "combined_updated['service_cat'].value_counts(dropna=False)\n",
    "                                                                             "
   ]
  },
  {
   "cell_type": "markdown",
   "metadata": {},
   "source": [
    "Applied a category to each year of service in order to perform analysis."
   ]
  },
  {
   "cell_type": "code",
   "execution_count": 170,
   "metadata": {
    "collapsed": false
   },
   "outputs": [
    {
     "data": {
      "text/plain": [
       "False    403\n",
       "True     240\n",
       "NaN        8\n",
       "Name: dissatisfied, dtype: int64"
      ]
     },
     "execution_count": 170,
     "metadata": {},
     "output_type": "execute_result"
    }
   ],
   "source": [
    "combined_updated['dissatisfied'].value_counts(dropna=False)"
   ]
  },
  {
   "cell_type": "code",
   "execution_count": 172,
   "metadata": {
    "collapsed": false,
    "scrolled": true
   },
   "outputs": [
    {
     "data": {
      "text/plain": [
       "False    411\n",
       "True     240\n",
       "Name: dissatisfied, dtype: int64"
      ]
     },
     "execution_count": 172,
     "metadata": {},
     "output_type": "execute_result"
    }
   ],
   "source": [
    "combined_updated['dissatisfied'] = combined_updated['dissatisfied'].fillna(False)\n",
    "combined_updated['dissatisfied'].value_counts(dropna=False)"
   ]
  },
  {
   "cell_type": "code",
   "execution_count": 174,
   "metadata": {
    "collapsed": false
   },
   "outputs": [
    {
     "data": {
      "text/plain": [
       "<matplotlib.axes._subplots.AxesSubplot at 0x7fcfa162ad68>"
      ]
     },
     "execution_count": 174,
     "metadata": {},
     "output_type": "execute_result"
    },
    {
     "data": {
      "image/png": "[encoded data removed]",
      "text/plain": [
       "<matplotlib.figure.Figure at 0x7fcfa162a550>"
      ]
     },
     "metadata": {},
     "output_type": "display_data"
    }
   ],
   "source": [
    "%matplotlib inline\n",
    "pd.pivot_table(combined_updated, 'dissatisfied', 'service_cat').plot(kind='bar') "
   ]
  },
  {
   "cell_type": "markdown",
   "metadata": {},
   "source": [
    "Newer employees tend to be less dissatisfied when leaving."
   ]
  }
 ],
 "metadata": {
  "kernelspec": {
   "display_name": "Python 3",
   "language": "python",
   "name": "python3"
  },
  "language_info": {
   "codemirror_mode": {
    "name": "ipython",
    "version": 3
   },
   "file_extension": ".py",
   "mimetype": "text/x-python",
   "name": "python",
   "nbconvert_exporter": "python",
   "pygments_lexer": "ipython3",
   "version": "3.4.3"
  }
 },
 "nbformat": 4,
 "nbformat_minor": 2
}
