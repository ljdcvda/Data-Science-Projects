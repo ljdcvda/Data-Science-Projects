{
 "cells": [
  {
   "cell_type": "markdown",
   "metadata": {},
   "source": [
    "# Project\n",
    "Finding the best two markets to advertise product in."
   ]
  },
  {
   "cell_type": "code",
   "execution_count": 20,
   "metadata": {
    "collapsed": false,
    "scrolled": true
   },
   "outputs": [
    {
     "name": "stderr",
     "output_type": "stream",
     "text": [
      "/dataquest/system/env/python3/lib/python3.4/site-packages/IPython/core/interactiveshell.py:2723: DtypeWarning:\n",
      "\n",
      "Columns (17,62) have mixed types. Specify dtype option on import or set low_memory=False.\n",
      "\n"
     ]
    }
   ],
   "source": [
    "import pandas as pd\n",
    "data = pd.read_csv('2017-fCC-New-Coders-Survey-Data.csv')"
   ]
  },
  {
   "cell_type": "code",
   "execution_count": 21,
   "metadata": {
    "collapsed": false
   },
   "outputs": [
    {
     "name": "stdout",
     "output_type": "stream",
     "text": [
      "(18175, 136)\n"
     ]
    }
   ],
   "source": [
    "print(data.shape)"
   ]
  },
  {
   "cell_type": "code",
   "execution_count": 22,
   "metadata": {
    "collapsed": false
   },
   "outputs": [
    {
     "name": "stdout",
     "output_type": "stream",
     "text": [
      "    Age  AttendedBootcamp  BootcampFinish  BootcampLoanYesNo BootcampName  \\\n",
      "0  27.0               0.0             NaN                NaN          NaN   \n",
      "1  34.0               0.0             NaN                NaN          NaN   \n",
      "2  21.0               0.0             NaN                NaN          NaN   \n",
      "3  26.0               0.0             NaN                NaN          NaN   \n",
      "4  20.0               0.0             NaN                NaN          NaN   \n",
      "\n",
      "   BootcampRecommend  ChildrenNumber                 CityPopulation  \\\n",
      "0                NaN             NaN            more than 1 million   \n",
      "1                NaN             NaN              less than 100,000   \n",
      "2                NaN             NaN            more than 1 million   \n",
      "3                NaN             NaN  between 100,000 and 1 million   \n",
      "4                NaN             NaN  between 100,000 and 1 million   \n",
      "\n",
      "   CodeEventConferences  CodeEventDjangoGirls         ...           \\\n",
      "0                   NaN                   NaN         ...            \n",
      "1                   NaN                   NaN         ...            \n",
      "2                   NaN                   NaN         ...            \n",
      "3                   NaN                   NaN         ...            \n",
      "4                   NaN                   NaN         ...            \n",
      "\n",
      "   YouTubeFCC  YouTubeFunFunFunction  YouTubeGoogleDev  YouTubeLearnCode  \\\n",
      "0         NaN                    NaN               NaN               NaN   \n",
      "1         1.0                    NaN               NaN               NaN   \n",
      "2         NaN                    NaN               NaN               1.0   \n",
      "3         1.0                    1.0               NaN               NaN   \n",
      "4         NaN                    NaN               NaN               NaN   \n",
      "\n",
      "   YouTubeLevelUpTuts  YouTubeMIT  YouTubeMozillaHacks YouTubeOther  \\\n",
      "0                 NaN         NaN                  NaN          NaN   \n",
      "1                 NaN         NaN                  NaN          NaN   \n",
      "2                 1.0         NaN                  NaN          NaN   \n",
      "3                 1.0         NaN                  NaN          NaN   \n",
      "4                 NaN         NaN                  NaN          NaN   \n",
      "\n",
      "   YouTubeSimplilearn  YouTubeTheNewBoston  \n",
      "0                 NaN                  NaN  \n",
      "1                 NaN                  NaN  \n",
      "2                 NaN                  NaN  \n",
      "3                 NaN                  NaN  \n",
      "4                 NaN                  NaN  \n",
      "\n",
      "[5 rows x 136 columns]\n"
     ]
    }
   ],
   "source": [
    "print(data.head())"
   ]
  },
  {
   "cell_type": "markdown",
   "metadata": {},
   "source": [
    "Using free data (cheaper!) available from https://github.com/freeCodeCamp/2017-new-coder-survey"
   ]
  },
  {
   "cell_type": "code",
   "execution_count": 23,
   "metadata": {
    "collapsed": false
   },
   "outputs": [
    {
     "data": {
      "text/plain": [
       "Full-Stack Web Developer                                                                                                                                                                                                                                                    11.770595\n",
       "  Front-End Web Developer                                                                                                                                                                                                                                                    6.435927\n",
       "  Data Scientist                                                                                                                                                                                                                                                             2.173913\n",
       "Back-End Web Developer                                                                                                                                                                                                                                                       2.030892\n",
       "  Mobile Developer                                                                                                                                                                                                                                                           1.673341\n",
       "Game Developer                                                                                                                                                                                                                                                               1.630435\n",
       "Information Security                                                                                                                                                                                                                                                         1.315789\n",
       "Full-Stack Web Developer,   Front-End Web Developer                                                                                                                                                                                                                          0.915332\n",
       "  Front-End Web Developer, Full-Stack Web Developer                                                                                                                                                                                                                          0.800915\n",
       "  Product Manager                                                                                                                                                                                                                                                            0.786613\n",
       "Data Engineer                                                                                                                                                                                                                                                                0.758009\n",
       "  User Experience Designer                                                                                                                                                                                                                                                   0.743707\n",
       "  User Experience Designer,   Front-End Web Developer                                                                                                                                                                                                                        0.614989\n",
       "  Front-End Web Developer, Back-End Web Developer, Full-Stack Web Developer                                                                                                                                                                                                  0.557780\n",
       "Back-End Web Developer, Full-Stack Web Developer,   Front-End Web Developer                                                                                                                                                                                                  0.514874\n",
       "Back-End Web Developer,   Front-End Web Developer, Full-Stack Web Developer                                                                                                                                                                                                  0.514874\n",
       "  DevOps / SysAdmin                                                                                                                                                                                                                                                          0.514874\n",
       "Full-Stack Web Developer,   Front-End Web Developer, Back-End Web Developer                                                                                                                                                                                                  0.443364\n",
       "  Front-End Web Developer, Full-Stack Web Developer, Back-End Web Developer                                                                                                                                                                                                  0.429062\n",
       "  Front-End Web Developer,   User Experience Designer                                                                                                                                                                                                                        0.414760\n",
       "Full-Stack Web Developer,   Mobile Developer                                                                                                                                                                                                                                 0.414760\n",
       "Back-End Web Developer, Full-Stack Web Developer                                                                                                                                                                                                                             0.386156\n",
       "Full-Stack Web Developer, Back-End Web Developer                                                                                                                                                                                                                             0.371854\n",
       "Back-End Web Developer,   Front-End Web Developer                                                                                                                                                                                                                            0.286041\n",
       "Data Engineer,   Data Scientist                                                                                                                                                                                                                                              0.271739\n",
       "Full-Stack Web Developer, Back-End Web Developer,   Front-End Web Developer                                                                                                                                                                                                  0.271739\n",
       "  Front-End Web Developer,   Mobile Developer                                                                                                                                                                                                                                0.257437\n",
       "Full-Stack Web Developer,   Data Scientist                                                                                                                                                                                                                                   0.243135\n",
       "  Mobile Developer, Game Developer                                                                                                                                                                                                                                           0.228833\n",
       "  Data Scientist, Data Engineer                                                                                                                                                                                                                                              0.228833\n",
       "                                                                                                                                                                                                                                                                              ...    \n",
       "Back-End Web Developer,   DevOps / SysAdmin, Full-Stack Web Developer,   Data Scientist                                                                                                                                                                                      0.014302\n",
       "  User Experience Designer, Full-Stack Web Developer,   Mobile Developer,   Front-End Web Developer, Back-End Web Developer                                                                                                                                                  0.014302\n",
       "  User Experience Designer, Back-End Web Developer,   Quality Assurance Engineer,   Front-End Web Developer, Game Developer,   DevOps / SysAdmin                                                                                                                             0.014302\n",
       "Game Developer,   Front-End Web Developer,   Data Scientist,   Mobile Developer                                                                                                                                                                                              0.014302\n",
       "Game Developer,   Product Manager, Full-Stack Web Developer,   Data Scientist                                                                                                                                                                                                0.014302\n",
       "Support Engineer or API Support                                                                                                                                                                                                                                              0.014302\n",
       "Full-Stack Web Developer,   Front-End Web Developer, Game Developer, Back-End Web Developer, Operating Systems, Compilers, etc...                                                                                                                                            0.014302\n",
       "  Quality Assurance Engineer,   Front-End Web Developer, Game Developer,   User Experience Designer, Full-Stack Web Developer,   Product Manager,   Data Scientist, Data Engineer,   DevOps / SysAdmin,   Mobile Developer, Back-End Web Developer, Information Security     0.014302\n",
       "Information Security,   Mobile Developer,   Front-End Web Developer, Full-Stack Web Developer, Game Developer                                                                                                                                                                0.014302\n",
       "  Mobile Developer, Full-Stack Web Developer,   User Experience Designer, Game Developer,   Front-End Web Developer, Back-End Web Developer                                                                                                                                  0.014302\n",
       "Data Engineer,   Data Scientist, Information Security, Back-End Web Developer,   Quality Assurance Engineer                                                                                                                                                                  0.014302\n",
       "Data Engineer,   DevOps / SysAdmin, Back-End Web Developer,   Data Scientist                                                                                                                                                                                                 0.014302\n",
       "  Mobile Developer,   Quality Assurance Engineer, Back-End Web Developer,   DevOps / SysAdmin,   Front-End Web Developer, Full-Stack Web Developer                                                                                                                           0.014302\n",
       "Full-Stack Web Developer, Back-End Web Developer,   Mobile Developer, Game Developer,   Front-End Web Developer                                                                                                                                                              0.014302\n",
       "  Mobile Developer, Full-Stack Web Developer,   User Experience Designer                                                                                                                                                                                                     0.014302\n",
       "Game Developer,   Mobile Developer,   Front-End Web Developer,   User Experience Designer, Full-Stack Web Developer                                                                                                                                                          0.014302\n",
       "Information Security, Game Developer, Back-End Web Developer,   Mobile Developer                                                                                                                                                                                             0.014302\n",
       "  DevOps / SysAdmin,   Mobile Developer, Information Security, Data Engineer,   Data Scientist, Back-End Web Developer                                                                                                                                                       0.014302\n",
       "  User Experience Designer,   Mobile Developer, Information Security, Game Developer, Full-Stack Web Developer                                                                                                                                                               0.014302\n",
       "  User Experience Designer, Game Developer, Back-End Web Developer,   Front-End Web Developer, Full-Stack Web Developer                                                                                                                                                      0.014302\n",
       "Data Engineer,   Front-End Web Developer,   Data Scientist, Back-End Web Developer, Full-Stack Web Developer,   User Experience Designer,   Mobile Developer                                                                                                                 0.014302\n",
       "  Mobile Developer,   User Experience Designer, Data Engineer, Back-End Web Developer,   Data Scientist,   Front-End Web Developer, Full-Stack Web Developer                                                                                                                 0.014302\n",
       "Game Developer, Data Engineer,   Data Scientist,   DevOps / SysAdmin, Information Security,   Product Manager                                                                                                                                                                0.014302\n",
       "  Data Scientist, Full-Stack Web Developer,   Quality Assurance Engineer,   Mobile Developer, Back-End Web Developer,   Front-End Web Developer                                                                                                                              0.014302\n",
       "Back-End Web Developer,   Mobile Developer, Full-Stack Web Developer,   Front-End Web Developer,   Product Manager,   User Experience Designer                                                                                                                               0.014302\n",
       "Game Developer, Information Security,   Front-End Web Developer,   Mobile Developer, Full-Stack Web Developer,   Quality Assurance Engineer, Data Engineer                                                                                                                   0.014302\n",
       "Full-Stack Web Developer,   User Experience Designer,   Mobile Developer,   Data Scientist,   Front-End Web Developer, Back-End Web Developer                                                                                                                                0.014302\n",
       "Back-End Web Developer,   Quality Assurance Engineer, Full-Stack Web Developer,   Product Manager,   User Experience Designer,   Mobile Developer,   Front-End Web Developer                                                                                                 0.014302\n",
       "  User Experience Designer, Full-Stack Web Developer,   Data Scientist, Back-End Web Developer,   Front-End Web Developer                                                                                                                                                    0.014302\n",
       "Back-End Web Developer,   Mobile Developer,   Quality Assurance Engineer,   User Experience Designer,   Front-End Web Developer, Full-Stack Web Developer,   Product Manager                                                                                                 0.014302\n",
       "Name: JobRoleInterest, Length: 3213, dtype: float64"
      ]
     },
     "execution_count": 23,
     "metadata": {},
     "output_type": "execute_result"
    }
   ],
   "source": [
    "data['JobRoleInterest'].value_counts(normalize=True)*100"
   ]
  },
  {
   "cell_type": "markdown",
   "metadata": {},
   "source": [
    "Is this population relevant? Yes, since we focus mostly on web development, which many people are interested in."
   ]
  },
  {
   "cell_type": "markdown",
   "metadata": {},
   "source": [
    "## Analysis\n",
    "Now that we know the data is useful, let's look at best markets, using the location of each survey participant indicated in the CountryLive column."
   ]
  },
  {
   "cell_type": "code",
   "execution_count": 24,
   "metadata": {
    "collapsed": false,
    "scrolled": true
   },
   "outputs": [
    {
     "data": {
      "text/plain": [
       "United States of America         3125\n",
       "India                             528\n",
       "United Kingdom                    315\n",
       "Canada                            260\n",
       "Poland                            131\n",
       "Brazil                            129\n",
       "Germany                           125\n",
       "Australia                         112\n",
       "Russia                            102\n",
       "Ukraine                            89\n",
       "Nigeria                            84\n",
       "Spain                              77\n",
       "France                             75\n",
       "Romania                            71\n",
       "Netherlands (Holland, Europe)      65\n",
       "Italy                              62\n",
       "Serbia                             52\n",
       "Philippines                        52\n",
       "Greece                             46\n",
       "Ireland                            43\n",
       "South Africa                       39\n",
       "Mexico                             37\n",
       "Turkey                             36\n",
       "Hungary                            34\n",
       "Singapore                          34\n",
       "New Zealand                        33\n",
       "Croatia                            32\n",
       "Argentina                          32\n",
       "Sweden                             31\n",
       "Norway                             31\n",
       "                                 ... \n",
       "Rwanda                              1\n",
       "Aruba                               1\n",
       "Panama                              1\n",
       "Botswana                            1\n",
       "Anguilla                            1\n",
       "Cameroon                            1\n",
       "Qatar                               1\n",
       "Cuba                                1\n",
       "Angola                              1\n",
       "Somalia                             1\n",
       "Turkmenistan                        1\n",
       "Sudan                               1\n",
       "Vanuatu                             1\n",
       "Mozambique                          1\n",
       "Cayman Islands                      1\n",
       "Bolivia                             1\n",
       "Gambia                              1\n",
       "Kyrgyzstan                          1\n",
       "Trinidad & Tobago                   1\n",
       "Jordan                              1\n",
       "Guatemala                           1\n",
       "Channel Islands                     1\n",
       "Nambia                              1\n",
       "Yemen                               1\n",
       "Nicaragua                           1\n",
       "Guadeloupe                          1\n",
       "Papua New Guinea                    1\n",
       "Myanmar                             1\n",
       "Liberia                             1\n",
       "Samoa                               1\n",
       "Name: CountryLive, Length: 137, dtype: int64"
      ]
     },
     "execution_count": 24,
     "metadata": {},
     "output_type": "execute_result"
    }
   ],
   "source": [
    "data = data[data['JobRoleInterest'].notnull()]\n",
    "data['CountryLive'].value_counts()"
   ]
  },
  {
   "cell_type": "code",
   "execution_count": 25,
   "metadata": {
    "collapsed": false,
    "scrolled": true
   },
   "outputs": [
    {
     "data": {
      "text/plain": [
       "United States of America         45.700497\n",
       "India                             7.721556\n",
       "United Kingdom                    4.606610\n",
       "Canada                            3.802281\n",
       "Poland                            1.915765\n",
       "Brazil                            1.886517\n",
       "Germany                           1.828020\n",
       "Australia                         1.637906\n",
       "Russia                            1.491664\n",
       "Ukraine                           1.301550\n",
       "Nigeria                           1.228429\n",
       "Spain                             1.126060\n",
       "France                            1.096812\n",
       "Romania                           1.038315\n",
       "Netherlands (Holland, Europe)     0.950570\n",
       "Italy                             0.906698\n",
       "Serbia                            0.760456\n",
       "Philippines                       0.760456\n",
       "Greece                            0.672711\n",
       "Ireland                           0.628839\n",
       "South Africa                      0.570342\n",
       "Mexico                            0.541094\n",
       "Turkey                            0.526470\n",
       "Hungary                           0.497221\n",
       "Singapore                         0.497221\n",
       "New Zealand                       0.482597\n",
       "Croatia                           0.467973\n",
       "Argentina                         0.467973\n",
       "Sweden                            0.453349\n",
       "Norway                            0.453349\n",
       "                                   ...    \n",
       "Rwanda                            0.014624\n",
       "Aruba                             0.014624\n",
       "Panama                            0.014624\n",
       "Botswana                          0.014624\n",
       "Anguilla                          0.014624\n",
       "Cameroon                          0.014624\n",
       "Qatar                             0.014624\n",
       "Cuba                              0.014624\n",
       "Angola                            0.014624\n",
       "Somalia                           0.014624\n",
       "Turkmenistan                      0.014624\n",
       "Sudan                             0.014624\n",
       "Vanuatu                           0.014624\n",
       "Mozambique                        0.014624\n",
       "Cayman Islands                    0.014624\n",
       "Bolivia                           0.014624\n",
       "Gambia                            0.014624\n",
       "Kyrgyzstan                        0.014624\n",
       "Trinidad & Tobago                 0.014624\n",
       "Jordan                            0.014624\n",
       "Guatemala                         0.014624\n",
       "Channel Islands                   0.014624\n",
       "Nambia                            0.014624\n",
       "Yemen                             0.014624\n",
       "Nicaragua                         0.014624\n",
       "Guadeloupe                        0.014624\n",
       "Papua New Guinea                  0.014624\n",
       "Myanmar                           0.014624\n",
       "Liberia                           0.014624\n",
       "Samoa                             0.014624\n",
       "Name: CountryLive, Length: 137, dtype: float64"
      ]
     },
     "execution_count": 25,
     "metadata": {},
     "output_type": "execute_result"
    }
   ],
   "source": [
    "data['CountryLive'].value_counts(normalize = True)*100"
   ]
  },
  {
   "cell_type": "markdown",
   "metadata": {},
   "source": [
    "Clearly, the USA are a must-use market. India is in second place, but it may be wise to conduct further analysis to determine the potential there in terms of purchase power.\n",
    "## Analysis of money spent\n",
    "Let's calculate how much money they spend per month, and remove rows for freeloaders."
   ]
  },
  {
   "cell_type": "code",
   "execution_count": 26,
   "metadata": {
    "collapsed": false
   },
   "outputs": [
    {
     "data": {
      "text/plain": [
       "359"
      ]
     },
     "execution_count": 26,
     "metadata": {},
     "output_type": "execute_result"
    }
   ],
   "source": [
    "data['MonthsProgramming'].isnull().sum()"
   ]
  },
  {
   "cell_type": "code",
   "execution_count": 31,
   "metadata": {
    "collapsed": false
   },
   "outputs": [
    {
     "data": {
      "text/plain": [
       "0"
      ]
     },
     "execution_count": 31,
     "metadata": {},
     "output_type": "execute_result"
    }
   ],
   "source": [
    "data[data['MonthsProgramming'] ==0] = 1\n",
    "data['MonthsProgramming'].isnull().sum()"
   ]
  },
  {
   "cell_type": "code",
   "execution_count": null,
   "metadata": {
    "collapsed": true
   },
   "outputs": [],
   "source": [
    "data['money_per_month'] = data['MoneyForLearning'] / data['MonthsProgramming']"
   ]
  },
  {
   "cell_type": "code",
   "execution_count": 28,
   "metadata": {
    "collapsed": false
   },
   "outputs": [
    {
     "data": {
      "text/plain": [
       "669"
      ]
     },
     "execution_count": 28,
     "metadata": {},
     "output_type": "execute_result"
    }
   ],
   "source": [
    "data['money_per_month'].isnull().sum()"
   ]
  },
  {
   "cell_type": "code",
   "execution_count": 29,
   "metadata": {
    "collapsed": false
   },
   "outputs": [
    {
     "data": {
      "text/plain": [
       "0"
      ]
     },
     "execution_count": 29,
     "metadata": {},
     "output_type": "execute_result"
    }
   ],
   "source": [
    "data = data[data['money_per_month'].notnull()]\n",
    "data['money_per_month'].isnull().sum()"
   ]
  },
  {
   "cell_type": "code",
   "execution_count": 30,
   "metadata": {
    "collapsed": false,
    "scrolled": true
   },
   "outputs": [
    {
     "data": {
      "text/plain": [
       "CountryLive\n",
       "United States of America    232.771574\n",
       "India                       136.347477\n",
       "United Kingdom               46.904110\n",
       "Canada                      107.415450\n",
       "Name: money_per_month, dtype: float64"
      ]
     },
     "execution_count": 30,
     "metadata": {},
     "output_type": "execute_result"
    }
   ],
   "source": [
    "data = data[data['CountryLive'].notnull()]\n",
    "data.groupby('CountryLive').mean()['money_per_month'][['United States of America',\n",
    "                            'India', 'United Kingdom',\n",
    "                            'Canada']]"
   ]
  },
  {
   "cell_type": "markdown",
   "metadata": {},
   "source": [
    "Counter intuitively, Indian is more willing to spend money than the UK.\n",
    "## Looking for outliers"
   ]
  },
  {
   "cell_type": "code",
   "execution_count": 45,
   "metadata": {
    "collapsed": false
   },
   "outputs": [
    {
     "name": "stderr",
     "output_type": "stream",
     "text": [
      "/dataquest/system/env/python3/lib/python3.4/site-packages/seaborn/categorical.py:454: FutureWarning:\n",
      "\n",
      "remove_na is deprecated and is a private function. Do not use.\n",
      "\n"
     ]
    },
    {
     "data": {
      "text/plain": [
       "<matplotlib.axes._subplots.AxesSubplot at 0x7f61c88651d0>"
      ]
     },
     "execution_count": 45,
     "metadata": {},
     "output_type": "execute_result"
    },
    {
     "data": {
      "image/png": "[encoded data removed]",
      "text/plain": [
       "<matplotlib.figure.Figure at 0x7f61e4764780>"
      ]
     },
     "metadata": {},
     "output_type": "display_data"
    }
   ],
   "source": [
    "list_of_countries = ['United States of America',\n",
    "                            'India', 'United Kingdom',\n",
    "                            'Canada']\n",
    "data_4_countries = data[data['CountryLive'].isin(list_of_countries)]\n",
    "import seaborn as sns\n",
    "sns.boxplot(y = 'money_per_month', x = 'CountryLive',\n",
    "            data = data_4_countries)\n"
   ]
  },
  {
   "cell_type": "markdown",
   "metadata": {},
   "source": [
    "Clearly the USa has some extreme outliers. Let's remove them"
   ]
  },
  {
   "cell_type": "code",
   "execution_count": 47,
   "metadata": {
    "collapsed": false,
    "scrolled": true
   },
   "outputs": [
    {
     "name": "stderr",
     "output_type": "stream",
     "text": [
      "/dataquest/system/env/python3/lib/python3.4/site-packages/seaborn/categorical.py:454: FutureWarning:\n",
      "\n",
      "remove_na is deprecated and is a private function. Do not use.\n",
      "\n"
     ]
    },
    {
     "data": {
      "text/plain": [
       "<matplotlib.axes._subplots.AxesSubplot at 0x7f61c88025c0>"
      ]
     },
     "execution_count": 47,
     "metadata": {},
     "output_type": "execute_result"
    },
    {
     "data": {
      "image/png": "[encoded data removed]",
      "text/plain": [
       "<matplotlib.figure.Figure at 0x7f61e46f1710>"
      ]
     },
     "metadata": {},
     "output_type": "display_data"
    }
   ],
   "source": [
    "data_4_countries = data_4_countries[data_4_countries['money_per_month'] <40000]\n",
    "sns.boxplot(y = 'money_per_month', x = 'CountryLive',\n",
    "            data = data_4_countries)"
   ]
  },
  {
   "cell_type": "code",
   "execution_count": 48,
   "metadata": {
    "collapsed": false
   },
   "outputs": [
    {
     "data": {
      "text/plain": [
       "CountryLive\n",
       "Canada                      107.415450\n",
       "India                       136.347477\n",
       "United Kingdom               46.904110\n",
       "United States of America    186.641069\n",
       "Name: money_per_month, dtype: float64"
      ]
     },
     "execution_count": 48,
     "metadata": {},
     "output_type": "execute_result"
    }
   ],
   "source": [
    "data_4_countries.groupby('CountryLive').mean()['money_per_month']"
   ]
  }
 ],
 "metadata": {
  "kernelspec": {
   "display_name": "Python 3",
   "language": "python",
   "name": "python3"
  },
  "language_info": {
   "codemirror_mode": {
    "name": "ipython",
    "version": 3
   },
   "file_extension": ".py",
   "mimetype": "text/x-python",
   "name": "python",
   "nbconvert_exporter": "python",
   "pygments_lexer": "ipython3",
   "version": "3.4.3"
  }
 },
 "nbformat": 4,
 "nbformat_minor": 2
}
