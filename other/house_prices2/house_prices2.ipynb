{
 "cells": [
  {
   "cell_type": "markdown",
   "metadata": {},
   "source": [
    "# Analysis using sgd instead of all at once (memory limit)"
   ]
  },
  {
   "cell_type": "code",
   "execution_count": null,
   "metadata": {},
   "outputs": [],
   "source": [
    "import pandas as pd\n",
    "import numpy as np\n",
    "from sklearn.preprocessing import StandardScaler\n",
    "from sklearn.linear_model import SGDRegressor\n",
    "\n",
    "chunk_iter = pd.read_csv('AmesHousing.tsv', delimiter = '\\t', chunksize=100)\n",
    "features = ['Overall Qual','Gr Liv Area', 'Garage Cars', 'Total Bsmt SF', 'Garage Area', '1st Flr SF']\n",
    "target='SalePrice'\n",
    "every_col_useful = features + [target]\n",
    "fitter = SGDRegressor(loss=\"squared_loss\", penalty=None)\n",
    "\n",
    "\n",
    "for chunk in chunk_iter:\n",
    "    chunk = chunk[every_col_useful]\n",
    "    chunk = chunk.dropna()\n",
    "    X = chunk[features].values\n",
    "    y = chunk[target].tolist()\n",
    "    scaler = StandardScaler()\n",
    "\n",
    "    scaler.fit(X)  # Train the transformer object so it knows what means and variances to use\n",
    "    X_transformed = scaler.transform(X)  # transform your training data in preparation for some badass ML algorithm\n",
    "    scaler.fit(np.array(y).reshape(-1, 1))\n",
    "    y_transformed = scaler.transform(np.array(y).reshape(-1, 1))\n",
    "    \n",
    "    fitter.n_iter = np.ceil(10**6 / len(y))\n",
    "    fitter.partial_fit(X_transformed, y_transformed)\n",
    "    print(fitter.score(X_transformed,y_transformed))\n",
    "    \n",
    "    \n",
    "# %matplotlib inline\n",
    "# data['pred'] = lm.predict(X)\n",
    "# data['pred'].plot()\n",
    "# y.plot()"
   ]
  },
  {
   "cell_type": "code",
   "execution_count": null,
   "metadata": {},
   "outputs": [],
   "source": [
    "all_data = pd.read_csv('AmesHousing.tsv', delimiter = '\\t')\n",
    "all_data = all_data[every_col_useful]\n",
    "all_data = all_data.dropna()\n",
    "\n",
    "y = all_data[target].tolist()\n",
    "scaler = StandardScaler()\n",
    "scaler.fit(np.array(y).reshape(-1, 1))\n",
    "y_transformed = scaler.transform(np.array(y).reshape(-1, 1))\n",
    "    \n",
    "print(fitter.coef_)\n",
    "print(all_data[every_col_useful].iloc[0])\n",
    "print(y_transformed[0])\n",
    "print(all_data[features].iloc[0]*fitter.coef_)"
   ]
  },
  {
   "cell_type": "code",
   "execution_count": null,
   "metadata": {},
   "outputs": [],
   "source": [
    "all_data = pd.read_csv('AmesHousing.tsv', delimiter = '\\t')\n",
    "all_data = all_data[every_col_useful]\n",
    "all_data = all_data.dropna()\n",
    "all_data['pred_price_batch'] \n",
    "inverse_transform\n",
    "predictions = fitter.predict(all_data[features])\n",
    "scaler.fit(np.array(predictions).reshape(-1, 1))\n",
    "predictions = scaler.transform(np.array(y).reshape(-1, 1))\n",
    "all_data['SalePrice'].plot()\n",
    "all_data['pred_price_batch']"
   ]
  },
  {
   "cell_type": "code",
   "execution_count": null,
   "metadata": {},
   "outputs": [],
   "source": [
    "import matplotlib.pyplot as plt \n",
    "features = ['Gr Liv Area']\n",
    "target='SalePrice'\n",
    "every_col_useful = features + [target]\n",
    "\n",
    "fitter = SGDRegressor(loss=\"squared_loss\", penalty=None)\n",
    "\n",
    "all_data = pd.read_csv('AmesHousing.tsv', delimiter = '\\t')\n",
    "all_data = all_data[every_col_useful]\n",
    "all_data = all_data.dropna()\n",
    "all_data.plot.scatter(x='Gr Liv Area',y='SalePrice')\n",
    "\n",
    "X = all_data.as_matrix(columns=features)\n",
    "y = all_data[target].tolist()\n",
    "\n",
    "\n",
    "from sklearn.preprocessing import StandardScaler\n",
    "scaler = StandardScaler()\n",
    "\n",
    "scaler.fit(X)  # Train the transformer object so it knows what means and variances to use\n",
    "X_transformed = scaler.transform(X)  # transform your training data in preparation for some badass ML algorithm\n",
    "y_transformed = scaler.transform(np.array(y).reshape(-1, 1))\n",
    "fitter.n_iter = np.ceil(10**6 / len(y))\n",
    "fitter.fit(X_transformed, y_transformed)\n",
    "\n",
    "xs = list(range(0, 5000, 1))\n",
    "xs = np.array(xs).reshape(-1, 1)\n",
    "\n",
    "new_ys = fitter.predict(xs)\n",
    "plt.plot(xs, new_ys, color=\"red\")"
   ]
  },
  {
   "cell_type": "code",
   "execution_count": null,
   "metadata": {},
   "outputs": [],
   "source": [
    "end = pd.DataFrame()\n",
    "end['pred_batch'] = lm.predict(all_data[features])\n",
    "end['pred_reg'] = lm2.predict(all_data[features])\n",
    "end.plot()"
   ]
  }
 ],
 "metadata": {
  "kernelspec": {
   "display_name": "Python 3",
   "language": "python",
   "name": "python3"
  },
  "language_info": {
   "codemirror_mode": {
    "name": "ipython",
    "version": 3
   },
   "file_extension": ".py",
   "mimetype": "text/x-python",
   "name": "python",
   "nbconvert_exporter": "python",
   "pygments_lexer": "ipython3",
   "version": "3.7.3"
  }
 },
 "nbformat": 4,
 "nbformat_minor": 2
}
