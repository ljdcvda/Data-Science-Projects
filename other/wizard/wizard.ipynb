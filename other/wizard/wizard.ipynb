{
 "cells": [
  {
   "cell_type": "markdown",
   "metadata": {},
   "source": [
    "# Harry Potter Stretches His Legs\n",
    "A [scathing review](https://www.latimes.com/archives/la-xpm-2003-sep-19-oe-bloom19-story.html) of Harry Potter and Stephen King by Harold Bloom has given rise to a popular copy pasted [meme](https://www.reddit.com/r/copypasta/comments/5rissv/harry_potter_plebeian_pasta/), in which the following is claimed:\n",
    "\n",
    ">I went to the Yale bookstore and bought and read a copy of “Harry Potter and the Sorcerer’s Stone.” I suffered a great deal in the process. The writing was dreadful; the book was terrible. As I read, I noticed that every time a character went for a walk, **the author wrote instead that the character “stretched his legs.”** I began marking on the back of an envelope every time that phrase was repeated. I stopped only after I had marked the envelope **several dozen times.**\n",
    "\n",
    "In fact, Harold Bloom misquotes his earlier [review](https://www.wsj.com/articles/SB963270836801555352) - he had not counted dozen of occurences of the phrase \"stretches his legs\", but of cliches akin to it. Regardless, let's investigate this claim: how many times does the sentence really appear in the Harry Potter books?\n",
    "\n",
    "## Reading Harry Potter\n",
    "Let's not inflect more pain on Harold Bloom and let Python handle the reading. We legally purchased the books as .epub files, which where uncompressed into folders containing xhtml files for each chapters. We can read the content of the books by parsing these xhtml files. We look for the 'p' tag, split the text roughly by sentences with period delimiters, and replace a few formatting characters."
   ]
  },
  {
   "cell_type": "code",
   "execution_count": 369,
   "metadata": {
    "scrolled": true
   },
   "outputs": [
    {
     "name": "stdout",
     "output_type": "stream",
     "text": [
      "Reading book hp1...\n",
      "   18 chapters read, total 6044 sentences.\n",
      "Reading book hp2...\n",
      "   15 chapters read, total 6425 sentences.\n",
      "Reading book hp3...\n",
      "   23 chapters read, total 8054 sentences.\n",
      "Reading book hp4...\n",
      "   38 chapters read, total 13382 sentences.\n",
      "Reading book hp5...\n",
      "   37 chapters read, total 16553 sentences.\n",
      "Reading book hp6...\n",
      "   31 chapters read, total 11521 sentences.\n",
      "Reading book hp7...\n",
      "   36 chapters read, total 12798 sentences.\n"
     ]
    }
   ],
   "source": [
    "from os import listdir\n",
    "from os.path import isdir, join\n",
    "from bs4 import BeautifulSoup\n",
    "from unicodedata import normalize\n",
    "\n",
    "# the folder names for each book\n",
    "book_folders = ['hp{}'.format(n) for n in range(1,8)]\n",
    "\n",
    "# a list of lists to contain the paragraphs in each book and chapter\n",
    "all_text = []\n",
    "\n",
    "# loop through each book folder\n",
    "for book in book_folders:\n",
    "    print('Reading book {}...'.format(book))\n",
    "    book_sentences = []\n",
    "    chapter_count = 0\n",
    "#   loop through each chapter\n",
    "    for chapter in listdir(book):\n",
    "        if chapter.endswith('.xhtml'):\n",
    "            with open(join(book,chapter), encoding='utf-8') as f:\n",
    "                chapter_count+=1\n",
    "                content = f.read()\n",
    "                # parse the content using BeautifulSoup\n",
    "                parsed_content = BeautifulSoup(content, 'html.parser')\n",
    "                # clean up each sentence\n",
    "                for paragraph in parsed_content.find_all('p'):\n",
    "                    paragraph_text=paragraph.getText(strip=True)\n",
    "                    paragraph_sentences = paragraph_text.replace('\\xad', '').replace('\\u200b', '').split('. ')\n",
    "                    for sentence in paragraph_sentences:\n",
    "                        if len(sentence.strip()) >1:\n",
    "                            book_sentences.append(sentence)\n",
    "    print('   {} chapters read, total {} sentences.'.format(chapter_count, len(book_sentences)))\n",
    "    all_text.append(book_sentences)"
   ]
  },
  {
   "cell_type": "markdown",
   "metadata": {},
   "source": [
    "Let's make sure it all checks out by taking a few random sentences:"
   ]
  },
  {
   "cell_type": "code",
   "execution_count": 374,
   "metadata": {},
   "outputs": [
    {
     "name": "stdout",
     "output_type": "stream",
     "text": [
      "“Search me.” \n",
      "\n",
      "And at long last, Harry believed him \n",
      "\n",
      "“Here,” said Harry, and they placed him in a niche where a suit of armor had stood earlier \n",
      "\n",
      "“What’s that thing — hanging underneath?” said Ron, a slight quiver in his voice. \n",
      "\n",
      "Bagman didn't seem in any particular rush to spill the beans, though \n",
      "\n"
     ]
    }
   ],
   "source": [
    "from random import sample\n",
    "for n in range(5):\n",
    "    random_book = sample(all_text,1)[0]\n",
    "    print(sample(random_book,1)[0],'\\n')"
   ]
  },
  {
   "cell_type": "markdown",
   "metadata": {},
   "source": [
    "## Counting up\n",
    "We are now ready to do the counting. Since there are many variations of the expression \"stretching legs\", we'll just look for occurences where both \"stretch\" and \"leg\" appear. This should take care of all possibilities."
   ]
  },
  {
   "cell_type": "code",
   "execution_count": 384,
   "metadata": {
    "scrolled": true
   },
   "outputs": [
    {
     "name": "stdout",
     "output_type": "stream",
     "text": [
      "------In book 1 ------\n",
      "He was in a very good mood until lunchtime, when he thought he’d stretch his legs and walk across the road to buy himself a bun from the bakery. \n",
      "\n",
      "------In book 2 ------\n",
      "He’d probably thought it was a shame that the monster had been cooped up so long, and thought it deserved the chance to stretch its many legs; Harry could just imagine the thirteen-year-old Hagrid trying to fit a leash and collar on it \n",
      "\n",
      "------In book 3 ------\n",
      "No occurences \n",
      "\n",
      "------In book 4 ------\n",
      "It stretched out its legs rigidly, then did a back flip, breaking the thread and landing on the desk, where it began to cartwheel in circles \n",
      "\n",
      "Four fully grown, enormous, vicious-looking dragons were rearing onto their hind legs inside an enclosure fenced with thick planks of wood, roaring and snorting - torrents of fire were shooting into the dark sky from their open, fanged mouths, fifty feet above the ground on their outstretched necks \n",
      "\n",
      "Harry watched the dragon nearest to them teeter dangerously on its back legs; its jaws stretched wide in a silent howl; its nostrils were suddenly devoid of flame, though still smoking - then, very slowly, it fell \n",
      "\n",
      "“It's all right,” said Moody, sitting down and stretching out his wooden leg with a groan \n",
      "\n",
      "He moved over to his desk, sat down, stretched out his wooden leg with a slight groan, and pulled out his hip flask. \n",
      "\n",
      "She got up, stretched her front legs, and then moved aside for him to pass. \n",
      "\n",
      "------In book 5 ------\n",
      "'Ginnys had a word with us about you,' said Fred, stretching out his legs on the table in front of them and causing several booklets on careers with the Ministry of Magic to slide off on to the floor \n",
      "\n",
      "You think you've had it bad, at least you've been able to get out and about, stretch your legs, get into a few fights… I've been stuck inside for a month.' \n",
      "\n",
      "------In book 6 ------\n",
      "A boy was sitting on top of the gray blankets, his legs stretched out in front of him, holding a book. \n",
      "\n",
      "------In book 7 ------\n",
      "No occurences \n",
      "\n"
     ]
    }
   ],
   "source": [
    "i=1\n",
    "occurences = []\n",
    "for book in all_text:\n",
    "    print('------In book', i,'------')\n",
    "    i+=1\n",
    "    stretches_in_book = 0\n",
    "    for sentence in book:\n",
    "        lowered_sentence = sentence.lower()\n",
    "        if 'stretch' in lowered_sentence and 'leg' in lowered_sentence:\n",
    "            print(sentence, '\\n')\n",
    "            stretches_in_book+=1\n",
    "            occurences.append(sentence)\n",
    "    if stretches_in_book == 0:\n",
    "        print('No occurences \\n')"
   ]
  },
  {
   "cell_type": "markdown",
   "metadata": {},
   "source": [
    "## Assessing the results\n",
    ">He was in a very good mood until lunchtime, when he thought he’d **stretch his legs** and walk across the road to buy himself a bun from the bakery. \n",
    "\n",
    "This is a valid useage of the expression. +1 \n",
    "\n",
    ">He’d probably thought it was a shame that the monster had been cooped up so long, and thought it deserved the chance to **stretch its many legs**; Harry could just imagine the thirteen-year-old Hagrid trying to fit a leash and collar on it \n",
    "\n",
    "Another good one. +1\n",
    "\n",
    ">It **stretched out its legs** rigidly, then did a back flip, breaking the thread and landing on the desk, where it began to cartwheel in circles \n",
    "\n",
    "Not sure if this counts as the expression for taking a walk!\n",
    "\n",
    ">Four fully grown, enormous, vicious-looking dragons were rearing onto their hind **leg**s inside an enclosure fenced with thick planks of wood, roaring and snorting - torrents of fire were shooting into the dark sky from their open, fanged mouths, fifty feet above the ground on their out**stretch**ed necks \n",
    "\n",
    "This one definitely doesn't count.\n",
    "\n",
    ">Harry watched the dragon nearest to them teeter dangerously on its back **leg**s; its jaws **stretch**ed wide in a silent howl; its nostrils were suddenly devoid of flame, though still smoking - then, very slowly, it fell \n",
    "\n",
    "Neither does this one.\n",
    "\n",
    ">“It's all right,” said Moody, sitting down and **stretching out his wooden leg** with a groan \n",
    "\n",
    ">He moved over to his desk, sat down, **stretched out his wooden leg** with a slight groan, and pulled out his hip flask. \n",
    "\n",
    ">She got up, **stretched her front legs**, and then moved aside for him to pass.\n",
    "\n",
    ">'Ginnys had a word with us about you,' said Fred, **stretching out his legs** on the table in front of them and causing several booklets on careers with the Ministry of Magic to slide off on to the floor \n",
    "\n",
    "Here again, the words are used not as an expression, but in the literal sense.\n",
    "\n",
    ">You think you've had it bad, at least you've been able to get out and about, **stretch your legs**, get into a few fights… I've been stuck inside for a month.'\n",
    "\n",
    "Finaly, another one. +1\n",
    "\n",
    ">A boy was sitting on top of the gray blankets, his **legs stretched out** in front of him, holding a book. \n",
    "\n",
    "Another literal use.\n",
    "\n",
    "## Final results\n",
    "**Total Occurences = 11**\n",
    "\n",
    "**Actual Occurences of the expression = 4**\n",
    "\n",
    "## Conclusion\n",
    "This joke is vastly inaccurate. Well done Slytherin, however..."
   ]
  }
 ],
 "metadata": {
  "kernelspec": {
   "display_name": "Python 3",
   "language": "python",
   "name": "python3"
  },
  "language_info": {
   "codemirror_mode": {
    "name": "ipython",
    "version": 3
   },
   "file_extension": ".py",
   "mimetype": "text/x-python",
   "name": "python",
   "nbconvert_exporter": "python",
   "pygments_lexer": "ipython3",
   "version": "3.7.3"
  }
 },
 "nbformat": 4,
 "nbformat_minor": 2
}
