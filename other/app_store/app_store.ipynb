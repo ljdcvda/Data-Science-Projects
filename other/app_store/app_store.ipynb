{
 "cells": [
  {
   "cell_type": "markdown",
   "metadata": {},
   "source": [
    "First Dataquest Guided Project\n",
    "\n",
    "App data analysis"
   ]
  },
  {
   "cell_type": "code",
   "execution_count": 6,
   "metadata": {
    "collapsed": false
   },
   "outputs": [],
   "source": [
    "from csv import reader\n",
    "apple_data = open('AppleStore.csv')\n",
    "apple_data= list(reader(apple_data))\n",
    "google_data= open('googleplaystore.csv')\n",
    "google_data= list(reader(google_data))"
   ]
  },
  {
   "cell_type": "code",
   "execution_count": 7,
   "metadata": {
    "collapsed": false
   },
   "outputs": [
    {
     "name": "stdout",
     "output_type": "stream",
     "text": [
      "['284882215', 'Facebook', '389879808', 'USD', '0.0', '2974676', '212', '3.5', '3.5', '95.0', '4+', 'Social Networking', '37', '1', '29', '1']\n",
      "\n",
      "\n",
      "['389801252', 'Instagram', '113954816', 'USD', '0.0', '2161558', '1289', '4.5', '4.0', '10.23', '12+', 'Photo & Video', '37', '0', '29', '1']\n",
      "\n",
      "\n",
      "['529479190', 'Clash of Clans', '116476928', 'USD', '0.0', '2130805', '579', '4.5', '4.5', '9.24.12', '9+', 'Games', '38', '5', '18', '1']\n",
      "\n",
      "\n",
      "Number of rows: 7197\n",
      "Number of columns: 16\n",
      "\n",
      "\n",
      "['Photo Editor & Candy Camera & Grid & ScrapBook', 'ART_AND_DESIGN', '4.1', '159', '19M', '10,000+', 'Free', '0', 'Everyone', 'Art & Design', 'January 7, 2018', '1.0.0', '4.0.3 and up']\n",
      "\n",
      "\n",
      "['Coloring book moana', 'ART_AND_DESIGN', '3.9', '967', '14M', '500,000+', 'Free', '0', 'Everyone', 'Art & Design;Pretend Play', 'January 15, 2018', '2.0.0', '4.0.3 and up']\n",
      "\n",
      "\n",
      "['U Launcher Lite – FREE Live Cool Themes, Hide Apps', 'ART_AND_DESIGN', '4.7', '87510', '8.7M', '5,000,000+', 'Free', '0', 'Everyone', 'Art & Design', 'August 1, 2018', '1.2.4', '4.0.3 and up']\n",
      "\n",
      "\n",
      "Number of rows: 10841\n",
      "Number of columns: 13\n",
      "\n",
      "\n"
     ]
    }
   ],
   "source": [
    "def explore_data(dataset, start, end, rows_and_columns=False):\n",
    "    dataset_slice = dataset[start:end]    \n",
    "    for row in dataset_slice:\n",
    "        print(row)\n",
    "        print('\\n') # adds a new (empty) line after each row\n",
    "\n",
    "    if rows_and_columns:\n",
    "        print('Number of rows:', len(dataset))\n",
    "        print('Number of columns:', len(dataset[0]))\n",
    "        print('\\n')\n",
    "     \n",
    "explore_data(apple_data[1:], 0,3, True)\n",
    "explore_data(google_data[1:], 0,3, True)"
   ]
  },
  {
   "cell_type": "markdown",
   "metadata": {},
   "source": [
    "Google data has a bad row, which is deleted:"
   ]
  },
  {
   "cell_type": "code",
   "execution_count": 8,
   "metadata": {
    "collapsed": false
   },
   "outputs": [
    {
     "name": "stdout",
     "output_type": "stream",
     "text": [
      "['Life Made WI-Fi Touchscreen Photo Frame', '1.9', '19', '3.0M', '1,000+', 'Free', '0', 'Everyone', '', 'February 11, 2018', '1.0.19', '4.0 and up']\n"
     ]
    }
   ],
   "source": [
    "print(google_data[10473])"
   ]
  },
  {
   "cell_type": "code",
   "execution_count": 10,
   "metadata": {
    "collapsed": false
   },
   "outputs": [],
   "source": [
    "del google_data[10473]"
   ]
  },
  {
   "cell_type": "markdown",
   "metadata": {},
   "source": [
    "Google data has duplicate rows, as can be seen:"
   ]
  },
  {
   "cell_type": "code",
   "execution_count": 13,
   "metadata": {
    "collapsed": false
   },
   "outputs": [
    {
     "name": "stdout",
     "output_type": "stream",
     "text": [
      "Number of duplicates:  1181\n",
      "Duplicate example: \n",
      "['Quick PDF Scanner + OCR FREE', 'BUSINESS', '4.2', '80805', 'Varies with device', '5,000,000+', 'Free', '0', 'Everyone', 'Business', 'February 26, 2018', 'Varies with device', '4.0.3 and up']\n",
      "['Quick PDF Scanner + OCR FREE', 'BUSINESS', '4.2', '80805', 'Varies with device', '5,000,000+', 'Free', '0', 'Everyone', 'Business', 'February 26, 2018', 'Varies with device', '4.0.3 and up']\n",
      "['Quick PDF Scanner + OCR FREE', 'BUSINESS', '4.2', '80804', 'Varies with device', '5,000,000+', 'Free', '0', 'Everyone', 'Business', 'February 26, 2018', 'Varies with device', '4.0.3 and up']\n"
     ]
    }
   ],
   "source": [
    "duplicate_apps=[]\n",
    "unique_apps=[]\n",
    "duplicate_rows=[]\n",
    "for row in google_data:\n",
    "    name=row[0]\n",
    "    if name in unique_apps:\n",
    "        duplicate_apps.append(name)\n",
    "        duplicate_rows.append(row)\n",
    "    else:\n",
    "        unique_apps.append(name)\n",
    "\n",
    "print('Number of duplicates: ', len(duplicate_apps))\n",
    "print('Duplicate example: ')\n",
    "\n",
    "for row in google_data:\n",
    "    name=row[0]\n",
    "    if name == duplicate_apps[0]:\n",
    "        print(row)"
   ]
  },
  {
   "cell_type": "markdown",
   "metadata": {},
   "source": [
    "Will remove duplicates, keeping only entry with the most user reviews. First, we identify the maximum number of reviews avcailable for each app. Then, we parse through the data set only keeping the rows that correspond to the highest number of reviews for each app. If two rows have the same number of reviews for the same app, only the first encountered is kept."
   ]
  },
  {
   "cell_type": "code",
   "execution_count": 19,
   "metadata": {
    "collapsed": false
   },
   "outputs": [
    {
     "name": "stdout",
     "output_type": "stream",
     "text": [
      "Length of cleaned data:  9659\n"
     ]
    }
   ],
   "source": [
    "reviews_max = {}\n",
    "for row in google_data[1:]:\n",
    "    name = row[0]\n",
    "    n_reviews = float(row[3])\n",
    "    if name in reviews_max and reviews_max[name] < n_reviews:\n",
    "        reviews_max[name] = n_reviews\n",
    "    if name not in reviews_max:\n",
    "        reviews_max[name] = n_reviews\n",
    "\n",
    "android_clean = []\n",
    "already_added= []\n",
    "for row in google_data[1:]:\n",
    "    name=row[0]\n",
    "    n_reviews= float(row[3])\n",
    "    if n_reviews == reviews_max[name] and name not in already_added:\n",
    "        android_clean.append(row)\n",
    "        already_added.append(name)\n",
    "print('Length of cleaned data: ', len(android_clean))    "
   ]
  },
  {
   "cell_type": "markdown",
   "metadata": {},
   "source": [
    "We must also remove apps designed for non-english speaking users. To do this, we can identify non-ascii characters in the app name. To avoid false positives, the app needs to have more than 3 non ascii characters to count as non-english. We create a function to perform this detection."
   ]
  },
  {
   "cell_type": "code",
   "execution_count": 25,
   "metadata": {
    "collapsed": false
   },
   "outputs": [
    {
     "name": "stdout",
     "output_type": "stream",
     "text": [
      "True\n",
      "False\n",
      "True\n",
      "True\n"
     ]
    }
   ],
   "source": [
    "def english(input_string):\n",
    "    count=0\n",
    "    for char in input_string:\n",
    "        if ord(char) >127:\n",
    "            count+=1\n",
    "            if count >3:\n",
    "                return False\n",
    "    return True\n",
    "\n",
    "print(english('Instagram'))\n",
    "print(english('爱奇艺PPS -《欢乐颂2》电视剧热播'))\n",
    "print(english('Docs To Go™ Free Office Suite'))\n",
    "print(english('Instachat 😜'))"
   ]
  },
  {
   "cell_type": "markdown",
   "metadata": {},
   "source": [
    "The function is applied to clean each data set."
   ]
  },
  {
   "cell_type": "code",
   "execution_count": 26,
   "metadata": {
    "collapsed": false
   },
   "outputs": [
    {
     "name": "stdout",
     "output_type": "stream",
     "text": [
      "['Photo Editor & Candy Camera & Grid & ScrapBook', 'ART_AND_DESIGN', '4.1', '159', '19M', '10,000+', 'Free', '0', 'Everyone', 'Art & Design', 'January 7, 2018', '1.0.0', '4.0.3 and up']\n",
      "\n",
      "\n",
      "['U Launcher Lite – FREE Live Cool Themes, Hide Apps', 'ART_AND_DESIGN', '4.7', '87510', '8.7M', '5,000,000+', 'Free', '0', 'Everyone', 'Art & Design', 'August 1, 2018', '1.2.4', '4.0.3 and up']\n",
      "\n",
      "\n",
      "['Sketch - Draw & Paint', 'ART_AND_DESIGN', '4.5', '215644', '25M', '50,000,000+', 'Free', '0', 'Teen', 'Art & Design', 'June 8, 2018', 'Varies with device', '4.2 and up']\n",
      "\n",
      "\n",
      "Number of rows: 9614\n",
      "Number of columns: 13\n",
      "\n",
      "\n",
      "['id', 'track_name', 'size_bytes', 'currency', 'price', 'rating_count_tot', 'rating_count_ver', 'user_rating', 'user_rating_ver', 'ver', 'cont_rating', 'prime_genre', 'sup_devices.num', 'ipadSc_urls.num', 'lang.num', 'vpp_lic']\n",
      "\n",
      "\n",
      "['284882215', 'Facebook', '389879808', 'USD', '0.0', '2974676', '212', '3.5', '3.5', '95.0', '4+', 'Social Networking', '37', '1', '29', '1']\n",
      "\n",
      "\n",
      "['389801252', 'Instagram', '113954816', 'USD', '0.0', '2161558', '1289', '4.5', '4.0', '10.23', '12+', 'Photo & Video', '37', '0', '29', '1']\n",
      "\n",
      "\n",
      "Number of rows: 7198\n",
      "Number of columns: 16\n",
      "\n",
      "\n"
     ]
    }
   ],
   "source": [
    "android_filtered = []\n",
    "apple_filtered = []\n",
    "for row in android_clean:\n",
    "    name=row[0]\n",
    "    if english(name):\n",
    "        android_filtered.append(row)\n",
    "for row in apple_data:\n",
    "    name=row[0]\n",
    "    if english(name):\n",
    "        apple_filtered.append(row)\n",
    "\n",
    "explore_data(android_filtered, 0,3, True)\n",
    "explore_data(apple_filtered, 0,3, True)"
   ]
  },
  {
   "cell_type": "markdown",
   "metadata": {},
   "source": [
    "Last thing to remove is non-free apps. Will filter non free apps from both data sets by identifying prices greater than zero."
   ]
  },
  {
   "cell_type": "code",
   "execution_count": 32,
   "metadata": {
    "collapsed": false
   },
   "outputs": [
    {
     "name": "stdout",
     "output_type": "stream",
     "text": [
      "['Photo Editor & Candy Camera & Grid & ScrapBook', 'ART_AND_DESIGN', '4.1', '159', '19M', '10,000+', 'Free', '0', 'Everyone', 'Art & Design', 'January 7, 2018', '1.0.0', '4.0.3 and up']\n",
      "\n",
      "\n",
      "['U Launcher Lite – FREE Live Cool Themes, Hide Apps', 'ART_AND_DESIGN', '4.7', '87510', '8.7M', '5,000,000+', 'Free', '0', 'Everyone', 'Art & Design', 'August 1, 2018', '1.2.4', '4.0.3 and up']\n",
      "\n",
      "\n",
      "['Sketch - Draw & Paint', 'ART_AND_DESIGN', '4.5', '215644', '25M', '50,000,000+', 'Free', '0', 'Teen', 'Art & Design', 'June 8, 2018', 'Varies with device', '4.2 and up']\n",
      "\n",
      "\n",
      "Number of rows: 8863\n",
      "Number of columns: 13\n",
      "\n",
      "\n",
      "['284882215', 'Facebook', '389879808', 'USD', '0.0', '2974676', '212', '3.5', '3.5', '95.0', '4+', 'Social Networking', '37', '1', '29', '1']\n",
      "\n",
      "\n",
      "['389801252', 'Instagram', '113954816', 'USD', '0.0', '2161558', '1289', '4.5', '4.0', '10.23', '12+', 'Photo & Video', '37', '0', '29', '1']\n",
      "\n",
      "\n",
      "['529479190', 'Clash of Clans', '116476928', 'USD', '0.0', '2130805', '579', '4.5', '4.5', '9.24.12', '9+', 'Games', '38', '5', '18', '1']\n",
      "\n",
      "\n",
      "Number of rows: 4056\n",
      "Number of columns: 16\n",
      "\n",
      "\n"
     ]
    }
   ],
   "source": [
    "android_free = []\n",
    "for row in android_filtered:\n",
    "    if (row[6])=='Free':\n",
    "        android_free.append(row)\n",
    "\n",
    "apple_free = []\n",
    "for row in apple_filtered[1:]:\n",
    "    if float(row[4])<=0:\n",
    "        apple_free.append(row)\n",
    "\n",
    "explore_data(android_free, 0,3, True)\n",
    "explore_data(apple_free, 0,3, True)\n",
    "    "
   ]
  },
  {
   "cell_type": "markdown",
   "metadata": {},
   "source": [
    "To find app types that work in both stores, need to identify most common genres in each market. Will do this by generating frequency tables and sorting them in descending order."
   ]
  },
  {
   "cell_type": "code",
   "execution_count": 39,
   "metadata": {
    "collapsed": false
   },
   "outputs": [
    {
     "name": "stdout",
     "output_type": "stream",
     "text": [
      "% for Category column in android data\n",
      "FAMILY : 18.898792733837304\n",
      "GAME : 9.72582646959269\n",
      "TOOLS : 8.462146000225658\n",
      "BUSINESS : 4.592124562789124\n",
      "LIFESTYLE : 3.9038700214374367\n",
      "PRODUCTIVITY : 3.8925871601038025\n",
      "FINANCE : 3.700778517432021\n",
      "MEDICAL : 3.5315355974275078\n",
      "SPORTS : 3.3961412614238973\n",
      "PERSONALIZATION : 3.317161232088458\n",
      "COMMUNICATION : 3.2381812027530184\n",
      "HEALTH_AND_FITNESS : 3.0802211440821394\n",
      "PHOTOGRAPHY : 2.944826808078529\n",
      "NEWS_AND_MAGAZINES : 2.798149610741284\n",
      "SOCIAL : 2.6627552747376737\n",
      "TRAVEL_AND_LOCAL : 2.3355522960622817\n",
      "SHOPPING : 2.245289405393208\n",
      "BOOKS_AND_REFERENCE : 2.1437436533905\n",
      "DATING : 1.8616721200496447\n",
      "VIDEO_PLAYERS : 1.7939749520478394\n",
      "MAPS_AND_NAVIGATION : 1.399074805370642\n",
      "FOOD_AND_DRINK : 1.2411147466997632\n",
      "EDUCATION : 1.1621347173643237\n",
      "ENTERTAINMENT : 0.9590432133589079\n",
      "LIBRARIES_AND_DEMO : 0.9364774906916394\n",
      "AUTO_AND_VEHICLES : 0.9251946293580052\n",
      "HOUSE_AND_HOME : 0.8236488773552973\n",
      "WEATHER : 0.8010831546880289\n",
      "EVENTS : 0.7108202640189553\n",
      "PARENTING : 0.6544059573507842\n",
      "ART_AND_DESIGN : 0.64312309601715\n",
      "COMICS : 0.6205573733498816\n",
      "BEAUTY : 0.5979916506826132\n",
      "\n",
      "% for Genre column in android data\n",
      "Tools : 8.450863138892023\n",
      "Entertainment : 6.070179397495205\n",
      "Education : 5.348076272142616\n",
      "Business : 4.592124562789124\n",
      "Productivity : 3.8925871601038025\n",
      "Lifestyle : 3.8925871601038025\n",
      "Finance : 3.700778517432021\n",
      "Medical : 3.5315355974275078\n",
      "Sports : 3.4638384294257025\n",
      "Personalization : 3.317161232088458\n",
      "Communication : 3.2381812027530184\n",
      "Action : 3.102786866749408\n",
      "Health & Fitness : 3.0802211440821394\n",
      "Photography : 2.944826808078529\n",
      "News & Magazines : 2.798149610741284\n",
      "Social : 2.6627552747376737\n",
      "Travel & Local : 2.3242694347286474\n",
      "Shopping : 2.245289405393208\n",
      "Books & Reference : 2.1437436533905\n",
      "Simulation : 2.0421979013877922\n",
      "Dating : 1.8616721200496447\n",
      "Arcade : 1.8503892587160105\n",
      "Video Players & Editors : 1.771409229380571\n",
      "Casual : 1.7601263680469368\n",
      "Maps & Navigation : 1.399074805370642\n",
      "Food & Drink : 1.2411147466997632\n",
      "Puzzle : 1.128286133363421\n",
      "Racing : 0.9928917973598105\n",
      "Role Playing : 0.9364774906916394\n",
      "Libraries & Demo : 0.9364774906916394\n",
      "Auto & Vehicles : 0.9251946293580052\n",
      "Strategy : 0.9026289066907368\n",
      "House & Home : 0.8236488773552973\n",
      "Weather : 0.8010831546880289\n",
      "Events : 0.7108202640189553\n",
      "Adventure : 0.6769716800180526\n",
      "Comics : 0.6092745120162474\n",
      "Beauty : 0.5979916506826132\n",
      "Art & Design : 0.5979916506826132\n",
      "Parenting : 0.49644589867990524\n",
      "Card : 0.4513144533453684\n",
      "Casino : 0.4287487306781\n",
      "Trivia : 0.4174658693444658\n",
      "Educational;Education : 0.39490014667719736\n",
      "Board : 0.38361728534356315\n",
      "Educational : 0.37233442400992894\n",
      "Education;Education : 0.3384858400090263\n",
      "Word : 0.25950581067358686\n",
      "Casual;Pretend Play : 0.2369400880063184\n",
      "Music : 0.20309150400541578\n",
      "Racing;Action & Adventure : 0.16924292000451316\n",
      "Puzzle;Brain Games : 0.16924292000451316\n",
      "Entertainment;Music & Video : 0.16924292000451316\n",
      "Casual;Brain Games : 0.13539433600361053\n",
      "Casual;Action & Adventure : 0.13539433600361053\n",
      "Arcade;Action & Adventure : 0.12411147466997631\n",
      "Action;Action & Adventure : 0.10154575200270789\n",
      "Educational;Pretend Play : 0.09026289066907368\n",
      "Simulation;Action & Adventure : 0.07898002933543948\n",
      "Parenting;Education : 0.07898002933543948\n",
      "Entertainment;Brain Games : 0.07898002933543948\n",
      "Board;Brain Games : 0.07898002933543948\n",
      "Parenting;Music & Video : 0.06769716800180527\n",
      "Educational;Brain Games : 0.06769716800180527\n",
      "Casual;Creativity : 0.06769716800180527\n",
      "Art & Design;Creativity : 0.06769716800180527\n",
      "Education;Pretend Play : 0.05641430666817105\n",
      "Role Playing;Pretend Play : 0.04513144533453684\n",
      "Education;Creativity : 0.04513144533453684\n",
      "Role Playing;Action & Adventure : 0.03384858400090263\n",
      "Puzzle;Action & Adventure : 0.03384858400090263\n",
      "Entertainment;Creativity : 0.03384858400090263\n",
      "Entertainment;Action & Adventure : 0.03384858400090263\n",
      "Educational;Creativity : 0.03384858400090263\n",
      "Educational;Action & Adventure : 0.03384858400090263\n",
      "Education;Music & Video : 0.03384858400090263\n",
      "Education;Brain Games : 0.03384858400090263\n",
      "Education;Action & Adventure : 0.03384858400090263\n",
      "Adventure;Action & Adventure : 0.03384858400090263\n",
      "Video Players & Editors;Music & Video : 0.02256572266726842\n",
      "Sports;Action & Adventure : 0.02256572266726842\n",
      "Simulation;Pretend Play : 0.02256572266726842\n",
      "Puzzle;Creativity : 0.02256572266726842\n",
      "Music;Music & Video : 0.02256572266726842\n",
      "Entertainment;Pretend Play : 0.02256572266726842\n",
      "Casual;Education : 0.02256572266726842\n",
      "Board;Action & Adventure : 0.02256572266726842\n",
      "Video Players & Editors;Creativity : 0.01128286133363421\n",
      "Trivia;Education : 0.01128286133363421\n",
      "Travel & Local;Action & Adventure : 0.01128286133363421\n",
      "Tools;Education : 0.01128286133363421\n",
      "Strategy;Education : 0.01128286133363421\n",
      "Strategy;Creativity : 0.01128286133363421\n",
      "Strategy;Action & Adventure : 0.01128286133363421\n",
      "Simulation;Education : 0.01128286133363421\n",
      "Role Playing;Brain Games : 0.01128286133363421\n",
      "Racing;Pretend Play : 0.01128286133363421\n",
      "Puzzle;Education : 0.01128286133363421\n",
      "Parenting;Brain Games : 0.01128286133363421\n",
      "Music & Audio;Music & Video : 0.01128286133363421\n",
      "Lifestyle;Pretend Play : 0.01128286133363421\n",
      "Lifestyle;Education : 0.01128286133363421\n",
      "Health & Fitness;Education : 0.01128286133363421\n",
      "Health & Fitness;Action & Adventure : 0.01128286133363421\n",
      "Entertainment;Education : 0.01128286133363421\n",
      "Communication;Creativity : 0.01128286133363421\n",
      "Comics;Creativity : 0.01128286133363421\n",
      "Casual;Music & Video : 0.01128286133363421\n",
      "Card;Action & Adventure : 0.01128286133363421\n",
      "Books & Reference;Education : 0.01128286133363421\n",
      "Art & Design;Pretend Play : 0.01128286133363421\n",
      "Art & Design;Action & Adventure : 0.01128286133363421\n",
      "Arcade;Pretend Play : 0.01128286133363421\n",
      "Adventure;Education : 0.01128286133363421\n",
      "\n",
      "% for Prime Genre column in apple data\n",
      "Games : 55.64595660749507\n",
      "Entertainment : 8.234714003944774\n",
      "Photo & Video : 4.117357001972387\n",
      "Social Networking : 3.525641025641026\n",
      "Education : 3.2544378698224854\n",
      "Shopping : 2.983234714003945\n",
      "Utilities : 2.6873767258382646\n",
      "Lifestyle : 2.3175542406311638\n",
      "Finance : 2.0710059171597632\n",
      "Sports : 1.9477317554240632\n",
      "Health & Fitness : 1.873767258382643\n",
      "Music : 1.6518737672583828\n",
      "Book : 1.6272189349112427\n",
      "Productivity : 1.5285996055226825\n",
      "News : 1.4299802761341223\n",
      "Travel : 1.3806706114398422\n",
      "Food & Drink : 1.0601577909270217\n",
      "Weather : 0.7642998027613412\n",
      "Reference : 0.4930966469428008\n",
      "Navigation : 0.4930966469428008\n",
      "Business : 0.4930966469428008\n",
      "Catalogs : 0.22189349112426038\n",
      "Medical : 0.19723865877712032\n"
     ]
    }
   ],
   "source": [
    "def freq_table(dataset, index):\n",
    "    output_dict={}\n",
    "    for row in dataset:\n",
    "        key = row[index]\n",
    "        if key in output_dict:\n",
    "            output_dict[key]+=1\n",
    "        else:\n",
    "            output_dict[key]=1\n",
    "    for key in output_dict:\n",
    "        output_dict[key] *= (100/len(dataset))\n",
    "    return output_dict\n",
    "                             \n",
    "\n",
    "def display_table(dataset, index):\n",
    "    table = freq_table(dataset, index)\n",
    "    table_display = []\n",
    "    for key in table:\n",
    "        key_val_as_tuple = (table[key], key)\n",
    "        table_display.append(key_val_as_tuple)\n",
    "\n",
    "    table_sorted = sorted(table_display, reverse = True)\n",
    "    for entry in table_sorted:\n",
    "        print(entry[1], ':', entry[0])\n",
    "                     \n",
    "print('% for Category column in android data')\n",
    "display_table(android_free, 1)\n",
    "print('\\n% for Genre column in android data')\n",
    "display_table(android_free, 9)           \n",
    "print('\\n% for Prime Genre column in apple data')\n",
    "display_table(apple_free, 11)    "
   ]
  },
  {
   "cell_type": "markdown",
   "metadata": {},
   "source": [
    "Apple data shows mostly games, followed by entertainment. Everything else shares small market share of less than 3%. Most apps used for entertainment rather than practical.\n",
    "\n",
    "For android store, family and games are still prevalent, but tools and productivity have a bigger place.\n",
    "\n",
    "Will now try to determine popularity of each genre, based on the number of installs for android data and the number of reviews for apple data."
   ]
  },
  {
   "cell_type": "code",
   "execution_count": 42,
   "metadata": {
    "collapsed": false
   },
   "outputs": [
    {
     "name": "stdout",
     "output_type": "stream",
     "text": [
      "Genre:  Education  Avg ratings: 6266.333333333333\n",
      "Genre:  Lifestyle  Avg ratings: 8978.308510638299\n",
      "Genre:  Finance  Avg ratings: 13522.261904761905\n",
      "Genre:  Travel  Avg ratings: 20216.01785714286\n",
      "Genre:  Reference  Avg ratings: 67447.9\n",
      "Genre:  Entertainment  Avg ratings: 10822.961077844311\n",
      "Genre:  Book  Avg ratings: 8498.333333333334\n",
      "Genre:  Photo & Video  Avg ratings: 27249.892215568863\n",
      "Genre:  Health & Fitness  Avg ratings: 19952.315789473683\n",
      "Genre:  Business  Avg ratings: 6367.8\n",
      "Genre:  Music  Avg ratings: 56482.02985074627\n",
      "Genre:  Social Networking  Avg ratings: 53078.195804195806\n",
      "Genre:  Weather  Avg ratings: 47220.93548387097\n",
      "Genre:  Shopping  Avg ratings: 18746.677685950413\n",
      "Genre:  News  Avg ratings: 15892.724137931034\n",
      "Genre:  Food & Drink  Avg ratings: 20179.093023255813\n",
      "Genre:  Games  Avg ratings: 18924.68896765618\n",
      "Genre:  Medical  Avg ratings: 459.75\n",
      "Genre:  Sports  Avg ratings: 20128.974683544304\n",
      "Genre:  Catalogs  Avg ratings: 1779.5555555555557\n",
      "Genre:  Navigation  Avg ratings: 25972.05\n",
      "Genre:  Productivity  Avg ratings: 19053.887096774193\n",
      "Genre:  Utilities  Avg ratings: 14010.100917431193\n"
     ]
    }
   ],
   "source": [
    "frequency_genres_apple = freq_table(apple_free, -5)\n",
    "for genre in frequency_genres_apple:\n",
    "    total=0\n",
    "    len_genre=0\n",
    "    for row in apple_free:\n",
    "        genre_app = row[-5]\n",
    "        if genre_app == genre:\n",
    "            n_ratings = float(row[5])\n",
    "            total+=n_ratings\n",
    "            len_genre+=1\n",
    "    avg_ratings_genre = total/len_genre\n",
    "    print('Genre: ', genre, ' Avg ratings:', avg_ratings_genre)"
   ]
  },
  {
   "cell_type": "markdown",
   "metadata": {},
   "source": [
    "Can recommend music app for apple store. Let's do android now, based on number of installs\n"
   ]
  },
  {
   "cell_type": "code",
   "execution_count": 45,
   "metadata": {
    "collapsed": false
   },
   "outputs": [
    {
     "name": "stdout",
     "output_type": "stream",
     "text": [
      "Category:  BUSINESS , Avg Installs:  1712290.1474201474\n",
      "Category:  WEATHER , Avg Installs:  5074486.197183099\n",
      "Category:  EDUCATION , Avg Installs:  1833495.145631068\n",
      "Category:  SOCIAL , Avg Installs:  23253652.127118643\n",
      "Category:  TOOLS , Avg Installs:  10801391.298666667\n",
      "Category:  ART_AND_DESIGN , Avg Installs:  1986335.0877192982\n",
      "Category:  PERSONALIZATION , Avg Installs:  5201482.6122448975\n",
      "Category:  FAMILY , Avg Installs:  3697848.1731343283\n",
      "Category:  PRODUCTIVITY , Avg Installs:  16787331.344927534\n",
      "Category:  TRAVEL_AND_LOCAL , Avg Installs:  13984077.710144928\n",
      "Category:  GAME , Avg Installs:  15588015.603248259\n",
      "Category:  FOOD_AND_DRINK , Avg Installs:  1924897.7363636363\n",
      "Category:  NEWS_AND_MAGAZINES , Avg Installs:  9549178.467741935\n",
      "Category:  PARENTING , Avg Installs:  542603.6206896552\n",
      "Category:  DATING , Avg Installs:  854028.8303030303\n",
      "Category:  MEDICAL , Avg Installs:  120550.61980830671\n",
      "Category:  MAPS_AND_NAVIGATION , Avg Installs:  4056941.7741935486\n",
      "Category:  BOOKS_AND_REFERENCE , Avg Installs:  8767811.894736841\n",
      "Category:  FINANCE , Avg Installs:  1387692.475609756\n",
      "Category:  EVENTS , Avg Installs:  253542.22222222222\n",
      "Category:  PHOTOGRAPHY , Avg Installs:  17840110.40229885\n",
      "Category:  BEAUTY , Avg Installs:  513151.88679245283\n",
      "Category:  HEALTH_AND_FITNESS , Avg Installs:  4188821.9853479853\n",
      "Category:  SPORTS , Avg Installs:  3638640.1428571427\n",
      "Category:  AUTO_AND_VEHICLES , Avg Installs:  647317.8170731707\n",
      "Category:  LIBRARIES_AND_DEMO , Avg Installs:  638503.734939759\n",
      "Category:  HOUSE_AND_HOME , Avg Installs:  1331540.5616438356\n",
      "Category:  COMICS , Avg Installs:  817657.2727272727\n",
      "Category:  ENTERTAINMENT , Avg Installs:  11640705.88235294\n",
      "Category:  SHOPPING , Avg Installs:  7036877.311557789\n",
      "Category:  VIDEO_PLAYERS , Avg Installs:  24727872.452830188\n",
      "Category:  COMMUNICATION , Avg Installs:  38456119.167247385\n",
      "Category:  LIFESTYLE , Avg Installs:  1437816.2687861272\n"
     ]
    }
   ],
   "source": [
    "frequency_category_android = freq_table(android_free, 1)\n",
    "for category in frequency_category_android:\n",
    "    total = 0\n",
    "    len_category = 0\n",
    "    for row in android_free:\n",
    "        category_app = row[1]\n",
    "        if category_app == category:\n",
    "            n_installs = row[5]\n",
    "            n_installs = n_installs.replace('+','')\n",
    "            n_installs = n_installs.replace(',','')\n",
    "            n_installs = float(n_installs)\n",
    "            total += n_installs\n",
    "            len_category +=1\n",
    "    avg_n_installs = total/len_category\n",
    "    print('Category: ', category, ', Avg Installs: ', avg_n_installs)\n",
    "            "
   ]
  },
  {
   "cell_type": "markdown",
   "metadata": {},
   "source": [
    "Social apps have most installs"
   ]
  }
 ],
 "metadata": {
  "kernelspec": {
   "display_name": "Python 3",
   "language": "python",
   "name": "python3"
  },
  "language_info": {
   "codemirror_mode": {
    "name": "ipython",
    "version": 3
   },
   "file_extension": ".py",
   "mimetype": "text/x-python",
   "name": "python",
   "nbconvert_exporter": "python",
   "pygments_lexer": "ipython3",
   "version": "3.4.3"
  }
 },
 "nbformat": 4,
 "nbformat_minor": 2
}
